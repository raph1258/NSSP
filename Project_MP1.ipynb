{
 "cells": [
  {
   "cell_type": "code",
   "execution_count": 1,
   "id": "e8288d97-5185-4918-ac3b-f1f9c58c4bf2",
   "metadata": {},
   "outputs": [
    {
     "name": "stderr",
     "output_type": "stream",
     "text": [
      "Gtk-Message: 14:24:55.635: Failed to load module \"canberra-gtk-module\"\n"
     ]
    }
   ],
   "source": [
    "%gui wx\n",
    "import sys\n",
    "import os\n",
    "\n",
    "\n",
    "notebook_dir = os.path.abspath(\"\")\n",
    "parent_dir = os.path.abspath(os.path.join(notebook_dir, '..'))\n",
    "sys.path.append(parent_dir)\n",
    "sys.path.append('.')\n",
    "from utils import loadFSL, FSLeyesServer, mkdir_no_exist, interactive_MCQ\n",
    "\n",
    "\n",
    "\n",
    "\n",
    "\n",
    "import lmod\n",
    "await lmod.purge(force=True)\n",
    "await lmod.load('fsl/6.0.7.4')\n",
    "await lmod.load('freesurfer/7.4.1')\n",
    "await lmod.list()\n",
    "\n",
    "\n",
    "loadFSL()\n",
    "\n",
    "\n",
    "import fsl.wrappers\n",
    "from fsl.wrappers import fslmaths\n",
    "\n",
    "import mne_nirs\n",
    "import nilearn\n",
    "from nilearn.datasets import fetch_development_fmri\n",
    "\n",
    "import mne\n",
    "import mne_nirs\n",
    "import dipy\n",
    "from dipy.data import fetch_bundles_2_subjects, read_bundles_2_subjects\n",
    "import xml.etree.ElementTree as ET\n",
    "import os.path as op\n",
    "import nibabel as nib\n",
    "import glob\n",
    "\n",
    "import ants\n",
    "\n",
    "import openneuro\n",
    "from mne.datasets import sample\n",
    "from mne_bids import BIDSPath, read_raw_bids, print_dir_tree, make_report\n",
    "\n",
    "\n",
    "import requests\n",
    "import urllib.request\n",
    "from tqdm import tqdm\n",
    "\n",
    "\n",
    "from fsl.wrappers import fast, bet\n",
    "from fsl.wrappers.misc import fslroi\n",
    "from fsl.wrappers import flirt\n",
    "from fsl.wrappers import mcflirt\n",
    "\n",
    "\n",
    "\n",
    "import glob\n",
    "import pandas as pd\n",
    "import numpy as np\n",
    "import json\n",
    "import subprocess"
   ]
  },
  {
   "cell_type": "code",
   "execution_count": 2,
   "id": "146bb856-0d81-4bd6-a6eb-954b06f75486",
   "metadata": {},
   "outputs": [],
   "source": [
    "def get_json_from_file(fname):\n",
    "    f = open(fname)\n",
    "    data = json.load(f)\n",
    "    f.close()\n",
    "    return data"
   ]
  },
  {
   "cell_type": "code",
   "execution_count": 3,
   "id": "7e1952c8-fa34-438b-b258-97e14a58918e",
   "metadata": {},
   "outputs": [],
   "source": [
    "bids_root='data_mp1'\n",
    "dataset_id = 'ds000171'\n",
    "subject = '01'\n",
    "\n",
    "deriv_root = op.join(bids_root, 'derivatives')\n",
    "preproc_root = op.join(bids_root, 'derivatives','preprocessed_data')"
   ]
  },
  {
   "cell_type": "code",
   "execution_count": null,
   "id": "08004063-de94-487c-b26a-3c176bb65b38",
   "metadata": {},
   "outputs": [],
   "source": [
    "#subprocess.run([\"openneuro-py\", \"download\", \"--dataset\", dataset_id, \"--target-dir\", bids_root, \"--include\", 'sub-control{}'.format(subject)], check=True)"
   ]
  },
  {
   "cell_type": "code",
   "execution_count": 4,
   "id": "11c2fe66-2e9a-49e1-9dc1-4f5aa333a78d",
   "metadata": {},
   "outputs": [
    {
     "name": "stderr",
     "output_type": "stream",
     "text": [
      "14:25:06: Debug: Adding duplicate image handler for 'Windows bitmap file'\n",
      "14:25:06: Debug: Adding duplicate animation handler for '1' type\n",
      "14:25:06: Debug: Adding duplicate animation handler for '2' type\n",
      "14:25:06: Debug: Adding duplicate image handler for 'Windows bitmap file'\n",
      "14:25:06: Debug: Adding duplicate animation handler for '1' type\n",
      "14:25:06: Debug: Adding duplicate animation handler for '2' type\n",
      "\n",
      "(ipykernel_launcher.py:2743): Gtk-CRITICAL **: 14:25:06.861: gtk_window_resize: assertion 'height > 0' failed\n"
     ]
    }
   ],
   "source": [
    "fsleyesDisplay = FSLeyesServer()"
   ]
  },
  {
   "cell_type": "code",
   "execution_count": 10,
   "id": "bfe8b135-b5bc-407f-97e7-20d70a2ab637",
   "metadata": {},
   "outputs": [],
   "source": [
    "from nilearn.image import concat_imgs\n",
    "\n",
    "# Define the paths to your gzipped NIfTI files\n",
    "file_paths = [\n",
    "    'sub-control01_task-music_run-1_bold.nii.gz',\n",
    "    'sub-control01_task-music_run-2_bold.nii.gz',\n",
    "    'sub-control01_task-music_run-3_bold.nii.gz'\n",
    "\n",
    "]\n",
    "\n",
    "def standardize(img):\n",
    "    data = img.get_fdata()\n",
    "    mean = np.mean(data)\n",
    "    std = np.std(data)\n",
    "    standardized_data = (data - mean) / std\n",
    "    return nib.Nifti1Image(standardized_data, img.affine)\n",
    "\n",
    "# Initialize a list to hold standardized data\n",
    "standardized_data_list = []\n",
    "\n",
    "# Process each file\n",
    "for file_path in file_paths:\n",
    "    img = nib.load(os.path.join(bids_root, 'sub-control01', 'func', file_path))\n",
    "    \n",
    "    standardized_data = standardize(img)\n",
    "    standardized_data_list.append(standardized_data)\n",
    "\n",
    "\n",
    "concatenated_img = concat_imgs(standardized_data_list)\n",
    "\n",
    "\n",
    "# Save the concatenated image as a gzipped NIfTI file\n",
    "nib.save(concatenated_img, os.path.join(bids_root, 'sub-control01', 'func', 'sub-control01_task-music_concatenated_bold.nii.gz'))"
   ]
  },
  {
   "cell_type": "code",
   "execution_count": 5,
   "id": "6d65a229-d818-4bfa-9ba9-7f093ebd5203",
   "metadata": {},
   "outputs": [
    {
     "name": "stderr",
     "output_type": "stream",
     "text": [
      "Processed data will be saved as data_mp1/derivatives/preprocessed_data/sub-control01/func/sub-control01_task-music_concatenated_bold_moco\n",
      "\n",
      "McFLIRT v 2.0 - FMRI motion correction\n",
      "\n",
      "Reading time series... \n",
      "first iteration - 8mm scaling, set tolerance\n",
      "Rescaling reference volume [157] to 8 mm pixels\n",
      "Registering volumes ... [158][159][160][161][162][163][164][165][166][167][168][169][170][171][172][173][174][175][176][177][178][179][180][181][182][183][184][185][186][187][188][189][190][191][192][193][194][195][196][197][198][199][200][201][202][203][204][205][206][207][208][209][210][211][212][213][214][215][216][217][218][219][220][221][222][223][224][225][226][227][228][229][230][231][232][233][234][235][236][237][238][239][240][241][242][243][244][245][246][247][248][249][250][251][252][253][254][255][256][257][258][259][260][261][262][263][264][265][266][267][268][269][270][271][272][273][274][275][276][277][278][279][280][281][282][283][284][285][286][287][288][289][290][291][292][293][294][295][296][297][298][299][300][301][302][303][304][305][306][307][308][309][310][311][312][313][314][156][155][154][153][152][151][150][149][148][147][146][145][144][143][142][141][140][139][138][137][136][135][134][133][132][131][130][129][128][127][126][125][124][123][122][121][120][119][118][117][116][115][114][113][112][111][110][109][108][107][106][105][104][103][102][101][100][99][98][97][96][95][94][93][92][91][90][89][88][87][86][85][84][83][82][81][80][79][78][77][76][75][74][73][72][71][70][69][68][67][66][65][64][63][62][61][60][59][58][57][56][55][54][53][52][51][50][49][48][47][46][45][44][43][42][41][40][39][38][37][36][35][34][33][32][31][30][29][28][27][26][25][24][23][22][21][20][19][18][17][16][15][14][13][12][11][10][9][8][7][6][5][4][3][2][1][0]\n",
      "second iteration - drop to 4mm scaling\n",
      "Rescaling reference volume [157] to 4 mm pixels\n",
      "Registering volumes ... [158][159][160][161][162][163][164][165][166][167][168][169][170][171][172][173][174][175][176][177][178][179][180][181][182][183][184][185][186][187][188][189][190][191][192][193][194][195][196][197][198][199][200][201][202][203][204][205][206][207][208][209][210][211][212][213][214][215][216][217][218][219][220][221][222][223][224][225][226][227][228][229][230][231][232][233][234][235][236][237][238][239][240][241][242][243][244][245][246][247][248][249][250][251][252][253][254][255][256][257][258][259][260][261][262][263][264][265][266][267][268][269][270][271][272][273][274][275][276][277][278][279][280][281][282][283][284][285][286][287][288][289][290][291][292][293][294][295][296][297][298][299][300][301][302][303][304][305][306][307][308][309][310][311][312][313][314][156][155][154][153][152][151][150][149][148][147][146][145][144][143][142][141][140][139][138][137][136][135][134][133][132][131][130][129][128][127][126][125][124][123][122][121][120][119][118][117][116][115][114][113][112][111][110][109][108][107][106][105][104][103][102][101][100][99][98][97][96][95][94][93][92][91][90][89][88][87][86][85][84][83][82][81][80][79][78][77][76][75][74][73][72][71][70][69][68][67][66][65][64][63][62][61][60][59][58][57][56][55][54][53][52][51][50][49][48][47][46][45][44][43][42][41][40][39][38][37][36][35][34][33][32][31][30][29][28][27][26][25][24][23][22][21][20][19][18][17][16][15][14][13][12][11][10][9][8][7][6][5][4][3][2][1][0]\n",
      "third iteration - 4mm scaling, eighth tolerance\n"
     ]
    },
    {
     "name": "stdout",
     "output_type": "stream",
     "text": [
      "refnum = 157\n",
      "Original_refvol = -1\n"
     ]
    },
    {
     "name": "stderr",
     "output_type": "stream",
     "text": [
      "Registering volumes ... [158][159][160][161][162][163][164][165][166][167][168][169][170][171][172][173][174][175][176][177][178][179][180][181][182][183][184][185][186][187][188][189][190][191][192][193][194][195][196][197][198][199][200][201][202][203][204][205][206][207][208][209][210][211][212][213][214][215][216][217][218][219][220][221][222][223][224][225][226][227][228][229][230][231][232][233][234][235][236][237][238][239][240][241][242][243][244][245][246][247][248][249][250][251][252][253][254][255][256][257][258][259][260][261][262][263][264][265][266][267][268][269][270][271][272][273][274][275][276][277][278][279][280][281][282][283][284][285][286][287][288][289][290][291][292][293][294][295][296][297][298][299][300][301][302][303][304][305][306][307][308][309][310][311][312][313][314][156][155][154][153][152][151][150][149][148][147][146][145][144][143][142][141][140][139][138][137][136][135][134][133][132][131][130][129][128][127][126][125][124][123][122][121][120][119][118][117][116][115][114][113][112][111][110][109][108][107][106][105][104][103][102][101][100][99][98][97][96][95][94][93][92][91][90][89][88][87][86][85][84][83][82][81][80][79][78][77][76][75][74][73][72][71][70][69][68][67][66][65][64][63][62][61][60][59][58][57][56][55][54][53][52][51][50][49][48][47][46][45][44][43][42][41][40][39][38][37][36][35][34][33][32][31][30][29][28][27][26][25][24][23][22][21][20][19][18][17][16][15][14][13][12][11][10][9][8][7][6][5][4][3][2][1][0]\n",
      "Saving motion corrected time series... \n"
     ]
    },
    {
     "data": {
      "text/plain": [
       "{}"
      ]
     },
     "execution_count": 5,
     "metadata": {},
     "output_type": "execute_result"
    }
   ],
   "source": [
    "#mkdir_no_exist(bids_root)\n",
    "mkdir_no_exist(deriv_root)\n",
    "mkdir_no_exist(preproc_root)\n",
    "mkdir_no_exist(os.path.join(preproc_root, 'sub-control01'))\n",
    "mkdir_no_exist(os.path.join(preproc_root, 'sub-control01', 'func'))\n",
    "\n",
    "path_original_data = os.path.join(bids_root, 'sub-control01', 'func', 'sub-control01_task-music_concatenated_bold')\n",
    "path_moco_data = os.path.join(preproc_root, 'sub-control01', 'func', 'sub-control01_task-music_concatenated_bold_moco')\n",
    "mcflirt(infile=path_original_data,o=path_moco_data, plots=True, report=True, dof=6, mats=True)"
   ]
  },
  {
   "cell_type": "code",
   "execution_count": null,
   "id": "22a519a3-de0f-4d23-9779-178d42a7dc24",
   "metadata": {},
   "outputs": [],
   "source": [
    "fsleyesDisplay.show()\n",
    "fsleyesDisplay.resetOverlays()\n",
    "fsleyesDisplay.load(path_original_data)\n",
    "fsleyesDisplay.load(path_moco_data)"
   ]
  },
  {
   "cell_type": "code",
   "execution_count": 6,
   "id": "cdd42b8e-9ce9-4410-adde-6603187f8f38",
   "metadata": {},
   "outputs": [
    {
     "data": {
      "text/html": [
       "<div>\n",
       "<style scoped>\n",
       "    .dataframe tbody tr th:only-of-type {\n",
       "        vertical-align: middle;\n",
       "    }\n",
       "\n",
       "    .dataframe tbody tr th {\n",
       "        vertical-align: top;\n",
       "    }\n",
       "\n",
       "    .dataframe thead th {\n",
       "        text-align: right;\n",
       "    }\n",
       "</style>\n",
       "<table border=\"1\" class=\"dataframe\">\n",
       "  <thead>\n",
       "    <tr style=\"text-align: right;\">\n",
       "      <th></th>\n",
       "      <th>Rotation x</th>\n",
       "      <th>Rotation y</th>\n",
       "      <th>Rotation z</th>\n",
       "      <th>Translation x</th>\n",
       "      <th>Translation y</th>\n",
       "      <th>Translation z</th>\n",
       "    </tr>\n",
       "  </thead>\n",
       "  <tbody>\n",
       "    <tr>\n",
       "      <th>0</th>\n",
       "      <td>-0.003267</td>\n",
       "      <td>0.002930</td>\n",
       "      <td>5.552720e-07</td>\n",
       "      <td>-0.059817</td>\n",
       "      <td>-0.518985</td>\n",
       "      <td>-0.470659</td>\n",
       "    </tr>\n",
       "    <tr>\n",
       "      <th>1</th>\n",
       "      <td>-0.003333</td>\n",
       "      <td>0.002930</td>\n",
       "      <td>-1.600820e-04</td>\n",
       "      <td>-0.066681</td>\n",
       "      <td>-0.490942</td>\n",
       "      <td>-0.467984</td>\n",
       "    </tr>\n",
       "    <tr>\n",
       "      <th>2</th>\n",
       "      <td>-0.003147</td>\n",
       "      <td>0.002880</td>\n",
       "      <td>-1.880300e-04</td>\n",
       "      <td>-0.053630</td>\n",
       "      <td>-0.470922</td>\n",
       "      <td>-0.446214</td>\n",
       "    </tr>\n",
       "    <tr>\n",
       "      <th>3</th>\n",
       "      <td>-0.003264</td>\n",
       "      <td>0.003291</td>\n",
       "      <td>-3.337180e-04</td>\n",
       "      <td>-0.067658</td>\n",
       "      <td>-0.483699</td>\n",
       "      <td>-0.463707</td>\n",
       "    </tr>\n",
       "    <tr>\n",
       "      <th>4</th>\n",
       "      <td>-0.002729</td>\n",
       "      <td>0.003120</td>\n",
       "      <td>-3.183150e-04</td>\n",
       "      <td>-0.073350</td>\n",
       "      <td>-0.470581</td>\n",
       "      <td>-0.494909</td>\n",
       "    </tr>\n",
       "    <tr>\n",
       "      <th>...</th>\n",
       "      <td>...</td>\n",
       "      <td>...</td>\n",
       "      <td>...</td>\n",
       "      <td>...</td>\n",
       "      <td>...</td>\n",
       "      <td>...</td>\n",
       "    </tr>\n",
       "    <tr>\n",
       "      <th>310</th>\n",
       "      <td>0.008946</td>\n",
       "      <td>-0.000008</td>\n",
       "      <td>-2.131270e-03</td>\n",
       "      <td>-0.087116</td>\n",
       "      <td>0.400872</td>\n",
       "      <td>0.237711</td>\n",
       "    </tr>\n",
       "    <tr>\n",
       "      <th>311</th>\n",
       "      <td>0.009100</td>\n",
       "      <td>-0.000159</td>\n",
       "      <td>-2.114960e-03</td>\n",
       "      <td>-0.084539</td>\n",
       "      <td>0.374362</td>\n",
       "      <td>0.217879</td>\n",
       "    </tr>\n",
       "    <tr>\n",
       "      <th>312</th>\n",
       "      <td>0.009154</td>\n",
       "      <td>-0.000425</td>\n",
       "      <td>-1.901570e-03</td>\n",
       "      <td>-0.085075</td>\n",
       "      <td>0.404540</td>\n",
       "      <td>0.224777</td>\n",
       "    </tr>\n",
       "    <tr>\n",
       "      <th>313</th>\n",
       "      <td>0.008975</td>\n",
       "      <td>-0.000425</td>\n",
       "      <td>-2.162820e-03</td>\n",
       "      <td>-0.103438</td>\n",
       "      <td>0.370850</td>\n",
       "      <td>0.211481</td>\n",
       "    </tr>\n",
       "    <tr>\n",
       "      <th>314</th>\n",
       "      <td>0.009084</td>\n",
       "      <td>-0.000461</td>\n",
       "      <td>-2.443050e-03</td>\n",
       "      <td>-0.134170</td>\n",
       "      <td>0.358804</td>\n",
       "      <td>0.213392</td>\n",
       "    </tr>\n",
       "  </tbody>\n",
       "</table>\n",
       "<p>315 rows × 6 columns</p>\n",
       "</div>"
      ],
      "text/plain": [
       "     Rotation x  Rotation y    Rotation z  Translation x  Translation y  \\\n",
       "0     -0.003267    0.002930  5.552720e-07      -0.059817      -0.518985   \n",
       "1     -0.003333    0.002930 -1.600820e-04      -0.066681      -0.490942   \n",
       "2     -0.003147    0.002880 -1.880300e-04      -0.053630      -0.470922   \n",
       "3     -0.003264    0.003291 -3.337180e-04      -0.067658      -0.483699   \n",
       "4     -0.002729    0.003120 -3.183150e-04      -0.073350      -0.470581   \n",
       "..          ...         ...           ...            ...            ...   \n",
       "310    0.008946   -0.000008 -2.131270e-03      -0.087116       0.400872   \n",
       "311    0.009100   -0.000159 -2.114960e-03      -0.084539       0.374362   \n",
       "312    0.009154   -0.000425 -1.901570e-03      -0.085075       0.404540   \n",
       "313    0.008975   -0.000425 -2.162820e-03      -0.103438       0.370850   \n",
       "314    0.009084   -0.000461 -2.443050e-03      -0.134170       0.358804   \n",
       "\n",
       "     Translation z  \n",
       "0        -0.470659  \n",
       "1        -0.467984  \n",
       "2        -0.446214  \n",
       "3        -0.463707  \n",
       "4        -0.494909  \n",
       "..             ...  \n",
       "310       0.237711  \n",
       "311       0.217879  \n",
       "312       0.224777  \n",
       "313       0.211481  \n",
       "314       0.213392  \n",
       "\n",
       "[315 rows x 6 columns]"
      ]
     },
     "execution_count": 6,
     "metadata": {},
     "output_type": "execute_result"
    }
   ],
   "source": [
    "def load_mot_params_fsl_6_dof(path):\n",
    "    return pd.read_csv(path, sep='  ', header=None, \n",
    "            engine='python', names=['Rotation x', 'Rotation y', 'Rotation z','Translation x', 'Translation y', 'Translation z'])\n",
    "\n",
    "mot_params = load_mot_params_fsl_6_dof(op.join(preproc_root, 'sub-control01', 'func', 'sub-control01_task-music_concatenated_bold_moco.par'))\n",
    "mot_params"
   ]
  },
  {
   "cell_type": "code",
   "execution_count": 7,
   "id": "4d5381cb-522c-418f-9032-a27767228907",
   "metadata": {},
   "outputs": [],
   "source": [
    "def compute_FD_power(mot_params):\n",
    "    framewise_diff = mot_params.diff().iloc[1:]\n",
    "\n",
    "    rot_params = framewise_diff[['Rotation x', 'Rotation y', 'Rotation z']]\n",
    "    # Estimating displacement on a 50mm radius sphere\n",
    "    # To know this one, we can remember the definition of the radian!\n",
    "    # Indeed, let the radian be theta, the arc length be s and the radius be r.\n",
    "    # Then theta = s / r\n",
    "    # We want to determine here s, for a sphere of 50mm radius and knowing theta. Easy enough!\n",
    "    \n",
    "    # Another way to think about it is through the line integral along the circle.\n",
    "    # Integrating from 0 to theta with radius 50 will give you, unsurprisingly, r0 theta.\n",
    "    converted_rots = rot_params*50\n",
    "    trans_params = framewise_diff[['Translation x', 'Translation y', 'Translation z']]\n",
    "    fd = converted_rots.abs().sum(axis=1) + trans_params.abs().sum(axis=1)\n",
    "    return fd\n",
    "\n",
    "fd = compute_FD_power(mot_params).to_numpy()"
   ]
  },
  {
   "cell_type": "code",
   "execution_count": 8,
   "id": "be752153-b920-49e8-a852-64b9feabb14a",
   "metadata": {},
   "outputs": [
    {
     "data": {
      "image/png": "[encoded data removed]",
      "text/plain": [
       "<Figure size 640x480 with 1 Axes>"
      ]
     },
     "metadata": {},
     "output_type": "display_data"
    }
   ],
   "source": [
    "threshold = np.quantile(fd,0.75) + 1.5*(np.quantile(fd,0.75) - np.quantile(fd,0.25))\n",
    "#%matplotlib inline\n",
    "import matplotlib.pyplot as plt\n",
    "plt.plot(list(range(1, fd.size+1)), fd)\n",
    "plt.xlabel('Volume')\n",
    "plt.ylabel('FD displacement (mm)')\n",
    "plt.hlines(threshold, 0, 370,colors='black', linestyles='dashed', label='FD threshold')\n",
    "plt.legend()\n",
    "plt.show()"
   ]
  },
  {
   "cell_type": "code",
   "execution_count": null,
   "id": "22178f7c-9c5e-4050-9179-1e7675c48e3a",
   "metadata": {},
   "outputs": [],
   "source": [
    "output_path = op.join(preproc_root, 'sub-control01', 'func', 'sub-control01_task-music_concatenated_bold_moco.nii.gz')\n",
    "\n",
    "cmd = 'fslmaths {} -s {} {}_smoothed-6mm'.format(output_path, 6/2.3548, output_path)\n",
    "subprocess.run(['fslmaths',output_path, '-s', str(6/2.3548), '{}_smoothed-6mm'.format(output_path)])"
   ]
  },
  {
   "cell_type": "code",
   "execution_count": null,
   "id": "4aa69e62-0bcd-4661-968f-a286712e42a2",
   "metadata": {},
   "outputs": [],
   "source": [
    "\n",
    "fsleyesDisplay.resetOverlays()\n",
    "fsleyesDisplay.load(output_path + '_smoothed-6mm')"
   ]
  },
  {
   "cell_type": "code",
   "execution_count": null,
   "id": "1b97af7f-d0c2-4516-b2a2-22fb13ae431b",
   "metadata": {},
   "outputs": [],
   "source": [
    "\n",
    "func_path = op.join(bids_root, 'sub-control01', 'func')\n",
    "\n",
    "\n",
    "\n",
    "evt1=pd.read_csv(op.join(func_path, 'sub-control01_task-music_run-1_events.tsv'), sep='\\t')\n",
    "evt2=pd.read_csv(op.join(func_path, 'sub-control01_task-music_run-2_events.tsv'), sep='\\t')\n",
    "evt3=pd.read_csv(op.join(func_path, 'sub-control01_task-music_run-3_events.tsv'), sep='\\t')\n",
    "\n",
    "\n",
    "evt_concat=pd.concat([evt1,evt2,evt3], ignore_index=True)\n",
    "evt_concat"
   ]
  },
  {
   "cell_type": "code",
   "execution_count": null,
   "id": "475ffc17-d778-4bc1-8542-b680ba9921c6",
   "metadata": {},
   "outputs": [],
   "source": [
    "import numpy as np\n",
    "\n",
    "# Set parameters\n",
    "TR = 3  # Repetition time (in seconds)\n",
    "total_time = 309  # Total time of the scan in seconds\n",
    "time_points = np.arange(0, total_time, TR)\n"
   ]
  },
  {
   "cell_type": "code",
   "execution_count": null,
   "id": "6cc117de-bebe-4302-a480-00cf9d5b2b6b",
   "metadata": {},
   "outputs": [],
   "source": [
    "from nilearn.glm.first_level import make_first_level_design_matrix\n",
    "\n",
    "# Generate design matrix using Nilearn's HRF\n",
    "design_matrix = make_first_level_design_matrix(\n",
    "    frame_times=time_points,\n",
    "    events=evt_concat,\n",
    "    hrf_model='spm',\n",
    "    drift_model='polynomial'\n",
    ")"
   ]
  },
  {
   "cell_type": "code",
   "execution_count": null,
   "id": "ba063eef-8cb8-4878-a7bf-43a58588cafb",
   "metadata": {},
   "outputs": [],
   "source": [
    "from nilearn.plotting import plot_design_matrix\n",
    "plot_design_matrix(design_matrix)\n",
    "plt.show()"
   ]
  },
  {
   "cell_type": "code",
   "execution_count": null,
   "id": "dda21146-9bd3-4a60-bda5-5e8568d23cf0",
   "metadata": {},
   "outputs": [],
   "source": [
    "fmri_img = op.join(preproc_root, 'sub-control01', 'func', 'sub-control01_task-music_concatenated_bold_moco.nii.gz')"
   ]
  },
  {
   "cell_type": "code",
   "execution_count": null,
   "id": "f4035b12-9310-4882-93d7-4263260f129b",
   "metadata": {},
   "outputs": [],
   "source": [
    "from nilearn.glm.first_level import make_first_level_design_matrix, FirstLevelModel\n",
    "\n",
    "# Specify what sort of GLM we want (nature of the noise, repetition time of the data and other parameters)\n",
    "fmri_glm = FirstLevelModel(t_r=3,\n",
    "                           noise_model='ar1',\n",
    "                           standardize=False,\n",
    "                           hrf_model='spm',\n",
    "                           drift_model=None,\n",
    "                           high_pass=.01)\n",
    "\n",
    "# Fit the model to our design and data\n",
    "fmri_glm = fmri_glm.fit(fmri_img, events)"
   ]
  },
  {
   "cell_type": "code",
   "execution_count": null,
   "id": "be6eb574-37b5-48e6-ad5b-d82fcf510c3e",
   "metadata": {},
   "outputs": [],
   "source": []
  }
 ],
 "metadata": {
  "kernelspec": {
   "display_name": "Python 3 (ipykernel)",
   "language": "python",
   "name": "python3"
  },
  "language_info": {
   "codemirror_mode": {
    "name": "ipython",
    "version": 3
   },
   "file_extension": ".py",
   "mimetype": "text/x-python",
   "name": "python",
   "nbconvert_exporter": "python",
   "pygments_lexer": "ipython3",
   "version": "3.11.6"
  }
 },
 "nbformat": 4,
 "nbformat_minor": 5
}
