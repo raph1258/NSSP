{
 "cells": [
  {
   "cell_type": "code",
   "execution_count": 1,
   "id": "d95d9c52-0718-4d5d-b79b-8a51d9eceb83",
   "metadata": {
    "collapsed": true,
    "jupyter": {
     "outputs_hidden": true,
     "source_hidden": true
    },
    "scrolled": true
   },
   "outputs": [
    {
     "name": "stderr",
     "output_type": "stream",
     "text": [
      "Gtk-Message: 01:39:34.260: Failed to load module \"canberra-gtk-module\"\n"
     ]
    },
    {
     "name": "stdout",
     "output_type": "stream",
     "text": [
      "Requirement already satisfied: antspyx in /opt/conda/lib/python3.11/site-packages (0.5.3)\n",
      "Requirement already satisfied: pandas in /opt/conda/lib/python3.11/site-packages (from antspyx) (2.2.2)\n",
      "Requirement already satisfied: pyyaml in /opt/conda/lib/python3.11/site-packages (from antspyx) (6.0.1)\n",
      "Requirement already satisfied: numpy in /opt/conda/lib/python3.11/site-packages (from antspyx) (1.26.4)\n",
      "Requirement already satisfied: statsmodels in /opt/conda/lib/python3.11/site-packages (from antspyx) (0.14.2)\n",
      "Requirement already satisfied: webcolors in /opt/conda/lib/python3.11/site-packages (from antspyx) (1.13)\n",
      "Requirement already satisfied: matplotlib in /opt/conda/lib/python3.11/site-packages (from antspyx) (3.9.2)\n",
      "Requirement already satisfied: Pillow in /opt/conda/lib/python3.11/site-packages (from antspyx) (10.0.0)\n",
      "Requirement already satisfied: requests in /opt/conda/lib/python3.11/site-packages (from antspyx) (2.31.0)\n",
      "Requirement already satisfied: contourpy>=1.0.1 in /opt/conda/lib/python3.11/site-packages (from matplotlib->antspyx) (1.3.0)\n",
      "Requirement already satisfied: cycler>=0.10 in /opt/conda/lib/python3.11/site-packages (from matplotlib->antspyx) (0.12.1)\n",
      "Requirement already satisfied: fonttools>=4.22.0 in /opt/conda/lib/python3.11/site-packages (from matplotlib->antspyx) (4.53.1)\n",
      "Requirement already satisfied: kiwisolver>=1.3.1 in /opt/conda/lib/python3.11/site-packages (from matplotlib->antspyx) (1.4.7)\n",
      "Requirement already satisfied: packaging>=20.0 in /opt/conda/lib/python3.11/site-packages (from matplotlib->antspyx) (23.2)\n",
      "Requirement already satisfied: pyparsing>=2.3.1 in /opt/conda/lib/python3.11/site-packages (from matplotlib->antspyx) (3.1.4)\n",
      "Requirement already satisfied: python-dateutil>=2.7 in /opt/conda/lib/python3.11/site-packages (from matplotlib->antspyx) (2.8.2)\n",
      "Requirement already satisfied: pytz>=2020.1 in /opt/conda/lib/python3.11/site-packages (from pandas->antspyx) (2023.3)\n",
      "Requirement already satisfied: tzdata>=2022.7 in /opt/conda/lib/python3.11/site-packages (from pandas->antspyx) (2024.1)\n",
      "Requirement already satisfied: charset-normalizer<4,>=2 in /opt/conda/lib/python3.11/site-packages (from requests->antspyx) (3.3.0)\n",
      "Requirement already satisfied: idna<4,>=2.5 in /opt/conda/lib/python3.11/site-packages (from requests->antspyx) (3.4)\n",
      "Requirement already satisfied: urllib3<3,>=1.21.1 in /opt/conda/lib/python3.11/site-packages (from requests->antspyx) (2.0.7)\n",
      "Requirement already satisfied: certifi>=2017.4.17 in /opt/conda/lib/python3.11/site-packages (from requests->antspyx) (2024.8.30)\n",
      "Requirement already satisfied: scipy!=1.9.2,>=1.8 in /opt/conda/lib/python3.11/site-packages (from statsmodels->antspyx) (1.14.1)\n",
      "Requirement already satisfied: patsy>=0.5.6 in /opt/conda/lib/python3.11/site-packages (from statsmodels->antspyx) (0.5.6)\n",
      "Requirement already satisfied: six in /opt/conda/lib/python3.11/site-packages (from patsy>=0.5.6->statsmodels->antspyx) (1.16.0)\n"
     ]
    }
   ],
   "source": [
    "# Various imports\n",
    "\n",
    "%gui wx\n",
    "import sys\n",
    "import os\n",
    "\n",
    "#####################\n",
    "# Import of utils.py functions\n",
    "#####################\n",
    "# Required to get utils.py and access its functions\n",
    "notebook_dir = os.path.abspath(\"\")\n",
    "parent_dir = os.path.abspath(os.path.join(notebook_dir, '..'))\n",
    "sys.path.append(parent_dir)\n",
    "sys.path.append('.')\n",
    "from utils import loadFSL, FSLeyesServer, mkdir_no_exist, interactive_MCQ\n",
    "\n",
    "####################\n",
    "# DIPY_HOME should be set prior to import of dipy to make sure all downloads point to the right folder\n",
    "####################\n",
    "os.environ[\"DIPY_HOME\"] = \"/home/jovyan/Data\"\n",
    "\n",
    "\n",
    "#############################\n",
    "# Loading fsl and freesurfer within Neurodesk\n",
    "# You can find the list of available other modules by clicking on the \"Softwares\" tab on the left\n",
    "#############################\n",
    "import lmod\n",
    "await lmod.purge(force=True)\n",
    "await lmod.load('fsl/6.0.7.4')\n",
    "await lmod.load('freesurfer/7.4.1')\n",
    "await lmod.list()\n",
    "\n",
    "####################\n",
    "# Setup FSL path\n",
    "####################\n",
    "loadFSL()\n",
    "\n",
    "###################\n",
    "# Load all relevant libraries for the lab\n",
    "##################\n",
    "import fsl.wrappers\n",
    "from fsl.wrappers import fslmaths, epi_reg\n",
    "\n",
    "import mne_nirs\n",
    "import nilearn\n",
    "from nilearn.datasets import fetch_development_fmri\n",
    "\n",
    "import mne\n",
    "import mne_nirs\n",
    "import dipy\n",
    "from dipy.data import fetch_bundles_2_subjects, read_bundles_2_subjects\n",
    "import xml.etree.ElementTree as ET\n",
    "import os.path as op\n",
    "import nibabel as nib\n",
    "import glob\n",
    "\n",
    "!pip install antspyx\n",
    "import ants\n",
    "\n",
    "import openneuro\n",
    "from mne.datasets import sample\n",
    "from mne_bids import BIDSPath, read_raw_bids, print_dir_tree, make_report\n",
    "\n",
    "\n",
    "# Useful imports to define the direct download function below\n",
    "import requests\n",
    "import urllib.request\n",
    "from tqdm import tqdm\n",
    "\n",
    "\n",
    "# FSL function wrappers which we will call from python directly\n",
    "from fsl.wrappers import fast, bet\n",
    "from fsl.wrappers.misc import fslroi\n",
    "from fsl.wrappers import flirt\n",
    "\n",
    "# General purpose imports to handle paths, files etc\n",
    "import glob\n",
    "import pandas as pd\n",
    "import numpy as np\n",
    "import json\n",
    "import os.path as op\n",
    "from mne.datasets import sample\n",
    "\n",
    "# Scattered import found throughout the labs\n",
    "\n",
    "from nilearn.image import concat_imgs\n",
    "from nipype.interfaces.fsl import FAST\n",
    "import subprocess"
   ]
  },
  {
   "cell_type": "code",
   "execution_count": 2,
   "id": "0dfa719f-0661-4459-b278-9fee9b3a383e",
   "metadata": {
    "collapsed": true,
    "jupyter": {
     "outputs_hidden": true,
     "source_hidden": true
    }
   },
   "outputs": [
    {
     "name": "stderr",
     "output_type": "stream",
     "text": [
      "01:39:43: Debug: Adding duplicate image handler for 'Windows bitmap file'\n",
      "01:39:43: Debug: Adding duplicate animation handler for '1' type\n",
      "01:39:43: Debug: Adding duplicate animation handler for '2' type\n",
      "01:39:44: Debug: Adding duplicate image handler for 'Windows bitmap file'\n",
      "01:39:44: Debug: Adding duplicate animation handler for '1' type\n",
      "01:39:44: Debug: Adding duplicate animation handler for '2' type\n",
      "\n",
      "(ipykernel_launcher.py:58441): Gtk-CRITICAL **: 01:39:44.387: gtk_window_resize: assertion 'height > 0' failed\n"
     ]
    }
   ],
   "source": [
    "# Open FSL eyes\n",
    "\n",
    "fsleyesDisplay = FSLeyesServer()\n",
    "fsleyesDisplay.show()"
   ]
  },
  {
   "cell_type": "code",
   "execution_count": 3,
   "id": "6452a7cb-c58a-4b30-98ce-7ba2a796c352",
   "metadata": {
    "jupyter": {
     "source_hidden": true
    }
   },
   "outputs": [],
   "source": [
    "# Functions to download dataset\n",
    "\n",
    "def mkdir_no_exist(path):\n",
    "    if not op.isdir(path):\n",
    "        os.makedirs(path)\n",
    "        \n",
    "class DownloadProgressBar(tqdm):\n",
    "    def update_to(self, b=1, bsize=1, tsize=None):\n",
    "        if tsize is not None:\n",
    "            self.total = tsize\n",
    "        self.update(b * bsize - self.n)\n",
    "\n",
    "def download_url(url, output_path):\n",
    "    with DownloadProgressBar(unit='B', unit_scale=True,\n",
    "                             miniters=1, desc=url.split('/')[-1]) as t:\n",
    "        urllib.request.urlretrieve(url, filename=output_path, reporthook=t.update_to)\n",
    "\n",
    "def direct_file_download_open_neuro(file_list, file_types, dataset_id, dataset_version, save_dirs):\n",
    "    # https://openneuro.org/crn/datasets/ds004226/snapshots/1.0.0/files/sub-001:sub-001_scans.tsv\n",
    "    for i, n in enumerate(file_list):\n",
    "        subject = n.split('_')[0]\n",
    "        download_link = 'https://openneuro.org/crn/datasets/{}/snapshots/{}/files/{}:{}:{}'.format(dataset_id, dataset_version, subject, file_types[i],n)\n",
    "        print('Attempting download from ', download_link)\n",
    "        download_url(download_link, op.join(save_dirs[i], n))\n",
    "        print('Ok')"
   ]
  },
  {
   "cell_type": "code",
   "execution_count": 4,
   "id": "72dcab88-03c9-431a-8f7f-92366647f200",
   "metadata": {
    "collapsed": true,
    "jupyter": {
     "outputs_hidden": true,
     "source_hidden": true
    },
    "scrolled": true
   },
   "outputs": [
    {
     "name": "stdout",
     "output_type": "stream",
     "text": [
      "Attempting download from  https://openneuro.org/crn/datasets/ds000171/snapshots/00001/files/sub-control01:func:sub-control01_task-music_run-1_bold.nii.gz\n"
     ]
    },
    {
     "name": "stderr",
     "output_type": "stream",
     "text": [
      "sub-control01:func:sub-control01_task-music_run-1_bold.nii.gz: 35.5MB [00:03, 9.05MB/s]                \n"
     ]
    },
    {
     "name": "stdout",
     "output_type": "stream",
     "text": [
      "Ok\n",
      "Attempting download from  https://openneuro.org/crn/datasets/ds000171/snapshots/00001/files/sub-control01:func:sub-control01_task-music_run-1_events.tsv\n"
     ]
    },
    {
     "name": "stderr",
     "output_type": "stream",
     "text": [
      "sub-control01:func:sub-control01_task-music_run-1_events.tsv: 8.19kB [00:00, 24.0kB/s]\n"
     ]
    },
    {
     "name": "stdout",
     "output_type": "stream",
     "text": [
      "Ok\n",
      "Attempting download from  https://openneuro.org/crn/datasets/ds000171/snapshots/00001/files/sub-control01:func:sub-control01_task-music_run-2_bold.nii.gz\n"
     ]
    },
    {
     "name": "stderr",
     "output_type": "stream",
     "text": [
      "sub-control01:func:sub-control01_task-music_run-2_bold.nii.gz: 35.5MB [00:02, 13.0MB/s]                  \n"
     ]
    },
    {
     "name": "stdout",
     "output_type": "stream",
     "text": [
      "Ok\n",
      "Attempting download from  https://openneuro.org/crn/datasets/ds000171/snapshots/00001/files/sub-control01:func:sub-control01_task-music_run-2_events.tsv\n"
     ]
    },
    {
     "name": "stderr",
     "output_type": "stream",
     "text": [
      "sub-control01:func:sub-control01_task-music_run-2_events.tsv: 8.19kB [00:00, 12.3kB/s]\n"
     ]
    },
    {
     "name": "stdout",
     "output_type": "stream",
     "text": [
      "Ok\n",
      "Attempting download from  https://openneuro.org/crn/datasets/ds000171/snapshots/00001/files/sub-control01:func:sub-control01_task-music_run-3_bold.nii.gz\n"
     ]
    },
    {
     "name": "stderr",
     "output_type": "stream",
     "text": [
      "sub-control01:func:sub-control01_task-music_run-3_bold.nii.gz: 35.5MB [00:02, 13.0MB/s]                  \n"
     ]
    },
    {
     "name": "stdout",
     "output_type": "stream",
     "text": [
      "Ok\n",
      "Attempting download from  https://openneuro.org/crn/datasets/ds000171/snapshots/00001/files/sub-control01:func:sub-control01_task-music_run-3_events.tsv\n"
     ]
    },
    {
     "name": "stderr",
     "output_type": "stream",
     "text": [
      "sub-control01:func:sub-control01_task-music_run-3_events.tsv: 8.19kB [00:00, 12.7kB/s]\n"
     ]
    },
    {
     "name": "stdout",
     "output_type": "stream",
     "text": [
      "Ok\n",
      "Attempting download from  https://openneuro.org/crn/datasets/ds000171/snapshots/00001/files/sub-control01:anat:sub-control01_T1w.nii.gz\n"
     ]
    },
    {
     "name": "stderr",
     "output_type": "stream",
     "text": [
      "sub-control01:anat:sub-control01_T1w.nii.gz: 9.21MB [00:06, 1.53MB/s]                \n"
     ]
    },
    {
     "name": "stdout",
     "output_type": "stream",
     "text": [
      "Ok\n",
      "Attempting download from: https://openneuro.org/crn/datasets/ds000171/snapshots/00001/files/CHANGES\n"
     ]
    },
    {
     "name": "stderr",
     "output_type": "stream",
     "text": [
      "CHANGES: 8.19kB [00:00, 16.0kB/s]\n"
     ]
    },
    {
     "name": "stdout",
     "output_type": "stream",
     "text": [
      "Downloaded: CHANGES\n",
      "Attempting download from: https://openneuro.org/crn/datasets/ds000171/snapshots/00001/files/README\n"
     ]
    },
    {
     "name": "stderr",
     "output_type": "stream",
     "text": [
      "README: 8.19kB [00:00, 14.4kB/s]\n"
     ]
    },
    {
     "name": "stdout",
     "output_type": "stream",
     "text": [
      "Downloaded: README\n",
      "Attempting download from: https://openneuro.org/crn/datasets/ds000171/snapshots/00001/files/dataset_description.json\n"
     ]
    },
    {
     "name": "stderr",
     "output_type": "stream",
     "text": [
      "dataset_description.json: 8.19kB [00:00, 13.4kB/s]\n"
     ]
    },
    {
     "name": "stdout",
     "output_type": "stream",
     "text": [
      "Downloaded: dataset_description.json\n",
      "Attempting download from: https://openneuro.org/crn/datasets/ds000171/snapshots/00001/files/T1w.json\n"
     ]
    },
    {
     "name": "stderr",
     "output_type": "stream",
     "text": [
      "T1w.json: 8.19kB [00:00, 15.2kB/s]\n"
     ]
    },
    {
     "name": "stdout",
     "output_type": "stream",
     "text": [
      "Downloaded: T1w.json\n",
      "Attempting download from: https://openneuro.org/crn/datasets/ds000171/snapshots/00001/files/participants.tsv\n"
     ]
    },
    {
     "name": "stderr",
     "output_type": "stream",
     "text": [
      "participants.tsv: 8.19kB [00:00, 14.6kB/s]\n"
     ]
    },
    {
     "name": "stdout",
     "output_type": "stream",
     "text": [
      "Downloaded: participants.tsv\n",
      "Attempting download from: https://openneuro.org/crn/datasets/ds000171/snapshots/00001/files/task-music_bold.json\n"
     ]
    },
    {
     "name": "stderr",
     "output_type": "stream",
     "text": [
      "task-music_bold.json: 8.19kB [00:00, 14.9kB/s]\n"
     ]
    },
    {
     "name": "stdout",
     "output_type": "stream",
     "text": [
      "Downloaded: task-music_bold.json\n",
      "Attempting download from: https://openneuro.org/crn/datasets/ds000171/snapshots/00001/files/task-nonmusic_bold.json\n"
     ]
    },
    {
     "name": "stderr",
     "output_type": "stream",
     "text": [
      "task-nonmusic_bold.json: 8.19kB [00:00, 15.5kB/s]"
     ]
    },
    {
     "name": "stdout",
     "output_type": "stream",
     "text": [
      "Downloaded: task-nonmusic_bold.json\n"
     ]
    },
    {
     "name": "stderr",
     "output_type": "stream",
     "text": [
      "\n"
     ]
    }
   ],
   "source": [
    "# Download dataset\n",
    "\n",
    "dataset_fmap = 'ds000171'\n",
    "subject_fmap = '001'\n",
    "\n",
    "# Main directory\n",
    "bids_root = op.join(op.dirname(sample.data_path()), dataset_fmap)\n",
    "\n",
    "# Paths for functional and anatomical data\n",
    "func_path = op.join(bids_root, 'sub-control01', 'func')\n",
    "anat_path = op.join(bids_root, 'sub-control01', 'anat')\n",
    "deriv_root = op.join(bids_root, 'derivatives')\n",
    "preproc_root = op.join(bids_root, 'derivatives','preprocessed_data')\n",
    "\n",
    "# Create directories for func and anat\n",
    "mkdir_no_exist(bids_root)\n",
    "mkdir_no_exist(op.join(bids_root, 'sub-control01'))\n",
    "mkdir_no_exist(func_path)\n",
    "mkdir_no_exist(anat_path)\n",
    "mkdir_no_exist(deriv_root)\n",
    "mkdir_no_exist(preproc_root)\n",
    "\n",
    "# List of functional files to download\n",
    "file_list = [\n",
    "    'sub-control01_task-music_run-1_bold.nii.gz',\n",
    "    'sub-control01_task-music_run-1_events.tsv',\n",
    "    'sub-control01_task-music_run-2_bold.nii.gz',\n",
    "    'sub-control01_task-music_run-2_events.tsv',\n",
    "    'sub-control01_task-music_run-3_bold.nii.gz',\n",
    "    'sub-control01_task-music_run-3_events.tsv',\n",
    "]\n",
    "\n",
    "file_types = ['func'] * len(file_list)\n",
    "save_dirs = [func_path] * len(file_list)\n",
    "\n",
    "\n",
    "direct_file_download_open_neuro(file_list=file_list, \n",
    "                                 file_types=file_types, \n",
    "                                 dataset_id=dataset_fmap, \n",
    "                                 dataset_version='00001', \n",
    "                                 save_dirs=save_dirs)\n",
    "\n",
    "# List of anatomical files to download\n",
    "anat_file_list = ['sub-control01_T1w.nii.gz']\n",
    "\n",
    "# For the anac files, define their types and save directories\n",
    "anat_file_types = ['anat'] * len(anat_file_list)\n",
    "anat_save_dirs = [anat_path] * len(anat_file_list)\n",
    "\n",
    "# Download anatomical files\n",
    "direct_file_download_open_neuro(file_list=anat_file_list, \n",
    "                                 file_types=anat_file_types, \n",
    "                                 dataset_id=dataset_fmap, \n",
    "                                 dataset_version='00001', \n",
    "                                 save_dirs=anat_save_dirs)\n",
    "\n",
    "otherfiles_list = [\n",
    "    'CHANGES',\n",
    "    'README',\n",
    "    'dataset_description.json',\n",
    "    'T1w.json',\n",
    "    'participants.tsv',\n",
    "    'task-music_bold.json',\n",
    "    'task-nonmusic_bold.json'\n",
    "]\n",
    "\n",
    "for filename in otherfiles_list:\n",
    "    # Construct the download link for these files\n",
    "    download_link = f'https://openneuro.org/crn/datasets/{dataset_fmap}/snapshots/00001/files/{filename}'\n",
    "    print(f'Attempting download from: {download_link}')\n",
    "    # Download the file without specifying file_type\n",
    "    download_url(download_link, op.join(bids_root, filename))\n",
    "    print('Downloaded:', filename)"
   ]
  },
  {
   "cell_type": "code",
   "execution_count": 5,
   "id": "ad7da476-5054-49e4-97a6-38d06228f0ff",
   "metadata": {
    "collapsed": true,
    "jupyter": {
     "outputs_hidden": true,
     "source_hidden": true
    }
   },
   "outputs": [
    {
     "name": "stdout",
     "output_type": "stream",
     "text": [
      "Concatenation complete and saved as 'concatenated_task_music_bold.nii.gz'.\n"
     ]
    }
   ],
   "source": [
    "# Data standardization\n",
    "\n",
    "# Load the individual fMRI runs\n",
    "run1 = nib.load(op.join(func_path, 'sub-control01_task-music_run-1_bold.nii.gz'))\n",
    "run2 = nib.load(op.join(func_path, 'sub-control01_task-music_run-2_bold.nii.gz'))\n",
    "run3 = nib.load(op.join(func_path, 'sub-control01_task-music_run-3_bold.nii.gz'))\n",
    "\n",
    "concatenated_file_path = '/home/jovyan/mne_data/ds000171/sub-control01/func/concatenated_task_music_bold.nii.gz'\n",
    "\n",
    "def standardize_img(img):\n",
    "    data = img.get_fdata()\n",
    "    mean = np.mean(data)\n",
    "    std = np.std(data)\n",
    "    standardized_data = (data - mean) / std\n",
    "    return nib.Nifti1Image(standardized_data, img.affine)\n",
    "\n",
    "run1_standardized = standardize_img(run1)\n",
    "run2_standardized = standardize_img(run2)\n",
    "run3_standardized = standardize_img(run3)\n",
    "\n",
    "concatenated_img = concat_imgs([run1_standardized, run2_standardized, run3_standardized])\n",
    "\n",
    "nib.save(concatenated_img, concatenated_file_path)\n",
    "\n",
    "print(\"Concatenation complete and saved as 'concatenated_task_music_bold.nii.gz'.\")"
   ]
  },
  {
   "cell_type": "code",
   "execution_count": 6,
   "id": "e631e344-b5dc-4bba-9d54-e68fa7840c07",
   "metadata": {
    "collapsed": true,
    "jupyter": {
     "outputs_hidden": true,
     "source_hidden": true
    }
   },
   "outputs": [
    {
     "name": "stderr",
     "output_type": "stream",
     "text": [
      "\n",
      "(ipykernel_launcher.py:58441): Gdk-WARNING **: 01:40:49.529: gdkdrawable-x11.c:952 drawable is not a pixmap or window\n"
     ]
    },
    {
     "name": "stdout",
     "output_type": "stream",
     "text": [
      "Loaded: /home/jovyan/mne_data/ds000171/sub-control01/func/concatenated_task_music_bold.nii.gz\n"
     ]
    }
   ],
   "source": [
    "# Display standardized data\n",
    "\n",
    "fsleyesDisplay.resetOverlays()\n",
    "\n",
    "if op.exists(concatenated_file_path):\n",
    "    fsleyesDisplay.load(concatenated_file_path)\n",
    "    \n",
    "    print(\"Loaded:\", concatenated_file_path)\n",
    "else:\n",
    "    print(\"File does not exist at the specified path.\")"
   ]
  },
  {
   "cell_type": "code",
   "execution_count": 7,
   "id": "cf25883f-ac9c-496e-b622-7dbd66f98b8d",
   "metadata": {
    "collapsed": true,
    "jupyter": {
     "outputs_hidden": true,
     "source_hidden": true
    },
    "scrolled": true
   },
   "outputs": [
    {
     "name": "stdout",
     "output_type": "stream",
     "text": [
      "Done with BET.\n"
     ]
    }
   ],
   "source": [
    "# BET\n",
    "\n",
    "def get_skull_stripped_anatomical(bids_root, preproc_root, subject_id, robust=False):\n",
    "    \"\"\"\n",
    "    Perform skull-stripping on the T1w anatomical image for the specified subject.\n",
    "        Parameters\n",
    "    ----------\n",
    "    bids_root: string\n",
    "        The root of the BIDS directory\n",
    "    preproc_root: string\n",
    "        The root of the preprocessed data, where the result of the brain extraction will be saved.\n",
    "    subject_id: string\n",
    "        Subject ID, the subject on which brain extraction should be conducted.\n",
    "    robust: bool\n",
    "        Whether to conduct robust center estimation with BET or not. Default is False.\n",
    "    \"\"\"\n",
    "    subject = f'sub-{subject_id}'\n",
    "    anatomical_path = op.join(bids_root, subject, 'anat', f'{subject}_T1w.nii.gz')\n",
    "    \n",
    "    betted_brain_path = op.join(preproc_root, subject, 'anat', f'{subject}_T1w')\n",
    "\n",
    "    mkdir_no_exist(op.join(preproc_root, subject, 'anat'))\n",
    "    \n",
    "    os.system(f'bet {anatomical_path} {betted_brain_path} -m {\"-R\" if robust else \"\"}')\n",
    "    print(\"Done with BET.\")\n",
    "\n",
    "resulting_mask_path = op.join(preproc_root, 'sub-control01', 'anat', 'sub-control01_T1w_mask')\n",
    "\n",
    "get_skull_stripped_anatomical(bids_root, preproc_root, \"control01\", robust=True)\n"
   ]
  },
  {
   "cell_type": "code",
   "execution_count": 8,
   "id": "4f4a0c05-4943-427e-970d-b03744e8b58d",
   "metadata": {
    "jupyter": {
     "source_hidden": true
    }
   },
   "outputs": [],
   "source": [
    "# Display BET\n",
    "\n",
    "fsleyesDisplay.resetOverlays()\n",
    "fsleyesDisplay.load(concatenated_file_path)\n",
    "fsleyesDisplay.load(resulting_mask_path)"
   ]
  },
  {
   "cell_type": "code",
   "execution_count": 9,
   "id": "7688067d-f428-49e6-b6d2-a90b8f87d096",
   "metadata": {
    "collapsed": true,
    "jupyter": {
     "outputs_hidden": true,
     "source_hidden": true
    }
   },
   "outputs": [
    {
     "name": "stdout",
     "output_type": "stream",
     "text": [
      "Masked image saved at: /home/jovyan/mne_data/ds000171/sub-control01/anat/sub-control01_T1w.nii.gz\n"
     ]
    }
   ],
   "source": [
    "# Actually extract the brain\n",
    "\n",
    "def apply_fsl_math_approach(img_path, mask_path, masked_img_path):\n",
    "    \"\"\"\n",
    "    Parameters\n",
    "    ----------\n",
    "    img_path: str\n",
    "        Path to the input image that needs to be masked.\n",
    "    mask_path: str\n",
    "        Path to the mask image.\n",
    "    masked_img_path: str\n",
    "        Path where the masked output image will be saved.\n",
    "    \"\"\"\n",
    "    # Execute the fslmaths command with the -mas option\n",
    "    os.system('fslmaths {} -mas {} {}'.format(img_path, mask_path, masked_img_path))\n",
    "    print(f\"Masked image saved at: {masked_img_path}\")\n",
    "\n",
    "# Define paths based on your dataset structure\n",
    "subject_id = \"control01\"\n",
    "anatomical_path = op.join(bids_root, f'sub-{subject_id}', 'anat', f'sub-{subject_id}_T1w.nii.gz')  # Original brain\n",
    "betted_brain_path = op.join(preproc_root, f'sub-{subject_id}', 'anat', f'sub-{subject_id}_T1w.nii.gz')  # Skull-stripped brain\n",
    "resulting_mask_path = op.join(preproc_root, f'sub-{subject_id}', 'anat', f'sub-{subject_id}_T1w_mask.nii.gz')  # The mask\n",
    "\n",
    "apply_fsl_math_approach(betted_brain_path, resulting_mask_path, anatomical_path)\n"
   ]
  },
  {
   "cell_type": "code",
   "execution_count": 10,
   "id": "46020b29-42c5-4290-93a3-3711911f078b",
   "metadata": {
    "jupyter": {
     "source_hidden": true
    }
   },
   "outputs": [],
   "source": [
    "# Display the extracted brain\n",
    "\n",
    "fsleyesDisplay.resetOverlays()\n",
    "fsleyesDisplay.load(betted_brain_path)"
   ]
  },
  {
   "cell_type": "code",
   "execution_count": 11,
   "id": "c40b2dfd-4277-480c-8023-789bc5ca0196",
   "metadata": {
    "collapsed": true,
    "jupyter": {
     "outputs_hidden": true,
     "source_hidden": true
    },
    "scrolled": true
   },
   "outputs": [
    {
     "name": "stdout",
     "output_type": "stream",
     "text": [
      "FAST segmentation complete.\n"
     ]
    }
   ],
   "source": [
    "# FAST segmentation\n",
    "\n",
    "subject = f'sub-{subject_id}'\n",
    "anatomical_path = op.join(bids_root, subject, 'anat', f'{subject}_T1w.nii.gz')\n",
    "bet_path = op.join(preproc_root, subject, 'anat', f'{subject}_T1w')\n",
    "\n",
    "fast_target = bet_path # Replace with either anatomical_path or bet_path (note: you can try both and decide which is more reasonable!)\n",
    "\n",
    "[os.remove(f) for f in glob.glob(op.join(preproc_root, subject, 'anat', '*fast*'))] # Just to clean the directory in between runs of the cell\n",
    "segmentation_path = op.join(preproc_root, subject, 'anat', f'{subject}_T1w_fast')\n",
    "fast(imgs=[fast_target], out=segmentation_path, n_classes=3)\n",
    "print(\"FAST segmentation complete.\")"
   ]
  },
  {
   "cell_type": "code",
   "execution_count": 22,
   "id": "04d3507b-9256-42c9-b36d-5959b18fb182",
   "metadata": {
    "collapsed": true,
    "jupyter": {
     "outputs_hidden": true,
     "source_hidden": true
    }
   },
   "outputs": [
    {
     "data": {
      "text/plain": [
       "Text(0, 0.5, 'Mean voxel intensity')"
      ]
     },
     "execution_count": 22,
     "metadata": {},
     "output_type": "execute_result"
    },
    {
     "data": {
      "image/png": "[encoded data removed]",
      "text/plain": [
       "<Figure size 640x480 with 1 Axes>"
      ]
     },
     "metadata": {},
     "output_type": "display_data"
    }
   ],
   "source": [
    "# Check the contrast\n",
    "# looking at the y-axis I guess we are fine (?)\n",
    "# I checked there are 315 volumes\n",
    "import matplotlib.pyplot as plt\n",
    "import nibabel as nib\n",
    "\n",
    "plt.plot(nib.load(op.join(bids_root, 'sub-control01', 'func', 'concatenated_task_music_bold.nii.gz')).get_fdata().mean(axis=(0,1,2)))\n",
    "plt.xlabel('Time (volume)')\n",
    "plt.ylabel('Mean voxel intensity')"
   ]
  },
  {
   "cell_type": "code",
   "execution_count": 24,
   "id": "ba1a5ee3-70b4-43d3-8c23-d6776708a460",
   "metadata": {
    "collapsed": true,
    "jupyter": {
     "outputs_hidden": true,
     "source_hidden": true
    },
    "scrolled": true
   },
   "outputs": [
    {
     "name": "stderr",
     "output_type": "stream",
     "text": [
      "Processed data will be saved as /home/jovyan/mne_data/ds000171/derivatives/preprocessed_data/sub-control01/func/sub-control01_task-music_run-1_bold_moco.nii.gz\n",
      "\n",
      "McFLIRT v 2.0 - FMRI motion correction\n",
      "\n",
      "Reading time series... \n",
      "first iteration - 8mm scaling, set tolerance\n",
      "Rescaling reference volume [52] to 8 mm pixels\n",
      "Registering volumes ... [53][54][55][56][57][58][59][60][61][62][63][64][65][66][67][68][69][70][71][72][73][74][75][76][77][78][79][80][81][82][83][84][85][86][87][88][89][90][91][92][93][94][95][96][97][98][99][100][101][102][103][104][51][50][49][48][47][46][45][44][43][42][41][40][39][38][37][36][35][34][33][32][31][30][29][28][27][26][25][24][23][22][21][20][19][18][17][16][15][14][13][12][11][10][9][8][7][6][5][4][3][2][1][0]\n",
      "second iteration - drop to 4mm scaling\n",
      "Rescaling reference volume [52] to 4 mm pixels\n",
      "Registering volumes ... [53][54][55][56][57][58][59][60][61][62][63][64][65][66][67][68][69][70][71][72][73][74][75][76][77][78][79][80][81][82][83][84][85][86][87][88][89][90][91][92][93][94][95][96][97][98][99][100][101][102][103][104][51][50][49][48][47][46][45][44][43][42][41][40][39][38][37][36][35][34][33][32][31][30][29][28][27][26][25][24][23][22][21][20][19][18][17][16][15][14][13][12][11][10][9][8][7][6][5][4][3][2][1][0]\n",
      "third iteration - 4mm scaling, eighth tolerance\n"
     ]
    },
    {
     "name": "stdout",
     "output_type": "stream",
     "text": [
      "refnum = 52\n",
      "Original_refvol = -1\n"
     ]
    },
    {
     "name": "stderr",
     "output_type": "stream",
     "text": [
      "Registering volumes ... [53][54][55][56][57][58][59][60][61][62][63][64][65][66][67][68][69][70][71][72][73][74][75][76][77][78][79][80][81][82][83][84][85][86][87][88][89][90][91][92][93][94][95][96][97][98][99][100][101][102][103][104][51][50][49][48][47][46][45][44][43][42][41][40][39][38][37][36][35][34][33][32][31][30][29][28][27][26][25][24][23][22][21][20][19][18][17][16][15][14][13][12][11][10][9][8][7][6][5][4][3][2][1][0]\n",
      "Saving motion corrected time series... \n"
     ]
    },
    {
     "data": {
      "text/plain": [
       "{}"
      ]
     },
     "execution_count": 24,
     "metadata": {},
     "output_type": "execute_result"
    }
   ],
   "source": [
    "# Motion Correction\n",
    "\n",
    "from fsl.wrappers import mcflirt\n",
    "import subprocess\n",
    "dataset_id = 'ds000171'\n",
    "subject = '01' \n",
    "\n",
    "mkdir_no_exist(os.path.join(preproc_root, 'sub-control01', 'func'))\n",
    "\n",
    "path_original_data = os.path.join(bids_root, 'sub-control01', 'func', 'sub-control01_task-music_run-1_bold.nii.gz')\n",
    "path_moco_data = os.path.join(preproc_root, 'sub-control01', 'func', 'sub-control01_task-music_run-1_bold_moco.nii.gz')\n",
    "mcflirt(infile=path_original_data,o=path_moco_data, plots=True, report=True, dof=6, mats=True)"
   ]
  },
  {
   "cell_type": "code",
   "execution_count": 25,
   "id": "582db1a5-ea5d-4640-b2b4-22821a26108b",
   "metadata": {
    "jupyter": {
     "source_hidden": true
    }
   },
   "outputs": [],
   "source": [
    "# Show motion correction\n",
    "\n",
    "fsleyesDisplay.resetOverlays()\n",
    "fsleyesDisplay.load(path_original_data)\n",
    "fsleyesDisplay.load(path_moco_data)"
   ]
  },
  {
   "cell_type": "code",
   "execution_count": 27,
   "id": "18861393-83af-4ba3-b63e-6aca9a8c65e8",
   "metadata": {
    "collapsed": true,
    "jupyter": {
     "outputs_hidden": true,
     "source_hidden": true
    }
   },
   "outputs": [
    {
     "name": "stderr",
     "output_type": "stream",
     "text": [
      "Image Exception : #5 :: Out of Bounds (time index)\n",
      "Out of Bounds (time index)\n"
     ]
    },
    {
     "name": "stdout",
     "output_type": "stream",
     "text": [
      "Running FAST segmentation\n",
      "FLIRT pre-alignment\n",
      "Running BBR\n"
     ]
    },
    {
     "name": "stderr",
     "output_type": "stream",
     "text": [
      "Image Exception : #63 :: No image files match: /home/jovyan/mne_data/ds000171/derivatives/preprocessed_data/sub-control01/func/sub-control01_task-music_run-1_bold_moco_vol_middle\n",
      "Image Exception : #22 :: Failed to read volume /home/jovyan/mne_data/ds000171/derivatives/preprocessed_data/sub-control01/func/sub-control01_task-music_run-1_bold_moco_vol_middle\n",
      "Error : No image files match: /home/jovyan/mne_data/ds000171/derivatives/preprocessed_data/sub-control01/func/sub-control01_task-music_run-1_bold_moco_vol_middle\n",
      "Failed to read volume /home/jovyan/mne_data/ds000171/derivatives/preprocessed_data/sub-control01/func/sub-control01_task-music_run-1_bold_moco_vol_middle\n",
      "Error : No image files match: /home/jovyan/mne_data/ds000171/derivatives/preprocessed_data/sub-control01/func/sub-control01_task-music_run-1_bold_moco_vol_middle\n",
      "Image Exception : #63 :: No image files match: /home/jovyan/mne_data/ds000171/derivatives/preprocessed_data/sub-control01/func/sub-control01_task-music_run-1_bold_moco_vol_middle\n",
      "Image Exception : #22 :: Failed to read volume /home/jovyan/mne_data/ds000171/derivatives/preprocessed_data/sub-control01/func/sub-control01_task-music_run-1_bold_moco_vol_middle\n",
      "Error : No image files match: /home/jovyan/mne_data/ds000171/derivatives/preprocessed_data/sub-control01/func/sub-control01_task-music_run-1_bold_moco_vol_middle\n",
      "Failed to read volume /home/jovyan/mne_data/ds000171/derivatives/preprocessed_data/sub-control01/func/sub-control01_task-music_run-1_bold_moco_vol_middle\n",
      "Error : No image files match: /home/jovyan/mne_data/ds000171/derivatives/preprocessed_data/sub-control01/func/sub-control01_task-music_run-1_bold_moco_vol_middle\n",
      "Could not open matrix file /home/jovyan/mne_data/ds000171/derivatives/preprocessed_data/sub-control01/func/sub-control01_task-music_run-1_bold_bbr.mat\n",
      "Image Exception : #63 :: No image files match: /home/jovyan/mne_data/ds000171/derivatives/preprocessed_data/sub-control01/func/sub-control01_task-music_run-1_bold_moco_vol_middle\n",
      "Image Exception : #22 :: Failed to read volume /home/jovyan/mne_data/ds000171/derivatives/preprocessed_data/sub-control01/func/sub-control01_task-music_run-1_bold_moco_vol_middle\n",
      "Error : No image files match: /home/jovyan/mne_data/ds000171/derivatives/preprocessed_data/sub-control01/func/sub-control01_task-music_run-1_bold_moco_vol_middle\n",
      "terminate called after throwing an instance of 'std::runtime_error'\n",
      "  what():  Failed to read volume /home/jovyan/mne_data/ds000171/derivatives/preprocessed_data/sub-control01/func/sub-control01_task-music_run-1_bold_moco_vol_middle\n",
      "Error : No image files match: /home/jovyan/mne_data/ds000171/derivatives/preprocessed_data/sub-control01/func/sub-control01_task-music_run-1_bold_moco_vol_middle\n",
      "/opt/fsl-6.0.7.4/bin/epi_reg: line 390: 61952 Aborted                 (core dumped) $FSLDIR/bin/applywarp -i ${vepi} -r ${vrefhead} -o ${vout} --premat=${vout}.mat --interp=spline\n"
     ]
    }
   ],
   "source": [
    "# Coregistration with epi_reg (no idea if needed here)\n",
    "\n",
    "epi_target = op.join(preproc_root, 'sub-control01', 'func', 'sub-control01_task-music_run-1_bold_moco')\n",
    "whole_t1 = op.join(bids_root, 'sub-control01', 'anat', 'sub-control01_T1w')\n",
    "skull_stripped_t1 = op.join(preproc_root, 'sub-control01', 'anat', 'sub-control01_T1w')\n",
    "output_path = op.join(preproc_root, 'sub-control01', 'func', 'sub-control01_task-music_run-1_bold_bbr')\n",
    "ref_vol_name =  op.join(preproc_root, 'sub-control01', 'func', 'sub-control01_task-music_run-1_bold_moco_vol_middle')\n",
    "\n",
    "use_single_vol = True\n",
    "\n",
    "if use_single_vol:\n",
    "    # Extract the middle volume with fslroi as we've seen before :)\n",
    "    fslroi(epi_target, ref_vol_name, str(182), str(1))\n",
    "    # Call epi_reg\n",
    "    subprocess.run(['epi_reg','--epi={}'.format(ref_vol_name), '--t1={}'.format(whole_t1), '--t1brain={}'.format(skull_stripped_t1), '--out={}'.format(output_path)])\n",
    "else:\n",
    "    subprocess.run(['epi_reg','--epi={}'.format(epi_target), '--t1={}'.format(whole_t1), '--t1brain={}'.format(skull_stripped_t1), '--out={}'.format(output_path)])"
   ]
  },
  {
   "cell_type": "code",
   "execution_count": 28,
   "id": "c79ece82-0776-45d0-8221-e0b4a75cd888",
   "metadata": {
    "jupyter": {
     "source_hidden": true
    }
   },
   "outputs": [],
   "source": [
    "# Clean up needed after epi_reg\n",
    "\n",
    "def cleanup_epi_reg(path_to_clean):\n",
    "    patterns = ['*_fast_*', '*_fieldmap*']\n",
    "    for p in patterns:\n",
    "        files = glob.glob(op.join(path_to_clean, p))\n",
    "        for f in files:\n",
    "            os.remove(f)\n",
    "cleanup_epi_reg(op.join(preproc_root, 'sub-001', 'func'))"
   ]
  },
  {
   "cell_type": "code",
   "execution_count": 30,
   "id": "3f5ba8a1-5e1d-4c16-a6d8-27d68d22f037",
   "metadata": {
    "collapsed": true,
    "jupyter": {
     "outputs_hidden": true,
     "source_hidden": true
    },
    "scrolled": true
   },
   "outputs": [
    {
     "name": "stdout",
     "output_type": "stream",
     "text": [
      "|ds000171/\n",
      "|--- CHANGES\n",
      "|--- README\n",
      "|--- T1w.json\n",
      "|--- dataset_description.json\n",
      "|--- participants.tsv\n",
      "|--- task-music_bold.json\n",
      "|--- task-nonmusic_bold.json\n",
      "|--- derivatives/\n",
      "|------ preprocessed_data/\n",
      "|--------- sub-001/\n",
      "|------------ func/\n",
      "|--------- sub-control01/\n",
      "|------------ anat/\n",
      "|--------------- sub-control01_T1w.nii.gz\n",
      "|--------------- sub-control01_T1w_fast_mixeltype.nii.gz\n",
      "|--------------- sub-control01_T1w_fast_pve_0.nii.gz\n",
      "|--------------- sub-control01_T1w_fast_pve_1.nii.gz\n",
      "|--------------- sub-control01_T1w_fast_pve_2.nii.gz\n",
      "|--------------- sub-control01_T1w_fast_pveseg.nii.gz\n",
      "|--------------- sub-control01_T1w_fast_seg.nii.gz\n",
      "|--------------- sub-control01_T1w_mask.nii.gz\n",
      "|------------ func/\n",
      "|--------------- sub-control01_task-music_run-1_bold_bbr_fast_wmedge.nii.gz\n",
      "|--------------- sub-control01_task-music_run-1_bold_bbr_fast_wmseg.nii.gz\n",
      "|--------------- sub-control01_task-music_run-1_bold_moco.nii.gz\n",
      "|--------------- sub-control01_task-music_run-1_bold_moco.nii.gz.par\n",
      "|--------------- sub-control01_task-music_run-1_bold_moco.nii.gz.mat/\n",
      "|--------------- sub-control01_task-music_run-1_bold_moco.nii.gz.mat+/\n",
      "|--------------- sub-control01_task-music_run-1_bold_moco.nii.gz.mat++/\n",
      "|--- sub-control01/\n",
      "|------ anat/\n",
      "|--------- sub-control01_T1w.nii.gz\n",
      "|------ func/\n",
      "|--------- concatenated_task_music_bold.nii.gz\n",
      "|--------- sub-control01_task-music_run-1_bold.nii.gz\n",
      "|--------- sub-control01_task-music_run-1_events.tsv\n",
      "|--------- sub-control01_task-music_run-2_bold.nii.gz\n",
      "|--------- sub-control01_task-music_run-2_events.tsv\n",
      "|--------- sub-control01_task-music_run-3_bold.nii.gz\n",
      "|--------- sub-control01_task-music_run-3_events.tsv\n"
     ]
    }
   ],
   "source": [
    "print_dir_tree(bids_root, max_depth=5)"
   ]
  },
  {
   "cell_type": "code",
   "execution_count": 38,
   "id": "d6d4c1b4-52b2-4d08-849d-e5b78eb0ddfc",
   "metadata": {
    "collapsed": true,
    "jupyter": {
     "outputs_hidden": true,
     "source_hidden": true
    }
   },
   "outputs": [
    {
     "data": {
      "text/plain": [
       "CompletedProcess(args=['fslmaths', '/home/jovyan/mne_data/ds000171/derivatives/preprocessed_data/sub-control01/func/sub-control01_task-music_run-1_bold_moco.nii.gz', '-s', '2.547987090198743', '/home/jovyan/mne_data/ds000171/derivatives/preprocessed_data/sub-control01/func/sub-control01_task-music_run-1_bold_moco.nii.gz_smoothed-6mm'], returncode=0)"
      ]
     },
     "execution_count": 38,
     "metadata": {},
     "output_type": "execute_result"
    }
   ],
   "source": [
    "# Smoothing\n",
    "\n",
    "output_path = op.join(preproc_root, 'sub-control01', 'func', 'sub-control01_task-music_run-1_bold_moco.nii.gz')\n",
    "\n",
    "cmd = 'fslmaths {} -s {} {}_smoothed-6mm'.format(output_path, 6/2.3548, output_path)\n",
    "subprocess.run(['fslmaths',output_path, '-s', str(6/2.3548), '{}_smoothed-6mm'.format(output_path)])\n",
    "\n"
   ]
  },
  {
   "cell_type": "code",
   "execution_count": 39,
   "id": "d7b0da70-2cee-4c3b-b41e-e07aa76f4e94",
   "metadata": {
    "jupyter": {
     "source_hidden": true
    }
   },
   "outputs": [],
   "source": [
    "# See smoothing\n",
    "\n",
    "fsleyesDisplay.load(output_path + '_smoothed-6mm')"
   ]
  }
 ],
 "metadata": {
  "kernelspec": {
   "display_name": "Python 3 (ipykernel)",
   "language": "python",
   "name": "python3"
  },
  "language_info": {
   "codemirror_mode": {
    "name": "ipython",
    "version": 3
   },
   "file_extension": ".py",
   "mimetype": "text/x-python",
   "name": "python",
   "nbconvert_exporter": "python",
   "pygments_lexer": "ipython3",
   "version": "3.11.6"
  }
 },
 "nbformat": 4,
 "nbformat_minor": 5
}
