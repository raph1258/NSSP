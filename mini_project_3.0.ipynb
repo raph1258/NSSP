{
 "cells": [
  {
   "cell_type": "markdown",
   "id": "9de0099d-9a77-47ae-98f5-b023eb72f829",
   "metadata": {},
   "source": [
    "# Imports, FSL initialization and data preparation"
   ]
  },
  {
   "cell_type": "code",
   "execution_count": 48,
   "id": "d95d9c52-0718-4d5d-b79b-8a51d9eceb83",
   "metadata": {
    "scrolled": true
   },
   "outputs": [
    {
     "name": "stdout",
     "output_type": "stream",
     "text": [
      "Requirement already satisfied: antspyx in /opt/conda/lib/python3.11/site-packages (0.5.3)\n",
      "Requirement already satisfied: pandas in /opt/conda/lib/python3.11/site-packages (from antspyx) (2.2.2)\n",
      "Requirement already satisfied: pyyaml in /opt/conda/lib/python3.11/site-packages (from antspyx) (6.0.1)\n",
      "Requirement already satisfied: numpy in /opt/conda/lib/python3.11/site-packages (from antspyx) (1.26.4)\n",
      "Requirement already satisfied: statsmodels in /opt/conda/lib/python3.11/site-packages (from antspyx) (0.14.2)\n",
      "Requirement already satisfied: webcolors in /opt/conda/lib/python3.11/site-packages (from antspyx) (1.13)\n",
      "Requirement already satisfied: matplotlib in /opt/conda/lib/python3.11/site-packages (from antspyx) (3.9.2)\n",
      "Requirement already satisfied: Pillow in /opt/conda/lib/python3.11/site-packages (from antspyx) (10.0.0)\n",
      "Requirement already satisfied: requests in /opt/conda/lib/python3.11/site-packages (from antspyx) (2.31.0)\n",
      "Requirement already satisfied: contourpy>=1.0.1 in /opt/conda/lib/python3.11/site-packages (from matplotlib->antspyx) (1.3.0)\n",
      "Requirement already satisfied: cycler>=0.10 in /opt/conda/lib/python3.11/site-packages (from matplotlib->antspyx) (0.12.1)\n",
      "Requirement already satisfied: fonttools>=4.22.0 in /opt/conda/lib/python3.11/site-packages (from matplotlib->antspyx) (4.53.1)\n",
      "Requirement already satisfied: kiwisolver>=1.3.1 in /opt/conda/lib/python3.11/site-packages (from matplotlib->antspyx) (1.4.7)\n",
      "Requirement already satisfied: packaging>=20.0 in /opt/conda/lib/python3.11/site-packages (from matplotlib->antspyx) (23.2)\n",
      "Requirement already satisfied: pyparsing>=2.3.1 in /opt/conda/lib/python3.11/site-packages (from matplotlib->antspyx) (3.1.4)\n",
      "Requirement already satisfied: python-dateutil>=2.7 in /opt/conda/lib/python3.11/site-packages (from matplotlib->antspyx) (2.8.2)\n",
      "Requirement already satisfied: pytz>=2020.1 in /opt/conda/lib/python3.11/site-packages (from pandas->antspyx) (2023.3)\n",
      "Requirement already satisfied: tzdata>=2022.7 in /opt/conda/lib/python3.11/site-packages (from pandas->antspyx) (2024.1)\n",
      "Requirement already satisfied: charset-normalizer<4,>=2 in /opt/conda/lib/python3.11/site-packages (from requests->antspyx) (3.3.0)\n",
      "Requirement already satisfied: idna<4,>=2.5 in /opt/conda/lib/python3.11/site-packages (from requests->antspyx) (3.4)\n",
      "Requirement already satisfied: urllib3<3,>=1.21.1 in /opt/conda/lib/python3.11/site-packages (from requests->antspyx) (2.0.7)\n",
      "Requirement already satisfied: certifi>=2017.4.17 in /opt/conda/lib/python3.11/site-packages (from requests->antspyx) (2024.8.30)\n",
      "Requirement already satisfied: scipy!=1.9.2,>=1.8 in /opt/conda/lib/python3.11/site-packages (from statsmodels->antspyx) (1.14.1)\n",
      "Requirement already satisfied: patsy>=0.5.6 in /opt/conda/lib/python3.11/site-packages (from statsmodels->antspyx) (0.5.6)\n",
      "Requirement already satisfied: six in /opt/conda/lib/python3.11/site-packages (from patsy>=0.5.6->statsmodels->antspyx) (1.16.0)\n"
     ]
    }
   ],
   "source": [
    "# Various imports\n",
    "\n",
    "%gui wx\n",
    "import sys\n",
    "import os\n",
    "\n",
    "#####################\n",
    "# Import of utils.py functions\n",
    "#####################\n",
    "notebook_dir = os.path.abspath(\"\")\n",
    "parent_dir = os.path.abspath(os.path.join(notebook_dir, '..'))\n",
    "sys.path.append(parent_dir)\n",
    "sys.path.append('.')\n",
    "from utils import loadFSL, FSLeyesServer, mkdir_no_exist, interactive_MCQ\n",
    "\n",
    "os.environ[\"DIPY_HOME\"] = \"/home/jovyan/Data\"\n",
    "\n",
    "#############################\n",
    "# Loading fsl and freesurfer within Neurodesk\n",
    "#############################\n",
    "import lmod\n",
    "await lmod.purge(force=True)\n",
    "await lmod.load('fsl/6.0.7.4')\n",
    "await lmod.load('freesurfer/7.4.1')\n",
    "await lmod.list()\n",
    "\n",
    "####################\n",
    "# Setup FSL path\n",
    "####################\n",
    "loadFSL()\n",
    "\n",
    "###################\n",
    "# Load all relevant libraries for the lab\n",
    "##################\n",
    "import fsl.wrappers\n",
    "from fsl.wrappers import fslmaths, epi_reg\n",
    "\n",
    "import mne_nirs\n",
    "import nilearn\n",
    "from nilearn.datasets import fetch_development_fmri\n",
    "\n",
    "import mne\n",
    "import mne_nirs\n",
    "import dipy\n",
    "from dipy.data import fetch_bundles_2_subjects, read_bundles_2_subjects\n",
    "import xml.etree.ElementTree as ET\n",
    "import os.path as op\n",
    "import nibabel as nib\n",
    "import glob\n",
    "\n",
    "!pip install antspyx\n",
    "import ants\n",
    "\n",
    "import openneuro\n",
    "from mne.datasets import sample\n",
    "from mne_bids import BIDSPath, read_raw_bids, print_dir_tree, make_report\n",
    "\n",
    "# Useful imports to define the direct download function below\n",
    "import requests\n",
    "import urllib.request\n",
    "from tqdm import tqdm\n",
    "\n",
    "# FSL function wrappers which we will call from python directly\n",
    "from fsl.wrappers import fast, bet, flirt, mcflirt\n",
    "from fsl.wrappers.misc import fslroi\n",
    "\n",
    "# Nilearn functions for GLM\n",
    "from nilearn.plotting import plot_design_matrix, plot_stat_map, plot_contrast_matrix\n",
    "from nilearn.glm.first_level import make_first_level_design_matrix, FirstLevelModel\n",
    "from nilearn.image import mean_img, concat_imgs\n",
    "\n",
    "# General purpose imports to handle paths, files etc\n",
    "import glob\n",
    "import pandas as pd\n",
    "import numpy as np\n",
    "import json\n",
    "from mne.datasets import sample\n",
    "import matplotlib.pyplot as plt\n",
    "\n",
    "# Scattered import found throughout the labs\n",
    "from nipype.interfaces.fsl import FAST\n",
    "import subprocess"
   ]
  },
  {
   "cell_type": "code",
   "execution_count": 3,
   "id": "0dfa719f-0661-4459-b278-9fee9b3a383e",
   "metadata": {
    "collapsed": true,
    "jupyter": {
     "outputs_hidden": true
    }
   },
   "outputs": [
    {
     "name": "stderr",
     "output_type": "stream",
     "text": [
      "07:34:36: Debug: Adding duplicate image handler for 'Windows bitmap file'\n",
      "07:34:36: Debug: Adding duplicate animation handler for '1' type\n",
      "07:34:36: Debug: Adding duplicate animation handler for '2' type\n",
      "07:34:36: Debug: Adding duplicate image handler for 'Windows bitmap file'\n",
      "07:34:36: Debug: Adding duplicate animation handler for '1' type\n",
      "07:34:36: Debug: Adding duplicate animation handler for '2' type\n",
      "\n",
      "(ipykernel_launcher.py:586): Gtk-CRITICAL **: 07:34:36.984: gtk_window_resize: assertion 'height > 0' failed\n"
     ]
    }
   ],
   "source": [
    "# Open FSL eyes\n",
    "\n",
    "fsleyesDisplay = FSLeyesServer()\n",
    "fsleyesDisplay.show()"
   ]
  },
  {
   "cell_type": "code",
   "execution_count": 4,
   "id": "6452a7cb-c58a-4b30-98ce-7ba2a796c352",
   "metadata": {},
   "outputs": [],
   "source": [
    "# Functions to download dataset\n",
    "\n",
    "def mkdir_no_exist(path):\n",
    "    if not op.isdir(path):\n",
    "        os.makedirs(path)\n",
    "        \n",
    "class DownloadProgressBar(tqdm):\n",
    "    def update_to(self, b=1, bsize=1, tsize=None):\n",
    "        if tsize is not None:\n",
    "            self.total = tsize\n",
    "        self.update(b * bsize - self.n)\n",
    "\n",
    "def download_url(url, output_path):\n",
    "    with DownloadProgressBar(unit='B', unit_scale=True,\n",
    "                             miniters=1, desc=url.split('/')[-1]) as t:\n",
    "        urllib.request.urlretrieve(url, filename=output_path, reporthook=t.update_to)\n",
    "\n",
    "def direct_file_download_open_neuro(file_list, file_types, dataset_id, dataset_version, save_dirs):\n",
    "    # https://openneuro.org/crn/datasets/ds004226/snapshots/1.0.0/files/sub-001:sub-001_scans.tsv\n",
    "    for i, n in enumerate(file_list):\n",
    "        subject = n.split('_')[0]\n",
    "        download_link = 'https://openneuro.org/crn/datasets/{}/snapshots/{}/files/{}:{}:{}'.format(dataset_id, dataset_version, subject, file_types[i],n)\n",
    "        print('Attempting download from ', download_link)\n",
    "        download_url(download_link, op.join(save_dirs[i], n))\n",
    "        print('Ok')"
   ]
  },
  {
   "cell_type": "code",
   "execution_count": 8,
   "id": "72dcab88-03c9-431a-8f7f-92366647f200",
   "metadata": {
    "scrolled": true
   },
   "outputs": [
    {
     "name": "stdout",
     "output_type": "stream",
     "text": [
      "Using default location ~/mne_data for sample...\n",
      "Creating /home/jovyan/mne_data\n"
     ]
    },
    {
     "name": "stderr",
     "output_type": "stream",
     "text": [
      "Downloading file 'MNE-sample-data-processed.tar.gz' from 'https://osf.io/86qa2/download?version=6' to '/home/jovyan/mne_data'.\n",
      "100%|█████████████████████████████████████| 1.65G/1.65G [00:00<00:00, 2.37TB/s]\n",
      "Untarring contents of '/home/jovyan/mne_data/MNE-sample-data-processed.tar.gz' to '/home/jovyan/mne_data'\n"
     ]
    },
    {
     "name": "stdout",
     "output_type": "stream",
     "text": [
      "Attempting to create new mne-python configuration file:\n",
      "/home/jovyan/.mne/mne-python.json\n",
      "Download complete in 01m54s (1576.2 MB)\n",
      "Attempting download from  https://openneuro.org/crn/datasets/ds000171/snapshots/00001/files/sub-control01:func:sub-control01_task-music_run-1_bold.nii.gz\n"
     ]
    },
    {
     "name": "stderr",
     "output_type": "stream",
     "text": [
      "sub-control01:func:sub-control01_task-music_run-1_bold.nii.gz: 35.5MB [00:14, 2.37MB/s]                  \n"
     ]
    },
    {
     "name": "stdout",
     "output_type": "stream",
     "text": [
      "Ok\n",
      "Attempting download from  https://openneuro.org/crn/datasets/ds000171/snapshots/00001/files/sub-control01:func:sub-control01_task-music_run-1_events.tsv\n"
     ]
    },
    {
     "name": "stderr",
     "output_type": "stream",
     "text": [
      "sub-control01:func:sub-control01_task-music_run-1_events.tsv: 8.19kB [00:00, 24.5kB/s]\n"
     ]
    },
    {
     "name": "stdout",
     "output_type": "stream",
     "text": [
      "Ok\n",
      "Attempting download from  https://openneuro.org/crn/datasets/ds000171/snapshots/00001/files/sub-control01:func:sub-control01_task-music_run-2_bold.nii.gz\n"
     ]
    },
    {
     "name": "stderr",
     "output_type": "stream",
     "text": [
      "sub-control01:func:sub-control01_task-music_run-2_bold.nii.gz: 35.5MB [00:15, 2.31MB/s]                  \n"
     ]
    },
    {
     "name": "stdout",
     "output_type": "stream",
     "text": [
      "Ok\n",
      "Attempting download from  https://openneuro.org/crn/datasets/ds000171/snapshots/00001/files/sub-control01:func:sub-control01_task-music_run-2_events.tsv\n"
     ]
    },
    {
     "name": "stderr",
     "output_type": "stream",
     "text": [
      "sub-control01:func:sub-control01_task-music_run-2_events.tsv: 8.19kB [00:00, 11.4kB/s]\n"
     ]
    },
    {
     "name": "stdout",
     "output_type": "stream",
     "text": [
      "Ok\n",
      "Attempting download from  https://openneuro.org/crn/datasets/ds000171/snapshots/00001/files/sub-control01:func:sub-control01_task-music_run-3_bold.nii.gz\n"
     ]
    },
    {
     "name": "stderr",
     "output_type": "stream",
     "text": [
      "sub-control01:func:sub-control01_task-music_run-3_bold.nii.gz: 35.5MB [00:02, 13.5MB/s]                \n"
     ]
    },
    {
     "name": "stdout",
     "output_type": "stream",
     "text": [
      "Ok\n",
      "Attempting download from  https://openneuro.org/crn/datasets/ds000171/snapshots/00001/files/sub-control01:func:sub-control01_task-music_run-3_events.tsv\n"
     ]
    },
    {
     "name": "stderr",
     "output_type": "stream",
     "text": [
      "sub-control01:func:sub-control01_task-music_run-3_events.tsv: 8.19kB [00:00, 11.7kB/s]\n"
     ]
    },
    {
     "name": "stdout",
     "output_type": "stream",
     "text": [
      "Ok\n",
      "Attempting download from  https://openneuro.org/crn/datasets/ds000171/snapshots/00001/files/sub-control01:anat:sub-control01_T1w.nii.gz\n"
     ]
    },
    {
     "name": "stderr",
     "output_type": "stream",
     "text": [
      "sub-control01:anat:sub-control01_T1w.nii.gz: 9.21MB [00:01, 5.83MB/s]                \n"
     ]
    },
    {
     "name": "stdout",
     "output_type": "stream",
     "text": [
      "Ok\n",
      "Attempting download from: https://openneuro.org/crn/datasets/ds000171/snapshots/00001/files/CHANGES\n"
     ]
    },
    {
     "name": "stderr",
     "output_type": "stream",
     "text": [
      "CHANGES: 8.19kB [00:00, 16.0kB/s]\n"
     ]
    },
    {
     "name": "stdout",
     "output_type": "stream",
     "text": [
      "Downloaded: CHANGES\n",
      "Attempting download from: https://openneuro.org/crn/datasets/ds000171/snapshots/00001/files/README\n"
     ]
    },
    {
     "name": "stderr",
     "output_type": "stream",
     "text": [
      "README: 8.19kB [00:00, 15.3kB/s]\n"
     ]
    },
    {
     "name": "stdout",
     "output_type": "stream",
     "text": [
      "Downloaded: README\n",
      "Attempting download from: https://openneuro.org/crn/datasets/ds000171/snapshots/00001/files/dataset_description.json\n"
     ]
    },
    {
     "name": "stderr",
     "output_type": "stream",
     "text": [
      "dataset_description.json: 8.19kB [00:00, 13.8kB/s]\n"
     ]
    },
    {
     "name": "stdout",
     "output_type": "stream",
     "text": [
      "Downloaded: dataset_description.json\n",
      "Attempting download from: https://openneuro.org/crn/datasets/ds000171/snapshots/00001/files/T1w.json\n"
     ]
    },
    {
     "name": "stderr",
     "output_type": "stream",
     "text": [
      "T1w.json: 8.19kB [00:00, 15.0kB/s]\n"
     ]
    },
    {
     "name": "stdout",
     "output_type": "stream",
     "text": [
      "Downloaded: T1w.json\n",
      "Attempting download from: https://openneuro.org/crn/datasets/ds000171/snapshots/00001/files/participants.tsv\n"
     ]
    },
    {
     "name": "stderr",
     "output_type": "stream",
     "text": [
      "participants.tsv: 8.19kB [00:00, 14.9kB/s]\n"
     ]
    },
    {
     "name": "stdout",
     "output_type": "stream",
     "text": [
      "Downloaded: participants.tsv\n",
      "Attempting download from: https://openneuro.org/crn/datasets/ds000171/snapshots/00001/files/task-music_bold.json\n"
     ]
    },
    {
     "name": "stderr",
     "output_type": "stream",
     "text": [
      "task-music_bold.json: 8.19kB [00:00, 14.2kB/s]\n"
     ]
    },
    {
     "name": "stdout",
     "output_type": "stream",
     "text": [
      "Downloaded: task-music_bold.json\n",
      "Attempting download from: https://openneuro.org/crn/datasets/ds000171/snapshots/00001/files/task-nonmusic_bold.json\n"
     ]
    },
    {
     "name": "stderr",
     "output_type": "stream",
     "text": [
      "task-nonmusic_bold.json: 8.19kB [00:00, 15.2kB/s]"
     ]
    },
    {
     "name": "stdout",
     "output_type": "stream",
     "text": [
      "Downloaded: task-nonmusic_bold.json\n"
     ]
    },
    {
     "name": "stderr",
     "output_type": "stream",
     "text": [
      "\n"
     ]
    }
   ],
   "source": [
    "# Download dataset\n",
    "\n",
    "dataset_fmap = 'ds000171'\n",
    "subject_fmap = '001'\n",
    "\n",
    "# Main directory\n",
    "bids_root = op.join(op.dirname(sample.data_path()), dataset_fmap)\n",
    "\n",
    "# Paths for functional and anatomical data\n",
    "func_path = op.join(bids_root, 'sub-control01', 'func')\n",
    "anat_path = op.join(bids_root, 'sub-control01', 'anat')\n",
    "deriv_root = op.join(bids_root, 'derivatives')\n",
    "preproc_root = op.join(bids_root, 'derivatives','preprocessed_data')\n",
    "\n",
    "# Create directories for func and anat\n",
    "mkdir_no_exist(bids_root)\n",
    "mkdir_no_exist(op.join(bids_root, 'sub-control01'))\n",
    "mkdir_no_exist(func_path)\n",
    "mkdir_no_exist(anat_path)\n",
    "mkdir_no_exist(deriv_root)\n",
    "mkdir_no_exist(preproc_root)\n",
    "\n",
    "# List of functional files to download\n",
    "file_list = [\n",
    "    'sub-control01_task-music_run-1_bold.nii.gz',\n",
    "    'sub-control01_task-music_run-1_events.tsv',\n",
    "    'sub-control01_task-music_run-2_bold.nii.gz',\n",
    "    'sub-control01_task-music_run-2_events.tsv',\n",
    "    'sub-control01_task-music_run-3_bold.nii.gz',\n",
    "    'sub-control01_task-music_run-3_events.tsv',\n",
    "]\n",
    "\n",
    "file_types = ['func'] * len(file_list)\n",
    "save_dirs = [func_path] * len(file_list)\n",
    "\n",
    "\n",
    "direct_file_download_open_neuro(file_list=file_list, \n",
    "                                 file_types=file_types, \n",
    "                                 dataset_id=dataset_fmap, \n",
    "                                 dataset_version='00001', \n",
    "                                 save_dirs=save_dirs)\n",
    "\n",
    "# List of anatomical files to download\n",
    "anat_file_list = ['sub-control01_T1w.nii.gz']\n",
    "\n",
    "# For the anac files, define their types and save directories\n",
    "anat_file_types = ['anat'] * len(anat_file_list)\n",
    "anat_save_dirs = [anat_path] * len(anat_file_list)\n",
    "\n",
    "# Download anatomical files\n",
    "direct_file_download_open_neuro(file_list=anat_file_list, \n",
    "                                 file_types=anat_file_types, \n",
    "                                 dataset_id=dataset_fmap, \n",
    "                                 dataset_version='00001', \n",
    "                                 save_dirs=anat_save_dirs)\n",
    "\n",
    "otherfiles_list = [\n",
    "    'CHANGES',\n",
    "    'README',\n",
    "    'dataset_description.json',\n",
    "    'T1w.json',\n",
    "    'participants.tsv',\n",
    "    'task-music_bold.json',\n",
    "    'task-nonmusic_bold.json'\n",
    "]\n",
    "\n",
    "for filename in otherfiles_list:\n",
    "    # Construct the download link for these files\n",
    "    download_link = f'https://openneuro.org/crn/datasets/{dataset_fmap}/snapshots/00001/files/{filename}'\n",
    "    print(f'Attempting download from: {download_link}')\n",
    "    # Download the file without specifying file_type\n",
    "    download_url(download_link, op.join(bids_root, filename))\n",
    "    print('Downloaded:', filename)"
   ]
  },
  {
   "cell_type": "code",
   "execution_count": 9,
   "id": "ad7da476-5054-49e4-97a6-38d06228f0ff",
   "metadata": {},
   "outputs": [
    {
     "name": "stdout",
     "output_type": "stream",
     "text": [
      "Concatenation complete and saved as 'sub-control01_task-music_concatenated_bold.nii.gz'.\n"
     ]
    }
   ],
   "source": [
    "# Data standardization\n",
    "\n",
    "# Load the individual fMRI runs\n",
    "run1 = nib.load(op.join(func_path, 'sub-control01_task-music_run-1_bold.nii.gz'))\n",
    "run2 = nib.load(op.join(func_path, 'sub-control01_task-music_run-2_bold.nii.gz'))\n",
    "run3 = nib.load(op.join(func_path, 'sub-control01_task-music_run-3_bold.nii.gz'))\n",
    "\n",
    "concatenated_file_path = '/home/jovyan/mne_data/ds000171/sub-control01/func/sub-control01_task-music_concatenated_bold.nii.gz'\n",
    "\n",
    "def standardize_img(img):\n",
    "    data = img.get_fdata()\n",
    "    mean = np.mean(data)\n",
    "    std = np.std(data)\n",
    "    standardized_data = (data - mean) / std\n",
    "    return nib.Nifti1Image(standardized_data, img.affine)\n",
    "\n",
    "run1_standardized = standardize_img(run1)\n",
    "run2_standardized = standardize_img(run2)\n",
    "run3_standardized = standardize_img(run3)\n",
    "\n",
    "concatenated_img = concat_imgs([run1_standardized, run2_standardized, run3_standardized])\n",
    "\n",
    "nib.save(concatenated_img, concatenated_file_path)\n",
    "\n",
    "print(\"Concatenation complete and saved as 'sub-control01_task-music_concatenated_bold.nii.gz'.\")"
   ]
  },
  {
   "cell_type": "code",
   "execution_count": 6,
   "id": "e631e344-b5dc-4bba-9d54-e68fa7840c07",
   "metadata": {
    "collapsed": true,
    "jupyter": {
     "outputs_hidden": true,
     "source_hidden": true
    },
    "scrolled": true
   },
   "outputs": [
    {
     "name": "stderr",
     "output_type": "stream",
     "text": [
      "\n",
      "(ipykernel_launcher.py:512): Gdk-WARNING **: 17:27:35.796: gdkdrawable-x11.c:952 drawable is not a pixmap or window\n",
      "17:27:35: Debug: ClientToScreen cannot work when toplevel window is not shown\n",
      "17:27:35: Debug: ClientToScreen cannot work when toplevel window is not shown\n",
      "\n",
      "(ipykernel_launcher.py:512): Gdk-WARNING **: 17:27:35.799: gdkdrawable-x11.c:952 drawable is not a pixmap or window\n",
      "17:27:35: Debug: ClientToScreen cannot work when toplevel window is not shown\n",
      "17:27:35: Debug: ClientToScreen cannot work when toplevel window is not shown\n",
      "\n",
      "(ipykernel_launcher.py:512): Gdk-WARNING **: 17:27:35.801: gdkdrawable-x11.c:952 drawable is not a pixmap or window\n",
      "17:27:35: Debug: ClientToScreen cannot work when toplevel window is not shown\n",
      "17:27:35: Debug: ClientToScreen cannot work when toplevel window is not shown\n",
      "\n",
      "(ipykernel_launcher.py:512): Gdk-WARNING **: 17:27:35.802: gdkdrawable-x11.c:952 drawable is not a pixmap or window\n",
      "17:27:35: Debug: ClientToScreen cannot work when toplevel window is not shown\n",
      "17:27:35: Debug: ClientToScreen cannot work when toplevel window is not shown\n",
      "\n",
      "(ipykernel_launcher.py:512): Gdk-WARNING **: 17:27:35.803: gdkdrawable-x11.c:952 drawable is not a pixmap or window\n",
      "17:27:35: Debug: ClientToScreen cannot work when toplevel window is not shown\n",
      "17:27:35: Debug: ClientToScreen cannot work when toplevel window is not shown\n",
      "\n",
      "(ipykernel_launcher.py:512): Gdk-WARNING **: 17:27:35.804: gdkdrawable-x11.c:952 drawable is not a pixmap or window\n",
      "17:27:35: Debug: ClientToScreen cannot work when toplevel window is not shown\n",
      "17:27:35: Debug: ClientToScreen cannot work when toplevel window is not shown\n",
      "\n",
      "(ipykernel_launcher.py:512): Gdk-WARNING **: 17:27:35.805: gdkdrawable-x11.c:952 drawable is not a pixmap or window\n",
      "17:27:35: Debug: ClientToScreen cannot work when toplevel window is not shown\n",
      "17:27:35: Debug: ClientToScreen cannot work when toplevel window is not shown\n"
     ]
    },
    {
     "name": "stdout",
     "output_type": "stream",
     "text": [
      "Loaded: /home/jovyan/mne_data/ds000171/sub-control01/func/concatenated_task_music_bold.nii.gz\n"
     ]
    }
   ],
   "source": [
    "# Display standardized data\n",
    "\n",
    "fsleyesDisplay.resetOverlays()\n",
    "\n",
    "if op.exists(concatenated_file_path):\n",
    "    fsleyesDisplay.load(concatenated_file_path)\n",
    "    \n",
    "    print(\"Loaded:\", concatenated_file_path)\n",
    "else:\n",
    "    print(\"File does not exist at the specified path.\")"
   ]
  },
  {
   "cell_type": "markdown",
   "id": "e86a5704-5041-4471-a399-684768c06797",
   "metadata": {},
   "source": [
    "# Preprocessing"
   ]
  },
  {
   "cell_type": "markdown",
   "id": "aac942f9-1bac-45a8-891a-216937fb0adf",
   "metadata": {},
   "source": [
    "## Anatomical"
   ]
  },
  {
   "cell_type": "markdown",
   "id": "9af4ab62-ae06-46e1-abf6-b78f91c0d73b",
   "metadata": {
    "jp-MarkdownHeadingCollapsed": true
   },
   "source": [
    "### Skull stripping"
   ]
  },
  {
   "cell_type": "code",
   "execution_count": 10,
   "id": "cf25883f-ac9c-496e-b622-7dbd66f98b8d",
   "metadata": {
    "scrolled": true
   },
   "outputs": [
    {
     "name": "stdout",
     "output_type": "stream",
     "text": [
      "Done with BET.\n"
     ]
    }
   ],
   "source": [
    "# BET\n",
    "\n",
    "def get_skull_stripped_anatomical(bids_root, preproc_root, subject_id, robust=False):\n",
    "    \"\"\"\n",
    "    Perform skull-stripping on the T1w anatomical image for the specified subject.\n",
    "        Parameters\n",
    "    ----------\n",
    "    bids_root: string\n",
    "        The root of the BIDS directory\n",
    "    preproc_root: string\n",
    "        The root of the preprocessed data, where the result of the brain extraction will be saved.\n",
    "    subject_id: string\n",
    "        Subject ID, the subject on which brain extraction should be conducted.\n",
    "    robust: bool\n",
    "        Whether to conduct robust center estimation with BET or not. Default is False.\n",
    "    \"\"\"\n",
    "    subject = f'sub-{subject_id}'\n",
    "    anatomical_path = op.join(bids_root, subject, 'anat', f'{subject}_T1w.nii.gz')\n",
    "    \n",
    "    betted_brain_path = op.join(preproc_root, subject, 'anat', f'{subject}_T1w')\n",
    "\n",
    "    mkdir_no_exist(op.join(preproc_root, subject, 'anat'))\n",
    "    \n",
    "    os.system(f'bet {anatomical_path} {betted_brain_path} -m {\"-R\" if robust else \"\"}')\n",
    "    print(\"Done with BET.\")\n",
    "\n",
    "resulting_mask_path = op.join(preproc_root, 'sub-control01', 'anat', 'sub-control01_T1w_mask')\n",
    "\n",
    "get_skull_stripped_anatomical(bids_root, preproc_root, \"control01\", robust=True)\n"
   ]
  },
  {
   "cell_type": "code",
   "execution_count": 11,
   "id": "4f4a0c05-4943-427e-970d-b03744e8b58d",
   "metadata": {
    "scrolled": true
   },
   "outputs": [
    {
     "name": "stderr",
     "output_type": "stream",
     "text": [
      "\n",
      "(ipykernel_launcher.py:586): Gdk-WARNING **: 07:44:20.756: gdkdrawable-x11.c:952 drawable is not a pixmap or window\n"
     ]
    }
   ],
   "source": [
    "# Display BET\n",
    "\n",
    "fsleyesDisplay.resetOverlays()\n",
    "fsleyesDisplay.load(concatenated_file_path)\n",
    "fsleyesDisplay.load(resulting_mask_path)"
   ]
  },
  {
   "cell_type": "code",
   "execution_count": 12,
   "id": "7688067d-f428-49e6-b6d2-a90b8f87d096",
   "metadata": {},
   "outputs": [
    {
     "name": "stdout",
     "output_type": "stream",
     "text": [
      "Masked image saved at: /home/jovyan/mne_data/ds000171/sub-control01/anat/sub-control01_T1w.nii.gz\n"
     ]
    }
   ],
   "source": [
    "# Actually extract the brain\n",
    "\n",
    "def apply_fsl_math_approach(img_path, mask_path, masked_img_path):\n",
    "    \"\"\"\n",
    "    Parameters\n",
    "    ----------\n",
    "    img_path: str\n",
    "        Path to the input image that needs to be masked.\n",
    "    mask_path: str\n",
    "        Path to the mask image.\n",
    "    masked_img_path: str\n",
    "        Path where the masked output image will be saved.\n",
    "    \"\"\"\n",
    "    # Execute the fslmaths command with the -mas option\n",
    "    os.system('fslmaths {} -mas {} {}'.format(img_path, mask_path, masked_img_path))\n",
    "    print(f\"Masked image saved at: {masked_img_path}\")\n",
    "\n",
    "# Define paths based on your dataset structure\n",
    "subject_id = \"control01\"\n",
    "anatomical_path = op.join(bids_root, f'sub-{subject_id}', 'anat', f'sub-{subject_id}_T1w.nii.gz')  # Original brain\n",
    "betted_brain_path = op.join(preproc_root, f'sub-{subject_id}', 'anat', f'sub-{subject_id}_T1w.nii.gz')  # Skull-stripped brain\n",
    "resulting_mask_path = op.join(preproc_root, f'sub-{subject_id}', 'anat', f'sub-{subject_id}_T1w_mask.nii.gz')  # The mask\n",
    "\n",
    "apply_fsl_math_approach(betted_brain_path, resulting_mask_path, anatomical_path)\n"
   ]
  },
  {
   "cell_type": "code",
   "execution_count": 13,
   "id": "46020b29-42c5-4290-93a3-3711911f078b",
   "metadata": {
    "scrolled": true
   },
   "outputs": [],
   "source": [
    "# Display the extracted brain\n",
    "\n",
    "fsleyesDisplay.resetOverlays()\n",
    "fsleyesDisplay.load(betted_brain_path)"
   ]
  },
  {
   "cell_type": "markdown",
   "id": "07142a8f-9f83-44a8-b58e-c696baa420b8",
   "metadata": {
    "jp-MarkdownHeadingCollapsed": true
   },
   "source": [
    "### Segmentation"
   ]
  },
  {
   "cell_type": "code",
   "execution_count": 14,
   "id": "c40b2dfd-4277-480c-8023-789bc5ca0196",
   "metadata": {
    "scrolled": true
   },
   "outputs": [
    {
     "name": "stdout",
     "output_type": "stream",
     "text": [
      "FAST segmentation complete.\n"
     ]
    }
   ],
   "source": [
    "# FAST segmentation\n",
    "\n",
    "subject = f'sub-{subject_id}'\n",
    "anatomical_path = op.join(bids_root, subject, 'anat', f'{subject}_T1w.nii.gz')\n",
    "bet_path = op.join(preproc_root, subject, 'anat', f'{subject}_T1w')\n",
    "\n",
    "fast_target = bet_path # Replace with either anatomical_path or bet_path (note: you can try both and decide which is more reasonable!)\n",
    "\n",
    "[os.remove(f) for f in glob.glob(op.join(preproc_root, subject, 'anat', '*fast*'))] # Just to clean the directory in between runs of the cell\n",
    "segmentation_path = op.join(preproc_root, subject, 'anat', f'{subject}_T1w_fast')\n",
    "fast(imgs=[fast_target], out=segmentation_path, n_classes=3)\n",
    "print(\"FAST segmentation complete.\")"
   ]
  },
  {
   "cell_type": "markdown",
   "id": "1a21ddbe-0053-4f38-9cb6-d6c6bc698659",
   "metadata": {},
   "source": [
    "# Functional"
   ]
  },
  {
   "cell_type": "code",
   "execution_count": 18,
   "id": "04d3507b-9256-42c9-b36d-5959b18fb182",
   "metadata": {},
   "outputs": [
    {
     "data": {
      "text/plain": [
       "Text(0, 0.5, 'Mean voxel intensity')"
      ]
     },
     "execution_count": 18,
     "metadata": {},
     "output_type": "execute_result"
    },
    {
     "data": {
      "image/png": "[encoded data removed]",
      "text/plain": [
       "<Figure size 640x480 with 1 Axes>"
      ]
     },
     "metadata": {},
     "output_type": "display_data"
    }
   ],
   "source": [
    "# Check the contrast\n",
    "# looking at the y-axis I guess we are fine (?)\n",
    "# I checked there are 315 volumes\n",
    "\n",
    "plt.plot(nib.load(op.join(bids_root, 'sub-control01', 'func', 'sub-control01_task-music_concatenated_bold.nii.gz')).get_fdata().mean(axis=(0,1,2)))\n",
    "plt.xlabel('Time (volume)')\n",
    "plt.ylabel('Mean voxel intensity')"
   ]
  },
  {
   "cell_type": "markdown",
   "id": "f4a2c7f1-bd70-470d-954e-dcefe6a746da",
   "metadata": {},
   "source": [
    "### Motion correction"
   ]
  },
  {
   "cell_type": "code",
   "execution_count": 19,
   "id": "ba1a5ee3-70b4-43d3-8c23-d6776708a460",
   "metadata": {
    "scrolled": true
   },
   "outputs": [
    {
     "name": "stderr",
     "output_type": "stream",
     "text": [
      "Processed data will be saved as /home/jovyan/mne_data/ds000171/derivatives/preprocessed_data/sub-control01/func/sub-control01_task-music_concatenated_bold_moco.nii.gz\n",
      "\n",
      "McFLIRT v 2.0 - FMRI motion correction\n",
      "\n",
      "Reading time series... \n",
      "first iteration - 8mm scaling, set tolerance\n",
      "Rescaling reference volume [157] to 8 mm pixels\n",
      "Registering volumes ... [158][159][160][161][162][163][164][165][166][167][168][169][170][171][172][173][174][175][176][177][178][179][180][181][182][183][184][185][186][187][188][189][190][191][192][193][194][195][196][197][198][199][200][201][202][203][204][205][206][207][208][209][210][211][212][213][214][215][216][217][218][219][220][221][222][223][224][225][226][227][228][229][230][231][232][233][234][235][236][237][238][239][240][241][242][243][244][245][246][247][248][249][250][251][252][253][254][255][256][257][258][259][260][261][262][263][264][265][266][267][268][269][270][271][272][273][274][275][276][277][278][279][280][281][282][283][284][285][286][287][288][289][290][291][292][293][294][295][296][297][298][299][300][301][302][303][304][305][306][307][308][309][310][311][312][313][314][156][155][154][153][152][151][150][149][148][147][146][145][144][143][142][141][140][139][138][137][136][135][134][133][132][131][130][129][128][127][126][125][124][123][122][121][120][119][118][117][116][115][114][113][112][111][110][109][108][107][106][105][104][103][102][101][100][99][98][97][96][95][94][93][92][91][90][89][88][87][86][85][84][83][82][81][80][79][78][77][76][75][74][73][72][71][70][69][68][67][66][65][64][63][62][61][60][59][58][57][56][55][54][53][52][51][50][49][48][47][46][45][44][43][42][41][40][39][38][37][36][35][34][33][32][31][30][29][28][27][26][25][24][23][22][21][20][19][18][17][16][15][14][13][12][11][10][9][8][7][6][5][4][3][2][1][0]\n",
      "second iteration - drop to 4mm scaling\n",
      "Rescaling reference volume [157] to 4 mm pixels\n",
      "Registering volumes ... [158][159][160][161][162][163][164][165][166][167][168][169][170][171][172][173][174][175][176][177][178][179][180][181][182][183][184][185][186][187][188][189][190][191][192][193][194][195][196][197][198][199][200][201][202][203][204][205][206][207][208][209][210][211][212][213][214][215][216][217][218][219][220][221][222][223][224][225][226][227][228][229][230][231][232][233][234][235][236][237][238][239][240][241][242][243][244][245][246][247][248][249][250][251][252][253][254][255][256][257][258][259][260][261][262][263][264][265][266][267][268][269][270][271][272][273][274][275][276][277][278][279][280][281][282][283][284][285][286][287][288][289][290][291][292][293][294][295][296][297][298][299][300][301][302][303][304][305][306][307][308][309][310][311][312][313][314][156][155][154][153][152][151][150][149][148][147][146][145][144][143][142][141][140][139][138][137][136][135][134][133][132][131][130][129][128][127][126][125][124][123][122][121][120][119][118][117][116][115][114][113][112][111][110][109][108][107][106][105][104][103][102][101][100][99][98][97][96][95][94][93][92][91][90][89][88][87][86][85][84][83][82][81][80][79][78][77][76][75][74][73][72][71][70][69][68][67][66][65][64][63][62][61][60][59][58][57][56][55][54][53][52][51][50][49][48][47][46][45][44][43][42][41][40][39][38][37][36][35][34][33][32][31][30][29][28][27][26][25][24][23][22][21][20][19][18][17][16][15][14][13][12][11][10][9][8][7][6][5][4][3][2][1][0]\n",
      "third iteration - 4mm scaling, eighth tolerance\n"
     ]
    },
    {
     "name": "stdout",
     "output_type": "stream",
     "text": [
      "refnum = 157\n",
      "Original_refvol = -1\n"
     ]
    },
    {
     "name": "stderr",
     "output_type": "stream",
     "text": [
      "Registering volumes ... [158][159][160][161][162][163][164][165][166][167][168][169][170][171][172][173][174][175][176][177][178][179][180][181][182][183][184][185][186][187][188][189][190][191][192][193][194][195][196][197][198][199][200][201][202][203][204][205][206][207][208][209][210][211][212][213][214][215][216][217][218][219][220][221][222][223][224][225][226][227][228][229][230][231][232][233][234][235][236][237][238][239][240][241][242][243][244][245][246][247][248][249][250][251][252][253][254][255][256][257][258][259][260][261][262][263][264][265][266][267][268][269][270][271][272][273][274][275][276][277][278][279][280][281][282][283][284][285][286][287][288][289][290][291][292][293][294][295][296][297][298][299][300][301][302][303][304][305][306][307][308][309][310][311][312][313][314][156][155][154][153][152][151][150][149][148][147][146][145][144][143][142][141][140][139][138][137][136][135][134][133][132][131][130][129][128][127][126][125][124][123][122][121][120][119][118][117][116][115][114][113][112][111][110][109][108][107][106][105][104][103][102][101][100][99][98][97][96][95][94][93][92][91][90][89][88][87][86][85][84][83][82][81][80][79][78][77][76][75][74][73][72][71][70][69][68][67][66][65][64][63][62][61][60][59][58][57][56][55][54][53][52][51][50][49][48][47][46][45][44][43][42][41][40][39][38][37][36][35][34][33][32][31][30][29][28][27][26][25][24][23][22][21][20][19][18][17][16][15][14][13][12][11][10][9][8][7][6][5][4][3][2][1][0]\n",
      "Saving motion corrected time series... \n"
     ]
    },
    {
     "data": {
      "text/plain": [
       "{}"
      ]
     },
     "execution_count": 19,
     "metadata": {},
     "output_type": "execute_result"
    }
   ],
   "source": [
    "# Motion Correction\n",
    "\n",
    "dataset_id = 'ds000171'\n",
    "subject = '01' \n",
    "\n",
    "mkdir_no_exist(os.path.join(preproc_root, 'sub-control01', 'func'))\n",
    "\n",
    "path_original_data = os.path.join(bids_root, 'sub-control01', 'func', 'sub-control01_task-music_concatenated_bold.nii.gz')\n",
    "path_moco_data = os.path.join(preproc_root, 'sub-control01', 'func', 'sub-control01_task-music_concatenated_bold_moco.nii.gz')\n",
    "mcflirt(infile=path_original_data,o=path_moco_data, plots=True, report=True, dof=6, mats=True)"
   ]
  },
  {
   "cell_type": "code",
   "execution_count": 20,
   "id": "582db1a5-ea5d-4640-b2b4-22821a26108b",
   "metadata": {},
   "outputs": [],
   "source": [
    "# Show motion correction\n",
    "\n",
    "fsleyesDisplay.resetOverlays()\n",
    "fsleyesDisplay.load(path_original_data)\n",
    "fsleyesDisplay.load(path_moco_data)"
   ]
  },
  {
   "cell_type": "code",
   "execution_count": 21,
   "id": "369bf1dc-a881-4d72-bb81-e16c7733a0a2",
   "metadata": {},
   "outputs": [
    {
     "name": "stdout",
     "output_type": "stream",
     "text": [
      "|ds000171/\n",
      "|--- CHANGES\n",
      "|--- README\n",
      "|--- T1w.json\n",
      "|--- dataset_description.json\n",
      "|--- participants.tsv\n",
      "|--- task-music_bold.json\n",
      "|--- task-nonmusic_bold.json\n",
      "|--- derivatives/\n",
      "|------ preprocessed_data/\n",
      "|--------- sub-control01/\n",
      "|------------ anat/\n",
      "|--------------- sub-control01_T1w.nii.gz\n",
      "|--------------- sub-control01_T1w_fast_mixeltype.nii.gz\n",
      "|--------------- sub-control01_T1w_fast_pve_0.nii.gz\n",
      "|--------------- sub-control01_T1w_fast_pve_1.nii.gz\n",
      "|--------------- sub-control01_T1w_fast_pve_2.nii.gz\n",
      "|--------------- sub-control01_T1w_fast_pveseg.nii.gz\n",
      "|--------------- sub-control01_T1w_fast_seg.nii.gz\n",
      "|--------------- sub-control01_T1w_mask.nii.gz\n",
      "|------------ func/\n",
      "|--------------- sub-control01_task-music_concatenated_bold_moco.nii.gz\n",
      "|--------------- sub-control01_task-music_concatenated_bold_moco.nii.gz.par\n",
      "|--------------- sub-control01_task-music_concatenated_bold_moco.nii.gz.mat/\n",
      "|--- sub-control01/\n",
      "|------ anat/\n",
      "|--------- sub-control01_T1w.nii.gz\n",
      "|------ func/\n",
      "|--------- sub-control01_task-music_concatenated_bold.nii.gz\n",
      "|--------- sub-control01_task-music_run-1_bold.nii.gz\n",
      "|--------- sub-control01_task-music_run-1_events.tsv\n",
      "|--------- sub-control01_task-music_run-2_bold.nii.gz\n",
      "|--------- sub-control01_task-music_run-2_events.tsv\n",
      "|--------- sub-control01_task-music_run-3_bold.nii.gz\n",
      "|--------- sub-control01_task-music_run-3_events.tsv\n"
     ]
    }
   ],
   "source": [
    "print_dir_tree(bids_root, max_depth=5)"
   ]
  },
  {
   "cell_type": "code",
   "execution_count": 23,
   "id": "64563d1b-b540-4ea0-a32d-5486ee48495b",
   "metadata": {
    "scrolled": true
   },
   "outputs": [
    {
     "data": {
      "text/html": [
       "<div>\n",
       "<style scoped>\n",
       "    .dataframe tbody tr th:only-of-type {\n",
       "        vertical-align: middle;\n",
       "    }\n",
       "\n",
       "    .dataframe tbody tr th {\n",
       "        vertical-align: top;\n",
       "    }\n",
       "\n",
       "    .dataframe thead th {\n",
       "        text-align: right;\n",
       "    }\n",
       "</style>\n",
       "<table border=\"1\" class=\"dataframe\">\n",
       "  <thead>\n",
       "    <tr style=\"text-align: right;\">\n",
       "      <th></th>\n",
       "      <th>Rotation x</th>\n",
       "      <th>Rotation y</th>\n",
       "      <th>Rotation z</th>\n",
       "      <th>Translation x</th>\n",
       "      <th>Translation y</th>\n",
       "      <th>Translation z</th>\n",
       "    </tr>\n",
       "  </thead>\n",
       "  <tbody>\n",
       "    <tr>\n",
       "      <th>0</th>\n",
       "      <td>-0.003267</td>\n",
       "      <td>0.002930</td>\n",
       "      <td>5.552720e-07</td>\n",
       "      <td>-0.059817</td>\n",
       "      <td>-0.518985</td>\n",
       "      <td>-0.470659</td>\n",
       "    </tr>\n",
       "    <tr>\n",
       "      <th>1</th>\n",
       "      <td>-0.003333</td>\n",
       "      <td>0.002930</td>\n",
       "      <td>-1.600820e-04</td>\n",
       "      <td>-0.066681</td>\n",
       "      <td>-0.490942</td>\n",
       "      <td>-0.467984</td>\n",
       "    </tr>\n",
       "    <tr>\n",
       "      <th>2</th>\n",
       "      <td>-0.003147</td>\n",
       "      <td>0.002880</td>\n",
       "      <td>-1.880300e-04</td>\n",
       "      <td>-0.053630</td>\n",
       "      <td>-0.470922</td>\n",
       "      <td>-0.446214</td>\n",
       "    </tr>\n",
       "    <tr>\n",
       "      <th>3</th>\n",
       "      <td>-0.003264</td>\n",
       "      <td>0.003291</td>\n",
       "      <td>-3.337180e-04</td>\n",
       "      <td>-0.067658</td>\n",
       "      <td>-0.483699</td>\n",
       "      <td>-0.463707</td>\n",
       "    </tr>\n",
       "    <tr>\n",
       "      <th>4</th>\n",
       "      <td>-0.002729</td>\n",
       "      <td>0.003120</td>\n",
       "      <td>-3.183150e-04</td>\n",
       "      <td>-0.073350</td>\n",
       "      <td>-0.470581</td>\n",
       "      <td>-0.494909</td>\n",
       "    </tr>\n",
       "    <tr>\n",
       "      <th>...</th>\n",
       "      <td>...</td>\n",
       "      <td>...</td>\n",
       "      <td>...</td>\n",
       "      <td>...</td>\n",
       "      <td>...</td>\n",
       "      <td>...</td>\n",
       "    </tr>\n",
       "    <tr>\n",
       "      <th>310</th>\n",
       "      <td>0.008946</td>\n",
       "      <td>-0.000008</td>\n",
       "      <td>-2.131270e-03</td>\n",
       "      <td>-0.087116</td>\n",
       "      <td>0.400872</td>\n",
       "      <td>0.237711</td>\n",
       "    </tr>\n",
       "    <tr>\n",
       "      <th>311</th>\n",
       "      <td>0.009100</td>\n",
       "      <td>-0.000159</td>\n",
       "      <td>-2.114960e-03</td>\n",
       "      <td>-0.084539</td>\n",
       "      <td>0.374362</td>\n",
       "      <td>0.217879</td>\n",
       "    </tr>\n",
       "    <tr>\n",
       "      <th>312</th>\n",
       "      <td>0.009154</td>\n",
       "      <td>-0.000425</td>\n",
       "      <td>-1.901570e-03</td>\n",
       "      <td>-0.085075</td>\n",
       "      <td>0.404540</td>\n",
       "      <td>0.224777</td>\n",
       "    </tr>\n",
       "    <tr>\n",
       "      <th>313</th>\n",
       "      <td>0.008975</td>\n",
       "      <td>-0.000425</td>\n",
       "      <td>-2.162820e-03</td>\n",
       "      <td>-0.103438</td>\n",
       "      <td>0.370850</td>\n",
       "      <td>0.211481</td>\n",
       "    </tr>\n",
       "    <tr>\n",
       "      <th>314</th>\n",
       "      <td>0.009084</td>\n",
       "      <td>-0.000461</td>\n",
       "      <td>-2.443050e-03</td>\n",
       "      <td>-0.134170</td>\n",
       "      <td>0.358804</td>\n",
       "      <td>0.213392</td>\n",
       "    </tr>\n",
       "  </tbody>\n",
       "</table>\n",
       "<p>315 rows × 6 columns</p>\n",
       "</div>"
      ],
      "text/plain": [
       "     Rotation x  Rotation y    Rotation z  Translation x  Translation y  \\\n",
       "0     -0.003267    0.002930  5.552720e-07      -0.059817      -0.518985   \n",
       "1     -0.003333    0.002930 -1.600820e-04      -0.066681      -0.490942   \n",
       "2     -0.003147    0.002880 -1.880300e-04      -0.053630      -0.470922   \n",
       "3     -0.003264    0.003291 -3.337180e-04      -0.067658      -0.483699   \n",
       "4     -0.002729    0.003120 -3.183150e-04      -0.073350      -0.470581   \n",
       "..          ...         ...           ...            ...            ...   \n",
       "310    0.008946   -0.000008 -2.131270e-03      -0.087116       0.400872   \n",
       "311    0.009100   -0.000159 -2.114960e-03      -0.084539       0.374362   \n",
       "312    0.009154   -0.000425 -1.901570e-03      -0.085075       0.404540   \n",
       "313    0.008975   -0.000425 -2.162820e-03      -0.103438       0.370850   \n",
       "314    0.009084   -0.000461 -2.443050e-03      -0.134170       0.358804   \n",
       "\n",
       "     Translation z  \n",
       "0        -0.470659  \n",
       "1        -0.467984  \n",
       "2        -0.446214  \n",
       "3        -0.463707  \n",
       "4        -0.494909  \n",
       "..             ...  \n",
       "310       0.237711  \n",
       "311       0.217879  \n",
       "312       0.224777  \n",
       "313       0.211481  \n",
       "314       0.213392  \n",
       "\n",
       "[315 rows x 6 columns]"
      ]
     },
     "execution_count": 23,
     "metadata": {},
     "output_type": "execute_result"
    }
   ],
   "source": [
    "def load_mot_params_fsl_6_dof(path):\n",
    "    return pd.read_csv(path, sep='  ', header=None, \n",
    "            engine='python', names=['Rotation x', 'Rotation y', 'Rotation z','Translation x', 'Translation y', 'Translation z'])\n",
    "\n",
    "mot_params = load_mot_params_fsl_6_dof(op.join(preproc_root, 'sub-control01', 'func', 'sub-control01_task-music_concatenated_bold_moco.nii.gz.par'))\n",
    "mot_params"
   ]
  },
  {
   "cell_type": "code",
   "execution_count": 24,
   "id": "b119d3f3-b5fd-4761-8916-2dd4870915b5",
   "metadata": {},
   "outputs": [],
   "source": [
    "def compute_FD_power(mot_params):\n",
    "    framewise_diff = mot_params.diff().iloc[1:]\n",
    "\n",
    "    rot_params = framewise_diff[['Rotation x', 'Rotation y', 'Rotation z']]\n",
    "    # Estimating displacement on a 50mm radius sphere\n",
    "    # To know this one, we can remember the definition of the radian!\n",
    "    # Indeed, let the radian be theta, the arc length be s and the radius be r.\n",
    "    # Then theta = s / r\n",
    "    # We want to determine here s, for a sphere of 50mm radius and knowing theta. Easy enough!\n",
    "    \n",
    "    # Another way to think about it is through the line integral along the circle.\n",
    "    # Integrating from 0 to theta with radius 50 will give you, unsurprisingly, r0 theta.\n",
    "    converted_rots = rot_params*50\n",
    "    trans_params = framewise_diff[['Translation x', 'Translation y', 'Translation z']]\n",
    "    fd = converted_rots.abs().sum(axis=1) + trans_params.abs().sum(axis=1)\n",
    "    return fd\n",
    "\n",
    "fd = compute_FD_power(mot_params).to_numpy()"
   ]
  },
  {
   "cell_type": "code",
   "execution_count": 25,
   "id": "ff2cea19-4485-4fb6-b68d-1f3719f09aea",
   "metadata": {},
   "outputs": [
    {
     "data": {
      "image/png": "[encoded data removed]",
      "text/plain": [
       "<Figure size 640x480 with 1 Axes>"
      ]
     },
     "metadata": {},
     "output_type": "display_data"
    }
   ],
   "source": [
    "threshold = np.quantile(fd,0.75) + 1.5*(np.quantile(fd,0.75) - np.quantile(fd,0.25))\n",
    "\n",
    "plt.plot(list(range(1, fd.size+1)), fd)\n",
    "plt.xlabel('Volume')\n",
    "plt.ylabel('FD displacement (mm)')\n",
    "plt.hlines(threshold, 0, 370,colors='black', linestyles='dashed', label='FD threshold')\n",
    "plt.legend()\n",
    "plt.show()"
   ]
  },
  {
   "cell_type": "markdown",
   "id": "b51a6cc4-0ab2-44e5-844d-56047b95893d",
   "metadata": {},
   "source": [
    "### Coregistration"
   ]
  },
  {
   "cell_type": "code",
   "execution_count": 27,
   "id": "18861393-83af-4ba3-b63e-6aca9a8c65e8",
   "metadata": {},
   "outputs": [
    {
     "name": "stdout",
     "output_type": "stream",
     "text": [
      "Running FAST segmentation\n",
      "FLIRT pre-alignment\n",
      "Running BBR\n",
      "0.302893 0.999475 -0.032397 0.000570 0.000000 0.032393 0.999457 0.006027 0.000000 -0.000765 -0.006005 0.999982 0.000000 -4.108243 7.995462 -1.185797 1.000000 \n"
     ]
    }
   ],
   "source": [
    "# Coregistration with epi_reg\n",
    "\n",
    "epi_target = op.join(preproc_root, 'sub-control01', 'func', 'sub-control01_task-music_concatenated_bold_moco')\n",
    "whole_t1 = op.join(bids_root, 'sub-control01', 'anat', 'sub-control01_T1w')\n",
    "skull_stripped_t1 = op.join(preproc_root, 'sub-control01', 'anat', 'sub-control01_T1w')\n",
    "output_path = op.join(preproc_root, 'sub-control01', 'func', 'sub-control01_task-music_concatenated_bold_bbr')\n",
    "ref_vol_name =  op.join(preproc_root, 'sub-control01', 'func', 'sub-control01_task-music_concatenated_bold_moco_vol_middle')\n",
    "\n",
    "use_single_vol = True\n",
    "\n",
    "if use_single_vol:\n",
    "    # Extract the middle volume with fslroi as we've seen before :)\n",
    "    fslroi(epi_target, ref_vol_name, str(182), str(1))\n",
    "    # Call epi_reg\n",
    "    subprocess.run(['epi_reg','--epi={}'.format(ref_vol_name), '--t1={}'.format(whole_t1), '--t1brain={}'.format(skull_stripped_t1), '--out={}'.format(output_path)])\n",
    "else:\n",
    "    subprocess.run(['epi_reg','--epi={}'.format(epi_target), '--t1={}'.format(whole_t1), '--t1brain={}'.format(skull_stripped_t1), '--out={}'.format(output_path)])"
   ]
  },
  {
   "cell_type": "code",
   "execution_count": 28,
   "id": "c79ece82-0776-45d0-8221-e0b4a75cd888",
   "metadata": {},
   "outputs": [],
   "source": [
    "# Clean up needed after epi_reg\n",
    "\n",
    "def cleanup_epi_reg(path_to_clean):\n",
    "    patterns = ['*_fast_*', '*_fieldmap*']\n",
    "    for p in patterns:\n",
    "        files = glob.glob(op.join(path_to_clean, p))\n",
    "        for f in files:\n",
    "            os.remove(f)\n",
    "cleanup_epi_reg(op.join(preproc_root, 'sub-001', 'func'))"
   ]
  },
  {
   "cell_type": "code",
   "execution_count": 29,
   "id": "3f5ba8a1-5e1d-4c16-a6d8-27d68d22f037",
   "metadata": {
    "scrolled": true
   },
   "outputs": [
    {
     "name": "stdout",
     "output_type": "stream",
     "text": [
      "|ds000171/\n",
      "|--- CHANGES\n",
      "|--- README\n",
      "|--- T1w.json\n",
      "|--- dataset_description.json\n",
      "|--- participants.tsv\n",
      "|--- task-music_bold.json\n",
      "|--- task-nonmusic_bold.json\n",
      "|--- derivatives/\n",
      "|------ preprocessed_data/\n",
      "|--------- sub-control01/\n",
      "|------------ anat/\n",
      "|--------------- sub-control01_T1w.nii.gz\n",
      "|--------------- sub-control01_T1w_fast_mixeltype.nii.gz\n",
      "|--------------- sub-control01_T1w_fast_pve_0.nii.gz\n",
      "|--------------- sub-control01_T1w_fast_pve_1.nii.gz\n",
      "|--------------- sub-control01_T1w_fast_pve_2.nii.gz\n",
      "|--------------- sub-control01_T1w_fast_pveseg.nii.gz\n",
      "|--------------- sub-control01_T1w_fast_seg.nii.gz\n",
      "|--------------- sub-control01_T1w_mask.nii.gz\n",
      "|------------ func/\n",
      "|--------------- sub-control01_task-music_concatenated_bold_bbr.mat\n",
      "|--------------- sub-control01_task-music_concatenated_bold_bbr.nii.gz\n",
      "|--------------- sub-control01_task-music_concatenated_bold_bbr_fast_wmedge.nii.gz\n",
      "|--------------- sub-control01_task-music_concatenated_bold_bbr_fast_wmseg.nii.gz\n",
      "|--------------- sub-control01_task-music_concatenated_bold_bbr_init.mat\n",
      "|--------------- sub-control01_task-music_concatenated_bold_moco.nii.gz\n",
      "|--------------- sub-control01_task-music_concatenated_bold_moco.nii.gz.par\n",
      "|--------------- sub-control01_task-music_concatenated_bold_moco_vol_middle.nii.gz\n",
      "|--------------- sub-control01_task-music_concatenated_bold_moco.nii.gz.mat/\n",
      "|--- sub-control01/\n",
      "|------ anat/\n",
      "|--------- sub-control01_T1w.nii.gz\n",
      "|------ func/\n",
      "|--------- sub-control01_task-music_concatenated_bold.nii.gz\n",
      "|--------- sub-control01_task-music_run-1_bold.nii.gz\n",
      "|--------- sub-control01_task-music_run-1_events.tsv\n",
      "|--------- sub-control01_task-music_run-2_bold.nii.gz\n",
      "|--------- sub-control01_task-music_run-2_events.tsv\n",
      "|--------- sub-control01_task-music_run-3_bold.nii.gz\n",
      "|--------- sub-control01_task-music_run-3_events.tsv\n"
     ]
    }
   ],
   "source": [
    "print_dir_tree(bids_root, max_depth=5)"
   ]
  },
  {
   "cell_type": "markdown",
   "id": "9c263c3c-bcf4-42cc-b36e-999db798abfe",
   "metadata": {},
   "source": [
    "### Smoothing"
   ]
  },
  {
   "cell_type": "code",
   "execution_count": 31,
   "id": "d6d4c1b4-52b2-4d08-849d-e5b78eb0ddfc",
   "metadata": {},
   "outputs": [
    {
     "data": {
      "text/plain": [
       "CompletedProcess(args=['fslmaths', '/home/jovyan/mne_data/ds000171/derivatives/preprocessed_data/sub-control01/func/sub-control01_task-music_concatenated_bold_moco.nii.gz', '-s', '2.547987090198743', '/home/jovyan/mne_data/ds000171/derivatives/preprocessed_data/sub-control01/func/sub-control01_task-music_concatenated_bold_moco.nii.gz_smoothed-6mm'], returncode=0)"
      ]
     },
     "execution_count": 31,
     "metadata": {},
     "output_type": "execute_result"
    }
   ],
   "source": [
    "# Smoothing\n",
    "\n",
    "output_path = op.join(preproc_root, 'sub-control01', 'func', 'sub-control01_task-music_concatenated_bold_moco.nii.gz')\n",
    "\n",
    "cmd = 'fslmaths {} -s {} {}_smoothed-6mm'.format(output_path, 6/2.3548, output_path)\n",
    "subprocess.run(['fslmaths',output_path, '-s', str(6/2.3548), '{}_smoothed-6mm'.format(output_path)])\n",
    "\n"
   ]
  },
  {
   "cell_type": "code",
   "execution_count": 32,
   "id": "d7b0da70-2cee-4c3b-b41e-e07aa76f4e94",
   "metadata": {},
   "outputs": [],
   "source": [
    "# See smoothing\n",
    "\n",
    "fsleyesDisplay.load(output_path + '_smoothed-6mm')"
   ]
  },
  {
   "cell_type": "markdown",
   "id": "0446ceda-671b-4dfa-b3f5-c73ba1e1594e",
   "metadata": {},
   "source": [
    "# GLM"
   ]
  },
  {
   "cell_type": "code",
   "execution_count": 33,
   "id": "91288b69-545b-4406-b043-9cd3acf6bf82",
   "metadata": {},
   "outputs": [
    {
     "data": {
      "text/html": [
       "<div>\n",
       "<style scoped>\n",
       "    .dataframe tbody tr th:only-of-type {\n",
       "        vertical-align: middle;\n",
       "    }\n",
       "\n",
       "    .dataframe tbody tr th {\n",
       "        vertical-align: top;\n",
       "    }\n",
       "\n",
       "    .dataframe thead th {\n",
       "        text-align: right;\n",
       "    }\n",
       "</style>\n",
       "<table border=\"1\" class=\"dataframe\">\n",
       "  <thead>\n",
       "    <tr style=\"text-align: right;\">\n",
       "      <th></th>\n",
       "      <th>onset</th>\n",
       "      <th>duration</th>\n",
       "      <th>trial_type</th>\n",
       "    </tr>\n",
       "  </thead>\n",
       "  <tbody>\n",
       "    <tr>\n",
       "      <th>0</th>\n",
       "      <td>33.0</td>\n",
       "      <td>33.0</td>\n",
       "      <td>tones</td>\n",
       "    </tr>\n",
       "    <tr>\n",
       "      <th>1</th>\n",
       "      <td>36.0</td>\n",
       "      <td>3.0</td>\n",
       "      <td>response</td>\n",
       "    </tr>\n",
       "    <tr>\n",
       "      <th>2</th>\n",
       "      <td>67.5</td>\n",
       "      <td>31.5</td>\n",
       "      <td>negative_music</td>\n",
       "    </tr>\n",
       "    <tr>\n",
       "      <th>3</th>\n",
       "      <td>70.5</td>\n",
       "      <td>3.0</td>\n",
       "      <td>response</td>\n",
       "    </tr>\n",
       "    <tr>\n",
       "      <th>4</th>\n",
       "      <td>102.0</td>\n",
       "      <td>31.5</td>\n",
       "      <td>tones</td>\n",
       "    </tr>\n",
       "    <tr>\n",
       "      <th>5</th>\n",
       "      <td>105.0</td>\n",
       "      <td>3.0</td>\n",
       "      <td>response</td>\n",
       "    </tr>\n",
       "    <tr>\n",
       "      <th>6</th>\n",
       "      <td>136.5</td>\n",
       "      <td>31.5</td>\n",
       "      <td>positive_music</td>\n",
       "    </tr>\n",
       "    <tr>\n",
       "      <th>7</th>\n",
       "      <td>139.5</td>\n",
       "      <td>3.0</td>\n",
       "      <td>response</td>\n",
       "    </tr>\n",
       "    <tr>\n",
       "      <th>8</th>\n",
       "      <td>171.0</td>\n",
       "      <td>31.5</td>\n",
       "      <td>tones</td>\n",
       "    </tr>\n",
       "    <tr>\n",
       "      <th>9</th>\n",
       "      <td>174.0</td>\n",
       "      <td>3.0</td>\n",
       "      <td>response</td>\n",
       "    </tr>\n",
       "    <tr>\n",
       "      <th>10</th>\n",
       "      <td>205.5</td>\n",
       "      <td>31.5</td>\n",
       "      <td>negative_music</td>\n",
       "    </tr>\n",
       "    <tr>\n",
       "      <th>11</th>\n",
       "      <td>208.5</td>\n",
       "      <td>3.0</td>\n",
       "      <td>response</td>\n",
       "    </tr>\n",
       "    <tr>\n",
       "      <th>12</th>\n",
       "      <td>240.0</td>\n",
       "      <td>31.5</td>\n",
       "      <td>tones</td>\n",
       "    </tr>\n",
       "    <tr>\n",
       "      <th>13</th>\n",
       "      <td>243.0</td>\n",
       "      <td>3.0</td>\n",
       "      <td>response</td>\n",
       "    </tr>\n",
       "    <tr>\n",
       "      <th>14</th>\n",
       "      <td>274.5</td>\n",
       "      <td>31.5</td>\n",
       "      <td>positive_music</td>\n",
       "    </tr>\n",
       "    <tr>\n",
       "      <th>15</th>\n",
       "      <td>277.5</td>\n",
       "      <td>3.0</td>\n",
       "      <td>response</td>\n",
       "    </tr>\n",
       "    <tr>\n",
       "      <th>16</th>\n",
       "      <td>309.0</td>\n",
       "      <td>31.5</td>\n",
       "      <td>tones</td>\n",
       "    </tr>\n",
       "    <tr>\n",
       "      <th>17</th>\n",
       "      <td>312.0</td>\n",
       "      <td>3.0</td>\n",
       "      <td>response</td>\n",
       "    </tr>\n",
       "    <tr>\n",
       "      <th>18</th>\n",
       "      <td>345.0</td>\n",
       "      <td>33.0</td>\n",
       "      <td>tones</td>\n",
       "    </tr>\n",
       "    <tr>\n",
       "      <th>19</th>\n",
       "      <td>348.0</td>\n",
       "      <td>3.0</td>\n",
       "      <td>response</td>\n",
       "    </tr>\n",
       "    <tr>\n",
       "      <th>20</th>\n",
       "      <td>379.5</td>\n",
       "      <td>31.5</td>\n",
       "      <td>positive_music</td>\n",
       "    </tr>\n",
       "    <tr>\n",
       "      <th>21</th>\n",
       "      <td>382.5</td>\n",
       "      <td>3.0</td>\n",
       "      <td>response</td>\n",
       "    </tr>\n",
       "    <tr>\n",
       "      <th>22</th>\n",
       "      <td>414.0</td>\n",
       "      <td>31.5</td>\n",
       "      <td>tones</td>\n",
       "    </tr>\n",
       "    <tr>\n",
       "      <th>23</th>\n",
       "      <td>417.0</td>\n",
       "      <td>3.0</td>\n",
       "      <td>response</td>\n",
       "    </tr>\n",
       "    <tr>\n",
       "      <th>24</th>\n",
       "      <td>448.5</td>\n",
       "      <td>31.5</td>\n",
       "      <td>negative_music</td>\n",
       "    </tr>\n",
       "    <tr>\n",
       "      <th>25</th>\n",
       "      <td>451.5</td>\n",
       "      <td>3.0</td>\n",
       "      <td>response</td>\n",
       "    </tr>\n",
       "    <tr>\n",
       "      <th>26</th>\n",
       "      <td>483.0</td>\n",
       "      <td>31.5</td>\n",
       "      <td>tones</td>\n",
       "    </tr>\n",
       "    <tr>\n",
       "      <th>27</th>\n",
       "      <td>486.0</td>\n",
       "      <td>3.0</td>\n",
       "      <td>response</td>\n",
       "    </tr>\n",
       "    <tr>\n",
       "      <th>28</th>\n",
       "      <td>517.5</td>\n",
       "      <td>31.5</td>\n",
       "      <td>positive_music</td>\n",
       "    </tr>\n",
       "    <tr>\n",
       "      <th>29</th>\n",
       "      <td>520.5</td>\n",
       "      <td>3.0</td>\n",
       "      <td>response</td>\n",
       "    </tr>\n",
       "    <tr>\n",
       "      <th>30</th>\n",
       "      <td>552.0</td>\n",
       "      <td>31.5</td>\n",
       "      <td>tones</td>\n",
       "    </tr>\n",
       "    <tr>\n",
       "      <th>31</th>\n",
       "      <td>555.0</td>\n",
       "      <td>3.0</td>\n",
       "      <td>response</td>\n",
       "    </tr>\n",
       "    <tr>\n",
       "      <th>32</th>\n",
       "      <td>586.5</td>\n",
       "      <td>31.5</td>\n",
       "      <td>negative_music</td>\n",
       "    </tr>\n",
       "    <tr>\n",
       "      <th>33</th>\n",
       "      <td>589.5</td>\n",
       "      <td>3.0</td>\n",
       "      <td>response</td>\n",
       "    </tr>\n",
       "    <tr>\n",
       "      <th>34</th>\n",
       "      <td>621.0</td>\n",
       "      <td>31.5</td>\n",
       "      <td>tones</td>\n",
       "    </tr>\n",
       "    <tr>\n",
       "      <th>35</th>\n",
       "      <td>624.0</td>\n",
       "      <td>3.0</td>\n",
       "      <td>response</td>\n",
       "    </tr>\n",
       "    <tr>\n",
       "      <th>36</th>\n",
       "      <td>657.0</td>\n",
       "      <td>33.0</td>\n",
       "      <td>tones</td>\n",
       "    </tr>\n",
       "    <tr>\n",
       "      <th>37</th>\n",
       "      <td>660.0</td>\n",
       "      <td>3.0</td>\n",
       "      <td>response</td>\n",
       "    </tr>\n",
       "    <tr>\n",
       "      <th>38</th>\n",
       "      <td>691.5</td>\n",
       "      <td>31.5</td>\n",
       "      <td>negative_music</td>\n",
       "    </tr>\n",
       "    <tr>\n",
       "      <th>39</th>\n",
       "      <td>694.5</td>\n",
       "      <td>3.0</td>\n",
       "      <td>response</td>\n",
       "    </tr>\n",
       "    <tr>\n",
       "      <th>40</th>\n",
       "      <td>726.0</td>\n",
       "      <td>31.5</td>\n",
       "      <td>tones</td>\n",
       "    </tr>\n",
       "    <tr>\n",
       "      <th>41</th>\n",
       "      <td>729.0</td>\n",
       "      <td>3.0</td>\n",
       "      <td>response</td>\n",
       "    </tr>\n",
       "    <tr>\n",
       "      <th>42</th>\n",
       "      <td>760.5</td>\n",
       "      <td>31.5</td>\n",
       "      <td>positive_music</td>\n",
       "    </tr>\n",
       "    <tr>\n",
       "      <th>43</th>\n",
       "      <td>763.5</td>\n",
       "      <td>3.0</td>\n",
       "      <td>response</td>\n",
       "    </tr>\n",
       "    <tr>\n",
       "      <th>44</th>\n",
       "      <td>795.0</td>\n",
       "      <td>31.5</td>\n",
       "      <td>tones</td>\n",
       "    </tr>\n",
       "    <tr>\n",
       "      <th>45</th>\n",
       "      <td>798.0</td>\n",
       "      <td>3.0</td>\n",
       "      <td>response</td>\n",
       "    </tr>\n",
       "    <tr>\n",
       "      <th>46</th>\n",
       "      <td>829.5</td>\n",
       "      <td>31.5</td>\n",
       "      <td>negative_music</td>\n",
       "    </tr>\n",
       "    <tr>\n",
       "      <th>47</th>\n",
       "      <td>832.5</td>\n",
       "      <td>3.0</td>\n",
       "      <td>response</td>\n",
       "    </tr>\n",
       "    <tr>\n",
       "      <th>48</th>\n",
       "      <td>864.0</td>\n",
       "      <td>31.5</td>\n",
       "      <td>tones</td>\n",
       "    </tr>\n",
       "    <tr>\n",
       "      <th>49</th>\n",
       "      <td>867.0</td>\n",
       "      <td>3.0</td>\n",
       "      <td>response</td>\n",
       "    </tr>\n",
       "    <tr>\n",
       "      <th>50</th>\n",
       "      <td>898.5</td>\n",
       "      <td>31.5</td>\n",
       "      <td>positive_music</td>\n",
       "    </tr>\n",
       "    <tr>\n",
       "      <th>51</th>\n",
       "      <td>901.5</td>\n",
       "      <td>3.0</td>\n",
       "      <td>response</td>\n",
       "    </tr>\n",
       "    <tr>\n",
       "      <th>52</th>\n",
       "      <td>933.0</td>\n",
       "      <td>31.5</td>\n",
       "      <td>tones</td>\n",
       "    </tr>\n",
       "    <tr>\n",
       "      <th>53</th>\n",
       "      <td>936.0</td>\n",
       "      <td>3.0</td>\n",
       "      <td>response</td>\n",
       "    </tr>\n",
       "  </tbody>\n",
       "</table>\n",
       "</div>"
      ],
      "text/plain": [
       "    onset  duration      trial_type\n",
       "0    33.0      33.0           tones\n",
       "1    36.0       3.0        response\n",
       "2    67.5      31.5  negative_music\n",
       "3    70.5       3.0        response\n",
       "4   102.0      31.5           tones\n",
       "5   105.0       3.0        response\n",
       "6   136.5      31.5  positive_music\n",
       "7   139.5       3.0        response\n",
       "8   171.0      31.5           tones\n",
       "9   174.0       3.0        response\n",
       "10  205.5      31.5  negative_music\n",
       "11  208.5       3.0        response\n",
       "12  240.0      31.5           tones\n",
       "13  243.0       3.0        response\n",
       "14  274.5      31.5  positive_music\n",
       "15  277.5       3.0        response\n",
       "16  309.0      31.5           tones\n",
       "17  312.0       3.0        response\n",
       "18  345.0      33.0           tones\n",
       "19  348.0       3.0        response\n",
       "20  379.5      31.5  positive_music\n",
       "21  382.5       3.0        response\n",
       "22  414.0      31.5           tones\n",
       "23  417.0       3.0        response\n",
       "24  448.5      31.5  negative_music\n",
       "25  451.5       3.0        response\n",
       "26  483.0      31.5           tones\n",
       "27  486.0       3.0        response\n",
       "28  517.5      31.5  positive_music\n",
       "29  520.5       3.0        response\n",
       "30  552.0      31.5           tones\n",
       "31  555.0       3.0        response\n",
       "32  586.5      31.5  negative_music\n",
       "33  589.5       3.0        response\n",
       "34  621.0      31.5           tones\n",
       "35  624.0       3.0        response\n",
       "36  657.0      33.0           tones\n",
       "37  660.0       3.0        response\n",
       "38  691.5      31.5  negative_music\n",
       "39  694.5       3.0        response\n",
       "40  726.0      31.5           tones\n",
       "41  729.0       3.0        response\n",
       "42  760.5      31.5  positive_music\n",
       "43  763.5       3.0        response\n",
       "44  795.0      31.5           tones\n",
       "45  798.0       3.0        response\n",
       "46  829.5      31.5  negative_music\n",
       "47  832.5       3.0        response\n",
       "48  864.0      31.5           tones\n",
       "49  867.0       3.0        response\n",
       "50  898.5      31.5  positive_music\n",
       "51  901.5       3.0        response\n",
       "52  933.0      31.5           tones\n",
       "53  936.0       3.0        response"
      ]
     },
     "execution_count": 33,
     "metadata": {},
     "output_type": "execute_result"
    }
   ],
   "source": [
    "func_path = op.join(bids_root, 'sub-control01', 'func')\n",
    "\n",
    "evt1=pd.read_csv(op.join(func_path, 'sub-control01_task-music_run-1_events.tsv'), sep='\\t')\n",
    "evt2=pd.read_csv(op.join(func_path, 'sub-control01_task-music_run-2_events.tsv'), sep='\\t')\n",
    "evt3=pd.read_csv(op.join(func_path, 'sub-control01_task-music_run-3_events.tsv'), sep='\\t')\n",
    "\n",
    "evt_concat=pd.concat([evt1,evt2,evt3], ignore_index=True)\n",
    "evt_concat['onset']=evt_concat['duration'].cumsum()\n",
    "evt_concat"
   ]
  },
  {
   "cell_type": "code",
   "execution_count": 34,
   "id": "e7702a92-238e-4d46-8924-fa88f4d339d2",
   "metadata": {},
   "outputs": [],
   "source": [
    "TR = 3  # Repetition time (in seconds)\n",
    "total_time = 936  # Total time of the scan in seconds\n",
    "time_points = np.arange(0, total_time, TR)"
   ]
  },
  {
   "cell_type": "code",
   "execution_count": 38,
   "id": "1c19519b-4386-47ab-8b88-d9c4e317d317",
   "metadata": {},
   "outputs": [],
   "source": [
    "# Generate design matrix using Nilearn's HRF\n",
    "\n",
    "design_matrix = make_first_level_design_matrix(\n",
    "    frame_times=time_points,\n",
    "    events=evt_concat,\n",
    "    hrf_model='spm',\n",
    "    drift_model='polynomial'\n",
    ")"
   ]
  },
  {
   "cell_type": "code",
   "execution_count": 39,
   "id": "5b6a9dd1-fee0-4536-84b4-3b8fc4819170",
   "metadata": {},
   "outputs": [
    {
     "data": {
      "image/png": "[encoded data removed]",
      "text/plain": [
       "<Figure size 238x1000 with 1 Axes>"
      ]
     },
     "metadata": {},
     "output_type": "display_data"
    }
   ],
   "source": [
    "plot_design_matrix(design_matrix)\n",
    "plt.show()"
   ]
  },
  {
   "cell_type": "code",
   "execution_count": 40,
   "id": "1121f52d-1816-4210-abe7-8b87f1f43d63",
   "metadata": {},
   "outputs": [],
   "source": [
    "fmri_img = op.join(preproc_root, 'sub-control01', 'func', 'sub-control01_task-music_concatenated_bold_moco.nii.gz_smoothed-6mm.nii.gz')"
   ]
  },
  {
   "cell_type": "code",
   "execution_count": 44,
   "id": "97708820-8411-499a-919f-6ac491200f0e",
   "metadata": {},
   "outputs": [],
   "source": [
    "# Specify what sort of GLM we want (nature of the noise, repetition time of the data and other parameters)\n",
    "\n",
    "fmri_glm = FirstLevelModel(t_r=3,\n",
    "                           noise_model='ar1',\n",
    "                           standardize=False,\n",
    "                           hrf_model='spm',\n",
    "                           drift_model=None,\n",
    "                           high_pass=.01)\n",
    "\n",
    "# Fit the model to our design and data\n",
    "fmri_glm = fmri_glm.fit(fmri_img, evt_concat)"
   ]
  },
  {
   "cell_type": "code",
   "execution_count": 45,
   "id": "3413a8e6-410d-4777-8117-8c205a0b1481",
   "metadata": {},
   "outputs": [
    {
     "data": {
      "image/png": "[encoded data removed]",
      "text/plain": [
       "<Figure size 215x1000 with 1 Axes>"
      ]
     },
     "metadata": {},
     "output_type": "display_data"
    }
   ],
   "source": [
    "plot_design_matrix(fmri_glm.design_matrices_[0])\n",
    "plt.show()"
   ]
  },
  {
   "cell_type": "code",
   "execution_count": 54,
   "id": "8e6c6be5-8c8c-47a5-be57-dab71c126c21",
   "metadata": {},
   "outputs": [],
   "source": [
    "conditions = {\n",
    "    'active_neg': np.array([1, 0, 0,0,0]), \n",
    "    'active_pos':np.array([0, 1,0, 0,0]), \n",
    "    'response':np.array([0, 0,1, 0,0]), \n",
    "    'neutral':np.array([0, 0, 0,1,0]) \n",
    "\n",
    "}\n",
    "\n",
    "contrasts = {\n",
    "    'pos_vs_neg' : conditions['active_pos'] - conditions['active_neg'],\n",
    "    'pos_vs_neu' : conditions['active_pos'] - conditions['neutral'],\n",
    "    'neg_vs_neu' : conditions['active_neg'] - conditions['neutral']\n",
    "}\n"
   ]
  },
  {
   "cell_type": "code",
   "execution_count": 55,
   "id": "39b27c1b-5d36-46a1-a755-1bfb34932478",
   "metadata": {},
   "outputs": [
    {
     "data": {
      "image/png": "[encoded data removed]",
      "text/plain": [
       "<Figure size 200x206 with 1 Axes>"
      ]
     },
     "metadata": {},
     "output_type": "display_data"
    },
    {
     "data": {
      "image/png": "[encoded data removed]",
      "text/plain": [
       "<Figure size 200x206 with 1 Axes>"
      ]
     },
     "metadata": {},
     "output_type": "display_data"
    },
    {
     "data": {
      "image/png": "[encoded data removed]",
      "text/plain": [
       "<Figure size 200x206 with 1 Axes>"
      ]
     },
     "metadata": {},
     "output_type": "display_data"
    }
   ],
   "source": [
    "for contrast, weights in contrasts.items():\n",
    "    plot_contrast_matrix(weights, design_matrix=fmri_glm.design_matrices_[0])  ####TODO ADD COLOR SCALE"
   ]
  },
  {
   "cell_type": "code",
   "execution_count": 56,
   "id": "84400eca-1136-46f1-8968-9cfb2e729c87",
   "metadata": {},
   "outputs": [
    {
     "data": {
      "image/png": "[encoded data removed]",
      "text/plain": [
       "<Figure size 730x320 with 5 Axes>"
      ]
     },
     "metadata": {},
     "output_type": "display_data"
    },
    {
     "data": {
      "image/png": "[encoded data removed]",
      "text/plain": [
       "<Figure size 730x320 with 5 Axes>"
      ]
     },
     "metadata": {},
     "output_type": "display_data"
    },
    {
     "data": {
      "image/png": "[encoded data removed]",
      "text/plain": [
       "<Figure size 730x320 with 5 Axes>"
      ]
     },
     "metadata": {},
     "output_type": "display_data"
    }
   ],
   "source": [
    "for contrast, weights in contrasts.items():\n",
    "    z_map = fmri_glm.compute_contrast(weights,\n",
    "                                      output_type='z_score')\n",
    "    \n",
    "    nib.save(z_map, 'z_map_uncorrected_' + str(contrast) + '.nii.gz')\n",
    "    mean_img_ = mean_img(fmri_img),\n",
    "    plot_stat_map(z_map, bg_img=mean_img_[0], threshold=2.0,\n",
    "                  display_mode='z', cut_coords=[-30,-10,25], black_bg=True,\n",
    "                  title=str(contrast)+' (Z>3)')\n",
    "    plt.show()"
   ]
  },
  {
   "cell_type": "code",
   "execution_count": null,
   "id": "ad617b43-aa6c-48a2-9a0b-bd81a42744dd",
   "metadata": {},
   "outputs": [],
   "source": []
  }
 ],
 "metadata": {
  "kernelspec": {
   "display_name": "Python 3 (ipykernel)",
   "language": "python",
   "name": "python3"
  },
  "language_info": {
   "codemirror_mode": {
    "name": "ipython",
    "version": 3
   },
   "file_extension": ".py",
   "mimetype": "text/x-python",
   "name": "python",
   "nbconvert_exporter": "python",
   "pygments_lexer": "ipython3",
   "version": "3.11.6"
  }
 },
 "nbformat": 4,
 "nbformat_minor": 5
}
