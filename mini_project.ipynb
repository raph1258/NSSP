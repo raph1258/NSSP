{
 "cells": [
  {
   "cell_type": "code",
   "execution_count": 1,
   "id": "d95d9c52-0718-4d5d-b79b-8a51d9eceb83",
   "metadata": {
    "collapsed": true,
    "jupyter": {
     "outputs_hidden": true,
     "source_hidden": true
    }
   },
   "outputs": [
    {
     "name": "stderr",
     "output_type": "stream",
     "text": [
      "Gtk-Message: 17:18:56.648: Failed to load module \"canberra-gtk-module\"\n"
     ]
    },
    {
     "name": "stdout",
     "output_type": "stream",
     "text": [
      "Requirement already satisfied: antspyx in /opt/conda/lib/python3.11/site-packages (0.5.3)\n",
      "Requirement already satisfied: pandas in /opt/conda/lib/python3.11/site-packages (from antspyx) (2.2.2)\n",
      "Requirement already satisfied: pyyaml in /opt/conda/lib/python3.11/site-packages (from antspyx) (6.0.1)\n",
      "Requirement already satisfied: numpy in /opt/conda/lib/python3.11/site-packages (from antspyx) (1.26.4)\n",
      "Requirement already satisfied: statsmodels in /opt/conda/lib/python3.11/site-packages (from antspyx) (0.14.2)\n",
      "Requirement already satisfied: webcolors in /opt/conda/lib/python3.11/site-packages (from antspyx) (1.13)\n",
      "Requirement already satisfied: matplotlib in /opt/conda/lib/python3.11/site-packages (from antspyx) (3.9.2)\n",
      "Requirement already satisfied: Pillow in /opt/conda/lib/python3.11/site-packages (from antspyx) (10.0.0)\n",
      "Requirement already satisfied: requests in /opt/conda/lib/python3.11/site-packages (from antspyx) (2.31.0)\n",
      "Requirement already satisfied: contourpy>=1.0.1 in /opt/conda/lib/python3.11/site-packages (from matplotlib->antspyx) (1.3.0)\n",
      "Requirement already satisfied: cycler>=0.10 in /opt/conda/lib/python3.11/site-packages (from matplotlib->antspyx) (0.12.1)\n",
      "Requirement already satisfied: fonttools>=4.22.0 in /opt/conda/lib/python3.11/site-packages (from matplotlib->antspyx) (4.53.1)\n",
      "Requirement already satisfied: kiwisolver>=1.3.1 in /opt/conda/lib/python3.11/site-packages (from matplotlib->antspyx) (1.4.7)\n",
      "Requirement already satisfied: packaging>=20.0 in /opt/conda/lib/python3.11/site-packages (from matplotlib->antspyx) (23.2)\n",
      "Requirement already satisfied: pyparsing>=2.3.1 in /opt/conda/lib/python3.11/site-packages (from matplotlib->antspyx) (3.1.4)\n",
      "Requirement already satisfied: python-dateutil>=2.7 in /opt/conda/lib/python3.11/site-packages (from matplotlib->antspyx) (2.8.2)\n",
      "Requirement already satisfied: pytz>=2020.1 in /opt/conda/lib/python3.11/site-packages (from pandas->antspyx) (2023.3)\n",
      "Requirement already satisfied: tzdata>=2022.7 in /opt/conda/lib/python3.11/site-packages (from pandas->antspyx) (2024.1)\n",
      "Requirement already satisfied: charset-normalizer<4,>=2 in /opt/conda/lib/python3.11/site-packages (from requests->antspyx) (3.3.0)\n",
      "Requirement already satisfied: idna<4,>=2.5 in /opt/conda/lib/python3.11/site-packages (from requests->antspyx) (3.4)\n",
      "Requirement already satisfied: urllib3<3,>=1.21.1 in /opt/conda/lib/python3.11/site-packages (from requests->antspyx) (2.0.7)\n",
      "Requirement already satisfied: certifi>=2017.4.17 in /opt/conda/lib/python3.11/site-packages (from requests->antspyx) (2024.8.30)\n",
      "Requirement already satisfied: scipy!=1.9.2,>=1.8 in /opt/conda/lib/python3.11/site-packages (from statsmodels->antspyx) (1.14.1)\n",
      "Requirement already satisfied: patsy>=0.5.6 in /opt/conda/lib/python3.11/site-packages (from statsmodels->antspyx) (0.5.6)\n",
      "Requirement already satisfied: six in /opt/conda/lib/python3.11/site-packages (from patsy>=0.5.6->statsmodels->antspyx) (1.16.0)\n"
     ]
    }
   ],
   "source": [
    "%gui wx\n",
    "import sys\n",
    "import os\n",
    "\n",
    "#####################\n",
    "# Import of utils.py functions\n",
    "#####################\n",
    "# Required to get utils.py and access its functions\n",
    "notebook_dir = os.path.abspath(\"\")\n",
    "parent_dir = os.path.abspath(os.path.join(notebook_dir, '..'))\n",
    "sys.path.append(parent_dir)\n",
    "sys.path.append('.')\n",
    "from utils import loadFSL, FSLeyesServer, mkdir_no_exist, interactive_MCQ\n",
    "\n",
    "####################\n",
    "# DIPY_HOME should be set prior to import of dipy to make sure all downloads point to the right folder\n",
    "####################\n",
    "os.environ[\"DIPY_HOME\"] = \"/home/jovyan/Data\"\n",
    "\n",
    "\n",
    "#############################\n",
    "# Loading fsl and freesurfer within Neurodesk\n",
    "# You can find the list of available other modules by clicking on the \"Softwares\" tab on the left\n",
    "#############################\n",
    "import lmod\n",
    "await lmod.purge(force=True)\n",
    "await lmod.load('fsl/6.0.7.4')\n",
    "await lmod.load('freesurfer/7.4.1')\n",
    "await lmod.list()\n",
    "\n",
    "####################\n",
    "# Setup FSL path\n",
    "####################\n",
    "loadFSL()\n",
    "\n",
    "###################\n",
    "# Load all relevant libraries for the lab\n",
    "##################\n",
    "import fsl.wrappers\n",
    "from fsl.wrappers import fslmaths\n",
    "\n",
    "import mne_nirs\n",
    "import nilearn\n",
    "from nilearn.datasets import fetch_development_fmri\n",
    "\n",
    "import mne\n",
    "import mne_nirs\n",
    "import dipy\n",
    "from dipy.data import fetch_bundles_2_subjects, read_bundles_2_subjects\n",
    "import xml.etree.ElementTree as ET\n",
    "import os.path as op\n",
    "import nibabel as nib\n",
    "import glob\n",
    "\n",
    "!pip install antspyx\n",
    "import ants\n",
    "\n",
    "import openneuro\n",
    "from mne.datasets import sample\n",
    "from mne_bids import BIDSPath, read_raw_bids, print_dir_tree, make_report\n",
    "\n",
    "\n",
    "# Useful imports to define the direct download function below\n",
    "import requests\n",
    "import urllib.request\n",
    "from tqdm import tqdm\n",
    "\n",
    "\n",
    "# FSL function wrappers which we will call from python directly\n",
    "from fsl.wrappers import fast, bet\n",
    "from fsl.wrappers.misc import fslroi\n",
    "from fsl.wrappers import flirt\n",
    "\n",
    "# General purpose imports to handle paths, files etc\n",
    "import glob\n",
    "import pandas as pd\n",
    "import numpy as np\n",
    "import json"
   ]
  },
  {
   "cell_type": "code",
   "execution_count": 2,
   "id": "0dfa719f-0661-4459-b278-9fee9b3a383e",
   "metadata": {
    "collapsed": true,
    "jupyter": {
     "outputs_hidden": true,
     "source_hidden": true
    }
   },
   "outputs": [
    {
     "name": "stderr",
     "output_type": "stream",
     "text": [
      "17:19:12: Debug: Adding duplicate image handler for 'Windows bitmap file'\n",
      "17:19:12: Debug: Adding duplicate animation handler for '1' type\n",
      "17:19:12: Debug: Adding duplicate animation handler for '2' type\n",
      "17:19:12: Debug: Adding duplicate image handler for 'Windows bitmap file'\n",
      "17:19:12: Debug: Adding duplicate animation handler for '1' type\n",
      "17:19:12: Debug: Adding duplicate animation handler for '2' type\n",
      "\n",
      "(ipykernel_launcher.py:26287): Gtk-CRITICAL **: 17:19:12.767: gtk_window_resize: assertion 'height > 0' failed\n"
     ]
    }
   ],
   "source": [
    "fsleyesDisplay = FSLeyesServer()\n",
    "fsleyesDisplay.show()"
   ]
  },
  {
   "cell_type": "code",
   "execution_count": 3,
   "id": "6452a7cb-c58a-4b30-98ce-7ba2a796c352",
   "metadata": {
    "jupyter": {
     "source_hidden": true
    }
   },
   "outputs": [],
   "source": [
    "import os.path as op\n",
    "import os\n",
    "import pandas as pd\n",
    "from mne.datasets import sample\n",
    "# Useful imports to define the direct download function below\n",
    "import requests\n",
    "import urllib.request\n",
    "from tqdm import tqdm\n",
    "\n",
    "def mkdir_no_exist(path):\n",
    "    if not op.isdir(path):\n",
    "        os.makedirs(path)\n",
    "        \n",
    "class DownloadProgressBar(tqdm):\n",
    "    def update_to(self, b=1, bsize=1, tsize=None):\n",
    "        if tsize is not None:\n",
    "            self.total = tsize\n",
    "        self.update(b * bsize - self.n)\n",
    "\n",
    "\n",
    "def download_url(url, output_path):\n",
    "    with DownloadProgressBar(unit='B', unit_scale=True,\n",
    "                             miniters=1, desc=url.split('/')[-1]) as t:\n",
    "        urllib.request.urlretrieve(url, filename=output_path, reporthook=t.update_to)\n",
    "\n",
    "def direct_file_download_open_neuro(file_list, file_types, dataset_id, dataset_version, save_dirs):\n",
    "    # https://openneuro.org/crn/datasets/ds004226/snapshots/1.0.0/files/sub-001:sub-001_scans.tsv\n",
    "    for i, n in enumerate(file_list):\n",
    "        subject = n.split('_')[0]\n",
    "        download_link = 'https://openneuro.org/crn/datasets/{}/snapshots/{}/files/{}:{}:{}'.format(dataset_id, dataset_version, subject, file_types[i],n)\n",
    "        print('Attempting download from ', download_link)\n",
    "        download_url(download_link, op.join(save_dirs[i], n))\n",
    "        print('Ok')"
   ]
  },
  {
   "cell_type": "code",
   "execution_count": 5,
   "id": "72dcab88-03c9-431a-8f7f-92366647f200",
   "metadata": {
    "collapsed": true,
    "jupyter": {
     "outputs_hidden": true
    },
    "scrolled": true
   },
   "outputs": [
    {
     "name": "stdout",
     "output_type": "stream",
     "text": [
      "Attempting download from  https://openneuro.org/crn/datasets/ds000171/snapshots/00001/files/sub-control01:func:sub-control01_task-music_run-1_bold.nii.gz\n"
     ]
    },
    {
     "name": "stderr",
     "output_type": "stream",
     "text": [
      "sub-control01:func:sub-control01_task-music_run-1_bold.nii.gz: 35.5MB [00:08, 4.06MB/s]                  \n"
     ]
    },
    {
     "name": "stdout",
     "output_type": "stream",
     "text": [
      "Ok\n",
      "Attempting download from  https://openneuro.org/crn/datasets/ds000171/snapshots/00001/files/sub-control01:func:sub-control01_task-music_run-1_events.tsv\n"
     ]
    },
    {
     "name": "stderr",
     "output_type": "stream",
     "text": [
      "sub-control01:func:sub-control01_task-music_run-1_events.tsv: 8.19kB [00:00, 23.1kB/s]\n"
     ]
    },
    {
     "name": "stdout",
     "output_type": "stream",
     "text": [
      "Ok\n",
      "Attempting download from  https://openneuro.org/crn/datasets/ds000171/snapshots/00001/files/sub-control01:func:sub-control01_task-music_run-2_bold.nii.gz\n"
     ]
    },
    {
     "name": "stderr",
     "output_type": "stream",
     "text": [
      "sub-control01:func:sub-control01_task-music_run-2_bold.nii.gz: 35.5MB [00:22, 1.56MB/s]                  \n"
     ]
    },
    {
     "name": "stdout",
     "output_type": "stream",
     "text": [
      "Ok\n",
      "Attempting download from  https://openneuro.org/crn/datasets/ds000171/snapshots/00001/files/sub-control01:func:sub-control01_task-music_run-2_events.tsv\n"
     ]
    },
    {
     "name": "stderr",
     "output_type": "stream",
     "text": [
      "sub-control01:func:sub-control01_task-music_run-2_events.tsv: 8.19kB [00:00, 11.4kB/s]\n"
     ]
    },
    {
     "name": "stdout",
     "output_type": "stream",
     "text": [
      "Ok\n",
      "Attempting download from  https://openneuro.org/crn/datasets/ds000171/snapshots/00001/files/sub-control01:func:sub-control01_task-music_run-3_bold.nii.gz\n"
     ]
    },
    {
     "name": "stderr",
     "output_type": "stream",
     "text": [
      "sub-control01:func:sub-control01_task-music_run-3_bold.nii.gz: 35.5MB [00:15, 2.31MB/s]                \n"
     ]
    },
    {
     "name": "stdout",
     "output_type": "stream",
     "text": [
      "Ok\n",
      "Attempting download from  https://openneuro.org/crn/datasets/ds000171/snapshots/00001/files/sub-control01:func:sub-control01_task-music_run-3_events.tsv\n"
     ]
    },
    {
     "name": "stderr",
     "output_type": "stream",
     "text": [
      "sub-control01:func:sub-control01_task-music_run-3_events.tsv: 8.19kB [00:00, 12.3kB/s]\n"
     ]
    },
    {
     "name": "stdout",
     "output_type": "stream",
     "text": [
      "Ok\n",
      "Attempting download from  https://openneuro.org/crn/datasets/ds000171/snapshots/00001/files/sub-control01:anat:sub-control01_T1w.nii.gz\n"
     ]
    },
    {
     "name": "stderr",
     "output_type": "stream",
     "text": [
      "sub-control01:anat:sub-control01_T1w.nii.gz: 9.21MB [00:02, 3.64MB/s]                "
     ]
    },
    {
     "name": "stdout",
     "output_type": "stream",
     "text": [
      "Ok\n"
     ]
    },
    {
     "name": "stderr",
     "output_type": "stream",
     "text": [
      "\n"
     ]
    }
   ],
   "source": [
    "# Define the dataset and subject information\n",
    "dataset_fmap = 'ds000171'\n",
    "subject_fmap = '001'\n",
    "\n",
    "# Set up the main directory for the dataset\n",
    "bids_root = op.join(op.dirname(sample.data_path()), dataset_fmap)\n",
    "\n",
    "# Define paths for functional and anatomical data\n",
    "func_path = op.join(bids_root, 'sub-control01', 'func')\n",
    "anat_path = op.join(bids_root, 'sub-control01', 'anat')\n",
    "deriv_root = op.join(bids_root, 'derivatives')\n",
    "preproc_root = op.join(bids_root, 'derivatives','preprocessed_data')\n",
    "\n",
    "\n",
    "# Create directories for func and anac\n",
    "mkdir_no_exist(bids_root)\n",
    "mkdir_no_exist(op.join(bids_root, 'sub-control01'))\n",
    "mkdir_no_exist(func_path)\n",
    "mkdir_no_exist(anat_path)\n",
    "mkdir_no_exist(deriv_root)\n",
    "mkdir_no_exist(preproc_root)\n",
    "\n",
    "# List of functional files to download\n",
    "file_list = [\n",
    "    'sub-control01_task-music_run-1_bold.nii.gz',\n",
    "    'sub-control01_task-music_run-1_events.tsv',\n",
    "    'sub-control01_task-music_run-2_bold.nii.gz',\n",
    "    'sub-control01_task-music_run-2_events.tsv',\n",
    "    'sub-control01_task-music_run-3_bold.nii.gz',\n",
    "    'sub-control01_task-music_run-3_events.tsv',\n",
    "]\n",
    "\n",
    "file_types = ['func'] * len(file_list)\n",
    "save_dirs = [func_path] * len(file_list)\n",
    "\n",
    "# Download functional files\n",
    "direct_file_download_open_neuro(file_list=file_list, \n",
    "                                 file_types=file_types, \n",
    "                                 dataset_id=dataset_fmap, \n",
    "                                 dataset_version='00001', \n",
    "                                 save_dirs=save_dirs)\n",
    "\n",
    "\n",
    "\n",
    "# List of anatomical files to download\n",
    "anat_file_list = ['sub-control01_T1w.nii.gz']\n",
    "\n",
    "# For the anac files, define their types and save directories\n",
    "anat_file_types = ['anat'] * len(anat_file_list)  # Adjust as necessary\n",
    "anat_save_dirs = [anat_path] * len(anat_file_list)\n",
    "\n",
    "# Download anatomical files\n",
    "direct_file_download_open_neuro(file_list=anat_file_list, \n",
    "                                 file_types=anat_file_types, \n",
    "                                 dataset_id=dataset_fmap, \n",
    "                                 dataset_version='00001', \n",
    "                                 save_dirs=anat_save_dirs)"
   ]
  },
  {
   "cell_type": "code",
   "execution_count": 7,
   "id": "ad7da476-5054-49e4-97a6-38d06228f0ff",
   "metadata": {
    "collapsed": true,
    "jupyter": {
     "outputs_hidden": true,
     "source_hidden": true
    }
   },
   "outputs": [
    {
     "name": "stdout",
     "output_type": "stream",
     "text": [
      "Concatenation complete and saved as 'concatenated_task_music_bold.nii.gz'.\n"
     ]
    }
   ],
   "source": [
    "import nibabel as nib\n",
    "import numpy as np\n",
    "from nilearn.image import concat_imgs\n",
    "\n",
    "# Load the individual fMRI runs\n",
    "run1 = nib.load(op.join(func_path, 'sub-control01_task-music_run-1_bold.nii.gz'))\n",
    "run2 = nib.load(op.join(func_path, 'sub-control01_task-music_run-2_bold.nii.gz'))\n",
    "run3 = nib.load(op.join(func_path, 'sub-control01_task-music_run-3_bold.nii.gz'))\n",
    "\n",
    "concatenated_file_path = '/home/jovyan/mne_data/ds000171/sub-control01/func/concatenated_task_music_bold.nii.gz'\n",
    "\n",
    "# Preprocess each run (example step: standardization)\n",
    "def standardize_img(img):\n",
    "    data = img.get_fdata()\n",
    "    mean = np.mean(data)\n",
    "    std = np.std(data)\n",
    "    standardized_data = (data - mean) / std\n",
    "    return nib.Nifti1Image(standardized_data, img.affine)\n",
    "\n",
    "# Standardize each run\n",
    "run1_standardized = standardize_img(run1)\n",
    "run2_standardized = standardize_img(run2)\n",
    "run3_standardized = standardize_img(run3)\n",
    "\n",
    "# Concatenate the standardized runs into a single 4D image\n",
    "concatenated_img = concat_imgs([run1_standardized, run2_standardized, run3_standardized])\n",
    "\n",
    "# Save the concatenated image\n",
    "nib.save(concatenated_img, concatenated_file_path)\n",
    "\n",
    "print(\"Concatenation complete and saved as 'concatenated_task_music_bold.nii.gz'.\")"
   ]
  },
  {
   "cell_type": "code",
   "execution_count": 8,
   "id": "e631e344-b5dc-4bba-9d54-e68fa7840c07",
   "metadata": {
    "collapsed": true,
    "jupyter": {
     "outputs_hidden": true,
     "source_hidden": true
    }
   },
   "outputs": [
    {
     "name": "stderr",
     "output_type": "stream",
     "text": [
      "\n",
      "(ipykernel_launcher.py:26287): Gdk-WARNING **: 17:37:34.924: gdkdrawable-x11.c:952 drawable is not a pixmap or window\n"
     ]
    },
    {
     "name": "stdout",
     "output_type": "stream",
     "text": [
      "Loaded: /home/jovyan/mne_data/ds000171/sub-control01/func/concatenated_task_music_bold.nii.gz\n"
     ]
    }
   ],
   "source": [
    "concatenated_file_path = '/home/jovyan/mne_data/ds000171/sub-control01/func/concatenated_task_music_bold.nii.gz'\n",
    "\n",
    "fsleyesDisplay.resetOverlays()\n",
    "\n",
    "if op.exists(concatenated_file_path):\n",
    "    fsleyesDisplay.load(concatenated_file_path)\n",
    "    \n",
    "    print(\"Loaded:\", concatenated_file_path)\n",
    "else:\n",
    "    print(\"File does not exist at the specified path.\")"
   ]
  },
  {
   "cell_type": "code",
   "execution_count": 10,
   "id": "1276f381-36a3-4ba5-a75e-8cb9cb53971d",
   "metadata": {
    "collapsed": true,
    "jupyter": {
     "outputs_hidden": true,
     "source_hidden": true
    },
    "scrolled": true
   },
   "outputs": [
    {
     "name": "stdout",
     "output_type": "stream",
     "text": [
      "Attempting download from: https://openneuro.org/crn/datasets/ds000171/snapshots/00001/files/CHANGES\n"
     ]
    },
    {
     "name": "stderr",
     "output_type": "stream",
     "text": [
      "CHANGES: 8.19kB [00:00, 14.7kB/s]\n"
     ]
    },
    {
     "name": "stdout",
     "output_type": "stream",
     "text": [
      "Downloaded: CHANGES\n",
      "Attempting download from: https://openneuro.org/crn/datasets/ds000171/snapshots/00001/files/README\n"
     ]
    },
    {
     "name": "stderr",
     "output_type": "stream",
     "text": [
      "README: 8.19kB [00:00, 13.5kB/s]\n"
     ]
    },
    {
     "name": "stdout",
     "output_type": "stream",
     "text": [
      "Downloaded: README\n",
      "Attempting download from: https://openneuro.org/crn/datasets/ds000171/snapshots/00001/files/dataset_description.json\n"
     ]
    },
    {
     "name": "stderr",
     "output_type": "stream",
     "text": [
      "dataset_description.json: 8.19kB [00:00, 15.0kB/s]\n"
     ]
    },
    {
     "name": "stdout",
     "output_type": "stream",
     "text": [
      "Downloaded: dataset_description.json\n",
      "Attempting download from: https://openneuro.org/crn/datasets/ds000171/snapshots/00001/files/T1w.json\n"
     ]
    },
    {
     "name": "stderr",
     "output_type": "stream",
     "text": [
      "T1w.json: 8.19kB [00:00, 14.5kB/s]\n"
     ]
    },
    {
     "name": "stdout",
     "output_type": "stream",
     "text": [
      "Downloaded: T1w.json\n",
      "Attempting download from: https://openneuro.org/crn/datasets/ds000171/snapshots/00001/files/participants.tsv\n"
     ]
    },
    {
     "name": "stderr",
     "output_type": "stream",
     "text": [
      "participants.tsv: 8.19kB [00:00, 15.1kB/s]\n"
     ]
    },
    {
     "name": "stdout",
     "output_type": "stream",
     "text": [
      "Downloaded: participants.tsv\n",
      "Attempting download from: https://openneuro.org/crn/datasets/ds000171/snapshots/00001/files/task-music_bold.json\n"
     ]
    },
    {
     "name": "stderr",
     "output_type": "stream",
     "text": [
      "task-music_bold.json: 8.19kB [00:00, 15.2kB/s]\n"
     ]
    },
    {
     "name": "stdout",
     "output_type": "stream",
     "text": [
      "Downloaded: task-music_bold.json\n",
      "Attempting download from: https://openneuro.org/crn/datasets/ds000171/snapshots/00001/files/task-nonmusic_bold.json\n"
     ]
    },
    {
     "name": "stderr",
     "output_type": "stream",
     "text": [
      "task-nonmusic_bold.json: 8.19kB [00:00, 14.5kB/s]"
     ]
    },
    {
     "name": "stdout",
     "output_type": "stream",
     "text": [
      "Downloaded: task-nonmusic_bold.json\n"
     ]
    },
    {
     "name": "stderr",
     "output_type": "stream",
     "text": [
      "\n"
     ]
    }
   ],
   "source": [
    "otherfiles_path = bids_root  # Assuming this is the desired location\n",
    "\n",
    "otherfiles_list = [\n",
    "    'CHANGES',\n",
    "    'README',\n",
    "    'dataset_description.json',\n",
    "    'T1w.json',\n",
    "    'participants.tsv',\n",
    "    'task-music_bold.json',\n",
    "    'task-nonmusic_bold.json'\n",
    "]\n",
    "\n",
    "# Adjust the function to handle these files\n",
    "for filename in otherfiles_list:\n",
    "    # Construct the download link for these files\n",
    "    download_link = f'https://openneuro.org/crn/datasets/{dataset_fmap}/snapshots/00001/files/{filename}'\n",
    "    print(f'Attempting download from: {download_link}')\n",
    "    \n",
    "    # Download the file without specifying file_type\n",
    "    download_url(download_link, op.join(otherfiles_path, filename))\n",
    "    print('Downloaded:', filename)"
   ]
  },
  {
   "cell_type": "code",
   "execution_count": 11,
   "id": "b0a29488-aa78-43b5-8f99-a60f11fc3b33",
   "metadata": {},
   "outputs": [
    {
     "name": "stdout",
     "output_type": "stream",
     "text": [
      "|ds000171/\n",
      "|--- CHANGES\n",
      "|--- README\n",
      "|--- T1w.json\n",
      "|--- dataset_description.json\n",
      "|--- participants.tsv\n",
      "|--- task-music_bold.json\n",
      "|--- task-nonmusic_bold.json\n",
      "|--- derivatives/\n",
      "|------ preprocessed_data/\n",
      "|--- sub-control01/\n",
      "|------ anac/\n",
      "|------ anat/\n",
      "|--------- sub-control01_T1w.nii.gz\n",
      "|------ func/\n",
      "|--------- concatenated_task_music_bold.nii.gz\n",
      "|--------- sub-control01_task-music_run-1_bold.nii.gz\n",
      "|--------- sub-control01_task-music_run-1_events.tsv\n",
      "|--------- sub-control01_task-music_run-2_bold.nii.gz\n",
      "|--------- sub-control01_task-music_run-2_events.tsv\n",
      "|--------- sub-control01_task-music_run-3_bold.nii.gz\n",
      "|--------- sub-control01_task-music_run-3_events.tsv\n"
     ]
    }
   ],
   "source": [
    "print_dir_tree(bids_root, max_depth=4)"
   ]
  },
  {
   "cell_type": "code",
   "execution_count": 13,
   "id": "cf25883f-ac9c-496e-b622-7dbd66f98b8d",
   "metadata": {},
   "outputs": [
    {
     "name": "stdout",
     "output_type": "stream",
     "text": [
      "Done with BET.\n"
     ]
    }
   ],
   "source": [
    "def get_skull_stripped_anatomical(bids_root, preproc_root, subject_id, robust=False):\n",
    "    \"\"\"\n",
    "    Perform skull-stripping on the T1w anatomical image for the specified subject.\n",
    "        Parameters\n",
    "    ----------\n",
    "    bids_root: string\n",
    "        The root of the BIDS directory\n",
    "    preproc_root: string\n",
    "        The root of the preprocessed data, where the result of the brain extraction will be saved.\n",
    "    subject_id: string\n",
    "        Subject ID, the subject on which brain extraction should be conducted.\n",
    "    robust: bool\n",
    "        Whether to conduct robust center estimation with BET or not. Default is False.\n",
    "    \"\"\"\n",
    "    # Correct subject ID for the dataset\n",
    "    subject = f'sub-{subject_id}'  # Ensure this matches your dataset structure\n",
    "    anatomical_path = op.join(bids_root, subject, 'anat', f'{subject}_T1w.nii.gz')\n",
    "    \n",
    "    # Preprocessing output path\n",
    "    betted_brain_path = op.join(preproc_root, subject, 'anat', f'{subject}_T1w')\n",
    "    \n",
    "    # Create the directory for preprocessed data if it doesn't exist\n",
    "    mkdir_no_exist(op.join(preproc_root, subject, 'anat'))\n",
    "    \n",
    "    # Run BET\n",
    "    os.system(f'bet {anatomical_path} {betted_brain_path} -m {\"-R\" if robust else \"\"}')\n",
    "    print(\"Done with BET.\")\n",
    "\n",
    "\n",
    "resulting_mask_path = op.join(preproc_root, 'sub-control01', 'anat', 'sub-control01_T1w_mask')\n",
    "# Update the call to match your dataset's subject ID\n",
    "get_skull_stripped_anatomical(bids_root, preproc_root, \"control01\")\n"
   ]
  },
  {
   "cell_type": "code",
   "execution_count": 14,
   "id": "4f4a0c05-4943-427e-970d-b03744e8b58d",
   "metadata": {},
   "outputs": [],
   "source": [
    "fsleyesDisplay.load(resulting_mask_path)"
   ]
  },
  {
   "cell_type": "code",
   "execution_count": 16,
   "id": "731b9263-cd6e-42e9-ac6b-c8546be71e32",
   "metadata": {},
   "outputs": [
    {
     "name": "stdout",
     "output_type": "stream",
     "text": [
      "Done with BET.\n"
     ]
    }
   ],
   "source": [
    "get_skull_stripped_anatomical(bids_root, preproc_root, \"control01\", robust=True)"
   ]
  },
  {
   "cell_type": "code",
   "execution_count": 19,
   "id": "163c756c-0192-470d-9192-cd90b1151340",
   "metadata": {},
   "outputs": [],
   "source": [
    "fsleyesDisplay.resetOverlays()\n",
    "fsleyesDisplay.load(concatenated_file_path)\n",
    "fsleyesDisplay.load(resulting_mask_path)"
   ]
  },
  {
   "cell_type": "code",
   "execution_count": 20,
   "id": "7688067d-f428-49e6-b6d2-a90b8f87d096",
   "metadata": {},
   "outputs": [
    {
     "name": "stdout",
     "output_type": "stream",
     "text": [
      "Masked image saved at: /home/jovyan/mne_data/ds000171/sub-control01/anat/sub-control01_T1w.nii.gz\n"
     ]
    }
   ],
   "source": [
    "def apply_fsl_math_approach(img_path, mask_path, masked_img_path):\n",
    "    \"\"\"\n",
    "    Apply FSL's fslmaths to mask an image with a given mask.\n",
    "\n",
    "    Parameters\n",
    "    ----------\n",
    "    img_path: str\n",
    "        Path to the input image that needs to be masked.\n",
    "    mask_path: str\n",
    "        Path to the mask image.\n",
    "    masked_img_path: str\n",
    "        Path where the masked output image will be saved.\n",
    "    \"\"\"\n",
    "    # Execute the fslmaths command with the -mas option\n",
    "    os.system('fslmaths {} -mas {} {}'.format(img_path, mask_path, masked_img_path))\n",
    "    print(f\"Masked image saved at: {masked_img_path}\")\n",
    "\n",
    "# Define paths based on your dataset structure\n",
    "subject_id = \"control01\"  # Adjust this as necessary\n",
    "anatomical_path = op.join(bids_root, f'sub-{subject_id}', 'anat', f'sub-{subject_id}_T1w.nii.gz')  # Original brain\n",
    "betted_brain_path = op.join(preproc_root, f'sub-{subject_id}', 'anat', f'sub-{subject_id}_T1w.nii.gz')  # Skull-stripped brain\n",
    "resulting_mask_path = op.join(preproc_root, f'sub-{subject_id}', 'anat', f'sub-{subject_id}_T1w_mask.nii.gz')  # The mask\n",
    "\n",
    "# Apply the FSL math approach\n",
    "apply_fsl_math_approach(betted_brain_path, resulting_mask_path, anatomical_path)\n"
   ]
  },
  {
   "cell_type": "code",
   "execution_count": 21,
   "id": "46020b29-42c5-4290-93a3-3711911f078b",
   "metadata": {},
   "outputs": [],
   "source": [
    "fsleyesDisplay.resetOverlays()\n",
    "fsleyesDisplay.load(betted_brain_path)"
   ]
  },
  {
   "cell_type": "code",
   "execution_count": 23,
   "id": "c40b2dfd-4277-480c-8023-789bc5ca0196",
   "metadata": {},
   "outputs": [
    {
     "name": "stdout",
     "output_type": "stream",
     "text": [
      "FAST segmentation complete.\n"
     ]
    }
   ],
   "source": [
    "import glob\n",
    "from nipype.interfaces.fsl import FAST\n",
    "subject = f'sub-{subject_id}'\n",
    "anatomical_path = op.join(bids_root, subject, 'anat', f'{subject}_T1w.nii.gz')\n",
    "bet_path = op.join(preproc_root, subject, 'anat', f'{subject}_T1w')\n",
    "\n",
    "##########################\n",
    "fast_target = bet_path # Replace with either anatomical_path or bet_path (note: you can try both and decide which is more reasonable!)\n",
    "\n",
    "[os.remove(f) for f in glob.glob(op.join(preproc_root, subject, 'anat', '*fast*'))] # Just to clean the directory in between runs of the cell\n",
    "segmentation_path = op.join(preproc_root, subject, 'anat', f'{subject}_T1w_fast')\n",
    "fast(imgs=[fast_target], out=segmentation_path, n_classes=3)\n",
    "print(\"FAST segmentation complete.\")"
   ]
  },
  {
   "cell_type": "code",
   "execution_count": 24,
   "id": "97fe8ec2-1fc3-4938-b3fa-c07cd9164dae",
   "metadata": {
    "collapsed": true,
    "jupyter": {
     "outputs_hidden": true,
     "source_hidden": true
    },
    "scrolled": true
   },
   "outputs": [
    {
     "name": "stdout",
     "output_type": "stream",
     "text": [
      "|ds000171/\n",
      "|--- CHANGES\n",
      "|--- README\n",
      "|--- T1w.json\n",
      "|--- dataset_description.json\n",
      "|--- participants.tsv\n",
      "|--- task-music_bold.json\n",
      "|--- task-nonmusic_bold.json\n",
      "|--- derivatives/\n",
      "|------ preprocessed_data/\n",
      "|--------- sub-001/\n",
      "|------------ anat/\n",
      "|--------- sub-control01/\n",
      "|------------ anat/\n",
      "|--------------- sub-control01_T1w.nii.gz\n",
      "|--------------- sub-control01_T1w_fast_mixeltype.nii.gz\n",
      "|--------------- sub-control01_T1w_fast_pve_0.nii.gz\n",
      "|--------------- sub-control01_T1w_fast_pve_1.nii.gz\n",
      "|--------------- sub-control01_T1w_fast_pve_2.nii.gz\n",
      "|--------------- sub-control01_T1w_fast_pveseg.nii.gz\n",
      "|--------------- sub-control01_T1w_fast_seg.nii.gz\n",
      "|--------------- sub-control01_T1w_mask.nii.gz\n",
      "|--- sub-control01/\n",
      "|------ anac/\n",
      "|------ anat/\n",
      "|--------- sub-control01_T1w.nii.gz\n",
      "|------ func/\n",
      "|--------- concatenated_task_music_bold.nii.gz\n",
      "|--------- sub-control01_task-music_run-1_bold.nii.gz\n",
      "|--------- sub-control01_task-music_run-1_events.tsv\n",
      "|--------- sub-control01_task-music_run-2_bold.nii.gz\n",
      "|--------- sub-control01_task-music_run-2_events.tsv\n",
      "|--------- sub-control01_task-music_run-3_bold.nii.gz\n",
      "|--------- sub-control01_task-music_run-3_events.tsv\n"
     ]
    }
   ],
   "source": [
    "print_dir_tree(bids_root, max_depth=5)"
   ]
  },
  {
   "cell_type": "code",
   "execution_count": 27,
   "id": "c15b4ec2-d88d-4c0a-8a9b-7076455011a4",
   "metadata": {
    "scrolled": true
   },
   "outputs": [
    {
     "name": "stdout",
     "output_type": "stream",
     "text": [
      "\n",
      "👋 Hello! This is openneuro-py 2024.2.0. Great to see you! 🤗\n",
      "\n",
      "   👉 Please report problems 🤯 and bugs 🪲 at\n",
      "      https://github.com/hoechenberger/openneuro-py/issues\n",
      "\n",
      "🌍 Preparing to download ds000171 …\n",
      "Cannot determine local revision of the dataset, and the target directory is not empty. If the download fails, you may want to try again with a fresh (empty) target directory.\n"
     ]
    },
    {
     "name": "stderr",
     "output_type": "stream",
     "text": [
      "📁 Traversing directories for ds000171 : 7 entities [00:08,  1.25s/ entities]\n",
      "\u001b[31m╭─\u001b[0m\u001b[31m────────────────────\u001b[0m\u001b[31m \u001b[0m\u001b[1;31mTraceback \u001b[0m\u001b[1;2;31m(most recent call last)\u001b[0m\u001b[31m \u001b[0m\u001b[31m─────────────────────\u001b[0m\u001b[31m─╮\u001b[0m\n",
      "\u001b[31m│\u001b[0m \u001b[2;33m/opt/conda/lib/python3.11/site-packages/openneuro/\u001b[0m\u001b[1;33m_cli.py\u001b[0m:\u001b[94m64\u001b[0m in \u001b[92mdownload_cli\u001b[0m \u001b[31m│\u001b[0m\n",
      "\u001b[31m│\u001b[0m                                                                              \u001b[31m│\u001b[0m\n",
      "\u001b[31m│\u001b[0m   \u001b[2m 61 \u001b[0m\u001b[2m│   \u001b[0m] = \u001b[94m5\u001b[0m,                                                             \u001b[31m│\u001b[0m\n",
      "\u001b[31m│\u001b[0m   \u001b[2m 62 \u001b[0m) -> \u001b[94mNone\u001b[0m:                                                             \u001b[31m│\u001b[0m\n",
      "\u001b[31m│\u001b[0m   \u001b[2m 63 \u001b[0m\u001b[2;90m│   \u001b[0m\u001b[33m\"\"\"Download datasets from OpenNeuro.\"\"\"\u001b[0m                            \u001b[31m│\u001b[0m\n",
      "\u001b[31m│\u001b[0m \u001b[31m❱ \u001b[0m 64 \u001b[2m│   \u001b[0mdownload(                                                          \u001b[31m│\u001b[0m\n",
      "\u001b[31m│\u001b[0m   \u001b[2m 65 \u001b[0m\u001b[2m│   │   \u001b[0mdataset=dataset,                                               \u001b[31m│\u001b[0m\n",
      "\u001b[31m│\u001b[0m   \u001b[2m 66 \u001b[0m\u001b[2m│   │   \u001b[0mtag=tag,                                                       \u001b[31m│\u001b[0m\n",
      "\u001b[31m│\u001b[0m   \u001b[2m 67 \u001b[0m\u001b[2m│   │   \u001b[0mtarget_dir=target_dir,                                         \u001b[31m│\u001b[0m\n",
      "\u001b[31m│\u001b[0m                                                                              \u001b[31m│\u001b[0m\n",
      "\u001b[31m│\u001b[0m \u001b[33m╭─\u001b[0m\u001b[33m───────────────────────────\u001b[0m\u001b[33m locals \u001b[0m\u001b[33m────────────────────────────\u001b[0m\u001b[33m─╮\u001b[0m          \u001b[31m│\u001b[0m\n",
      "\u001b[31m│\u001b[0m \u001b[33m│\u001b[0m                  dataset = \u001b[33m'ds000171'\u001b[0m                           \u001b[33m│\u001b[0m          \u001b[31m│\u001b[0m\n",
      "\u001b[31m│\u001b[0m \u001b[33m│\u001b[0m                  exclude = \u001b[94mNone\u001b[0m                                 \u001b[33m│\u001b[0m          \u001b[31m│\u001b[0m\n",
      "\u001b[31m│\u001b[0m \u001b[33m│\u001b[0m                  include = \u001b[33m'sub-001'\u001b[0m                            \u001b[33m│\u001b[0m          \u001b[31m│\u001b[0m\n",
      "\u001b[31m│\u001b[0m \u001b[33m│\u001b[0m max_concurrent_downloads = \u001b[94m5\u001b[0m                                    \u001b[33m│\u001b[0m          \u001b[31m│\u001b[0m\n",
      "\u001b[31m│\u001b[0m \u001b[33m│\u001b[0m              max_retries = \u001b[94m5\u001b[0m                                    \u001b[33m│\u001b[0m          \u001b[31m│\u001b[0m\n",
      "\u001b[31m│\u001b[0m \u001b[33m│\u001b[0m                      tag = \u001b[94mNone\u001b[0m                                 \u001b[33m│\u001b[0m          \u001b[31m│\u001b[0m\n",
      "\u001b[31m│\u001b[0m \u001b[33m│\u001b[0m               target_dir = \u001b[33m'/home/jovyan/Data/dataset/ds000171'\u001b[0m \u001b[33m│\u001b[0m          \u001b[31m│\u001b[0m\n",
      "\u001b[31m│\u001b[0m \u001b[33m│\u001b[0m              verify_hash = \u001b[94mTrue\u001b[0m                                 \u001b[33m│\u001b[0m          \u001b[31m│\u001b[0m\n",
      "\u001b[31m│\u001b[0m \u001b[33m│\u001b[0m              verify_size = \u001b[94mTrue\u001b[0m                                 \u001b[33m│\u001b[0m          \u001b[31m│\u001b[0m\n",
      "\u001b[31m│\u001b[0m \u001b[33m╰─────────────────────────────────────────────────────────────────╯\u001b[0m          \u001b[31m│\u001b[0m\n",
      "\u001b[31m│\u001b[0m                                                                              \u001b[31m│\u001b[0m\n",
      "\u001b[31m│\u001b[0m \u001b[2;33m/opt/conda/lib/python3.11/site-packages/openneuro/\u001b[0m\u001b[1;33m_download.py\u001b[0m:\u001b[94m876\u001b[0m in        \u001b[31m│\u001b[0m\n",
      "\u001b[31m│\u001b[0m \u001b[92mdownload\u001b[0m                                                                     \u001b[31m│\u001b[0m\n",
      "\u001b[31m│\u001b[0m                                                                              \u001b[31m│\u001b[0m\n",
      "\u001b[31m│\u001b[0m   \u001b[2m873 \u001b[0m\u001b[2m│   │   │   │   │   \u001b[0m)                                                  \u001b[31m│\u001b[0m\n",
      "\u001b[31m│\u001b[0m   \u001b[2m874 \u001b[0m\u001b[2m│   │   │   │   \u001b[0m\u001b[94melse\u001b[0m:                                                  \u001b[31m│\u001b[0m\n",
      "\u001b[31m│\u001b[0m   \u001b[2m875 \u001b[0m\u001b[2m│   │   │   │   │   \u001b[0mextra = \u001b[33m\"\u001b[0m\u001b[33mThere were no similar filenames found in \u001b[0m \u001b[31m│\u001b[0m\n",
      "\u001b[31m│\u001b[0m \u001b[31m❱ \u001b[0m876 \u001b[2m│   │   │   │   \u001b[0m\u001b[94mraise\u001b[0m \u001b[96mRuntimeError\u001b[0m(                                    \u001b[31m│\u001b[0m\n",
      "\u001b[31m│\u001b[0m   \u001b[2m877 \u001b[0m\u001b[2m│   │   │   │   │   \u001b[0m\u001b[33mf\u001b[0m\u001b[33m\"\u001b[0m\u001b[33mCould not find path in the dataset:\u001b[0m\u001b[33m\\n\u001b[0m\u001b[33m- \u001b[0m\u001b[33m{\u001b[0mthis\u001b[33m}\u001b[0m\u001b[33m\\n\u001b[0m\u001b[33m{\u001b[0m \u001b[31m│\u001b[0m\n",
      "\u001b[31m│\u001b[0m   \u001b[2m878 \u001b[0m\u001b[2m│   │   │   │   │   \u001b[0m\u001b[33m\"\u001b[0m\u001b[33mPlease check your includes.\u001b[0m\u001b[33m\"\u001b[0m                      \u001b[31m│\u001b[0m\n",
      "\u001b[31m│\u001b[0m   \u001b[2m879 \u001b[0m\u001b[2m│   │   │   │   \u001b[0m)                                                      \u001b[31m│\u001b[0m\n",
      "\u001b[31m│\u001b[0m                                                                              \u001b[31m│\u001b[0m\n",
      "\u001b[31m│\u001b[0m \u001b[33m╭─\u001b[0m\u001b[33m────────────────────────────────\u001b[0m\u001b[33m locals \u001b[0m\u001b[33m────────────────────────────────\u001b[0m\u001b[33m─╮\u001b[0m \u001b[31m│\u001b[0m\n",
      "\u001b[31m│\u001b[0m \u001b[33m│\u001b[0m                    count = \u001b[94m0\u001b[0m                                             \u001b[33m│\u001b[0m \u001b[31m│\u001b[0m\n",
      "\u001b[31m│\u001b[0m \u001b[33m│\u001b[0m                  dataset = \u001b[33m'ds000171'\u001b[0m                                    \u001b[33m│\u001b[0m \u001b[31m│\u001b[0m\n",
      "\u001b[31m│\u001b[0m \u001b[33m│\u001b[0m                  exclude = \u001b[1m[\u001b[0m\u001b[1m]\u001b[0m                                            \u001b[33m│\u001b[0m \u001b[31m│\u001b[0m\n",
      "\u001b[31m│\u001b[0m \u001b[33m│\u001b[0m                    extra = \u001b[33m'There were no similar filenames found in the\u001b[0m \u001b[33m│\u001b[0m \u001b[31m│\u001b[0m\n",
      "\u001b[31m│\u001b[0m \u001b[33m│\u001b[0m                            \u001b[33mmetadata. '\u001b[0m                                   \u001b[33m│\u001b[0m \u001b[31m│\u001b[0m\n",
      "\u001b[31m│\u001b[0m \u001b[33m│\u001b[0m                     file = \u001b[1m{\u001b[0m                                             \u001b[33m│\u001b[0m \u001b[31m│\u001b[0m\n",
      "\u001b[31m│\u001b[0m \u001b[33m│\u001b[0m                            \u001b[2m│   \u001b[0m\u001b[33m'filename'\u001b[0m: \u001b[33m'task-nonmusic_bold.json'\u001b[0m,    \u001b[33m│\u001b[0m \u001b[31m│\u001b[0m\n",
      "\u001b[31m│\u001b[0m \u001b[33m│\u001b[0m                            \u001b[2m│   \u001b[0m\u001b[33m'urls'\u001b[0m: \u001b[1m[\u001b[0m                                 \u001b[33m│\u001b[0m \u001b[31m│\u001b[0m\n",
      "\u001b[31m│\u001b[0m \u001b[33m│\u001b[0m                            \u001b[2m│   │   \u001b[0m                                      \u001b[33m│\u001b[0m \u001b[31m│\u001b[0m\n",
      "\u001b[31m│\u001b[0m \u001b[33m│\u001b[0m                            \u001b[33m'https://s3.amazonaws.com/openneuro.org/ds00…\u001b[0m \u001b[33m│\u001b[0m \u001b[31m│\u001b[0m\n",
      "\u001b[31m│\u001b[0m \u001b[33m│\u001b[0m                            \u001b[2m│   \u001b[0m\u001b[1m]\u001b[0m,                                        \u001b[33m│\u001b[0m \u001b[31m│\u001b[0m\n",
      "\u001b[31m│\u001b[0m \u001b[33m│\u001b[0m                            \u001b[2m│   \u001b[0m\u001b[33m'size'\u001b[0m: \u001b[94m723\u001b[0m,                              \u001b[33m│\u001b[0m \u001b[31m│\u001b[0m\n",
      "\u001b[31m│\u001b[0m \u001b[33m│\u001b[0m                            \u001b[2m│   \u001b[0m\u001b[33m'directory'\u001b[0m: \u001b[94mFalse\u001b[0m,                       \u001b[33m│\u001b[0m \u001b[31m│\u001b[0m\n",
      "\u001b[31m│\u001b[0m \u001b[33m│\u001b[0m                            \u001b[2m│   \u001b[0m\u001b[33m'id'\u001b[0m:                                     \u001b[33m│\u001b[0m \u001b[31m│\u001b[0m\n",
      "\u001b[31m│\u001b[0m \u001b[33m│\u001b[0m                            \u001b[33m'231c9df0c7508b5b1f6731388045a4acf49137b2'\u001b[0m    \u001b[33m│\u001b[0m \u001b[31m│\u001b[0m\n",
      "\u001b[31m│\u001b[0m \u001b[33m│\u001b[0m                            \u001b[1m}\u001b[0m                                             \u001b[33m│\u001b[0m \u001b[31m│\u001b[0m\n",
      "\u001b[31m│\u001b[0m \u001b[33m│\u001b[0m                 filename = \u001b[33m'task-nonmusic_bold.json'\u001b[0m                     \u001b[33m│\u001b[0m \u001b[31m│\u001b[0m\n",
      "\u001b[31m│\u001b[0m \u001b[33m│\u001b[0m                filenames = \u001b[1m[\u001b[0m                                             \u001b[33m│\u001b[0m \u001b[31m│\u001b[0m\n",
      "\u001b[31m│\u001b[0m \u001b[33m│\u001b[0m                            \u001b[2m│   \u001b[0m\u001b[33m'CHANGES'\u001b[0m,                                \u001b[33m│\u001b[0m \u001b[31m│\u001b[0m\n",
      "\u001b[31m│\u001b[0m \u001b[33m│\u001b[0m                            \u001b[2m│   \u001b[0m\u001b[33m'README'\u001b[0m,                                 \u001b[33m│\u001b[0m \u001b[31m│\u001b[0m\n",
      "\u001b[31m│\u001b[0m \u001b[33m│\u001b[0m                            \u001b[2m│   \u001b[0m\u001b[33m'dataset_description.json'\u001b[0m,               \u001b[33m│\u001b[0m \u001b[31m│\u001b[0m\n",
      "\u001b[31m│\u001b[0m \u001b[33m│\u001b[0m                            \u001b[2m│   \u001b[0m\u001b[33m'T1w.json'\u001b[0m,                               \u001b[33m│\u001b[0m \u001b[31m│\u001b[0m\n",
      "\u001b[31m│\u001b[0m \u001b[33m│\u001b[0m                            \u001b[2m│   \u001b[0m\u001b[33m'participants.tsv'\u001b[0m,                       \u001b[33m│\u001b[0m \u001b[31m│\u001b[0m\n",
      "\u001b[31m│\u001b[0m \u001b[33m│\u001b[0m                            \u001b[2m│   \u001b[0m\u001b[33m'task-music_bold.json'\u001b[0m,                   \u001b[33m│\u001b[0m \u001b[31m│\u001b[0m\n",
      "\u001b[31m│\u001b[0m \u001b[33m│\u001b[0m                            \u001b[2m│   \u001b[0m\u001b[33m'task-nonmusic_bold.json'\u001b[0m                 \u001b[33m│\u001b[0m \u001b[31m│\u001b[0m\n",
      "\u001b[31m│\u001b[0m \u001b[33m│\u001b[0m                            \u001b[1m]\u001b[0m                                             \u001b[33m│\u001b[0m \u001b[31m│\u001b[0m\n",
      "\u001b[31m│\u001b[0m \u001b[33m│\u001b[0m                    files = \u001b[1m[\u001b[0m                                             \u001b[33m│\u001b[0m \u001b[31m│\u001b[0m\n",
      "\u001b[31m│\u001b[0m \u001b[33m│\u001b[0m                            \u001b[2m│   \u001b[0m\u001b[1m{\u001b[0m                                         \u001b[33m│\u001b[0m \u001b[31m│\u001b[0m\n",
      "\u001b[31m│\u001b[0m \u001b[33m│\u001b[0m                            \u001b[2m│   │   \u001b[0m\u001b[33m'filename'\u001b[0m: \u001b[33m'CHANGES'\u001b[0m,                \u001b[33m│\u001b[0m \u001b[31m│\u001b[0m\n",
      "\u001b[31m│\u001b[0m \u001b[33m│\u001b[0m                            \u001b[2m│   │   \u001b[0m\u001b[33m'urls'\u001b[0m: \u001b[1m[\u001b[0m                             \u001b[33m│\u001b[0m \u001b[31m│\u001b[0m\n",
      "\u001b[31m│\u001b[0m \u001b[33m│\u001b[0m                            \u001b[2m│   │   │   \u001b[0m                                  \u001b[33m│\u001b[0m \u001b[31m│\u001b[0m\n",
      "\u001b[31m│\u001b[0m \u001b[33m│\u001b[0m                            \u001b[33m'https://s3.amazonaws.com/openneuro.org/ds00…\u001b[0m \u001b[33m│\u001b[0m \u001b[31m│\u001b[0m\n",
      "\u001b[31m│\u001b[0m \u001b[33m│\u001b[0m                            \u001b[2m│   │   \u001b[0m\u001b[1m]\u001b[0m,                                    \u001b[33m│\u001b[0m \u001b[31m│\u001b[0m\n",
      "\u001b[31m│\u001b[0m \u001b[33m│\u001b[0m                            \u001b[2m│   │   \u001b[0m\u001b[33m'size'\u001b[0m: \u001b[94m45\u001b[0m,                           \u001b[33m│\u001b[0m \u001b[31m│\u001b[0m\n",
      "\u001b[31m│\u001b[0m \u001b[33m│\u001b[0m                            \u001b[2m│   │   \u001b[0m\u001b[33m'directory'\u001b[0m: \u001b[94mFalse\u001b[0m,                   \u001b[33m│\u001b[0m \u001b[31m│\u001b[0m\n",
      "\u001b[31m│\u001b[0m \u001b[33m│\u001b[0m                            \u001b[2m│   │   \u001b[0m\u001b[33m'id'\u001b[0m:                                 \u001b[33m│\u001b[0m \u001b[31m│\u001b[0m\n",
      "\u001b[31m│\u001b[0m \u001b[33m│\u001b[0m                            \u001b[33m'054658647c607c9d92a7e3f3b21e8e263685bfe3'\u001b[0m    \u001b[33m│\u001b[0m \u001b[31m│\u001b[0m\n",
      "\u001b[31m│\u001b[0m \u001b[33m│\u001b[0m                            \u001b[2m│   \u001b[0m\u001b[1m}\u001b[0m,                                        \u001b[33m│\u001b[0m \u001b[31m│\u001b[0m\n",
      "\u001b[31m│\u001b[0m \u001b[33m│\u001b[0m                            \u001b[2m│   \u001b[0m\u001b[1m{\u001b[0m                                         \u001b[33m│\u001b[0m \u001b[31m│\u001b[0m\n",
      "\u001b[31m│\u001b[0m \u001b[33m│\u001b[0m                            \u001b[2m│   │   \u001b[0m\u001b[33m'filename'\u001b[0m: \u001b[33m'README'\u001b[0m,                 \u001b[33m│\u001b[0m \u001b[31m│\u001b[0m\n",
      "\u001b[31m│\u001b[0m \u001b[33m│\u001b[0m                            \u001b[2m│   │   \u001b[0m\u001b[33m'urls'\u001b[0m: \u001b[1m[\u001b[0m                             \u001b[33m│\u001b[0m \u001b[31m│\u001b[0m\n",
      "\u001b[31m│\u001b[0m \u001b[33m│\u001b[0m                            \u001b[2m│   │   ���   \u001b[0m                                  \u001b[33m│\u001b[0m \u001b[31m│\u001b[0m\n",
      "\u001b[31m│\u001b[0m \u001b[33m│\u001b[0m                            \u001b[33m'https://s3.amazonaws.com/openneuro.org/ds00…\u001b[0m \u001b[33m│\u001b[0m \u001b[31m│\u001b[0m\n",
      "\u001b[31m│\u001b[0m \u001b[33m│\u001b[0m                            \u001b[2m│   │   \u001b[0m\u001b[1m]\u001b[0m,                                    \u001b[33m│\u001b[0m \u001b[31m│\u001b[0m\n",
      "\u001b[31m│\u001b[0m \u001b[33m│\u001b[0m                            \u001b[2m│   │   \u001b[0m\u001b[33m'size'\u001b[0m: \u001b[94m1006\u001b[0m,                         \u001b[33m│\u001b[0m \u001b[31m│\u001b[0m\n",
      "\u001b[31m│\u001b[0m \u001b[33m│\u001b[0m                            \u001b[2m│   │   \u001b[0m\u001b[33m'directory'\u001b[0m: \u001b[94mFalse\u001b[0m,                   \u001b[33m│\u001b[0m \u001b[31m│\u001b[0m\n",
      "\u001b[31m│\u001b[0m \u001b[33m│\u001b[0m                            \u001b[2m│   │   \u001b[0m\u001b[33m'id'\u001b[0m:                                 \u001b[33m│\u001b[0m \u001b[31m│\u001b[0m\n",
      "\u001b[31m│\u001b[0m \u001b[33m│\u001b[0m                            \u001b[33m'03da42fd500b57034407f835d5396a61edbd49f5'\u001b[0m    \u001b[33m│\u001b[0m \u001b[31m│\u001b[0m\n",
      "\u001b[31m│\u001b[0m \u001b[33m│\u001b[0m                            \u001b[2m│   \u001b[0m\u001b[1m}\u001b[0m,                                        \u001b[33m│\u001b[0m \u001b[31m│\u001b[0m\n",
      "\u001b[31m│\u001b[0m \u001b[33m│\u001b[0m                            \u001b[2m│   \u001b[0m\u001b[1m{\u001b[0m                                         \u001b[33m│\u001b[0m \u001b[31m│\u001b[0m\n",
      "\u001b[31m│\u001b[0m \u001b[33m│\u001b[0m                            \u001b[2m│   │   \u001b[0m\u001b[33m'filename'\u001b[0m:                           \u001b[33m│\u001b[0m \u001b[31m│\u001b[0m\n",
      "\u001b[31m│\u001b[0m \u001b[33m│\u001b[0m                            \u001b[33m'dataset_description.json'\u001b[0m,                   \u001b[33m│\u001b[0m \u001b[31m│\u001b[0m\n",
      "\u001b[31m│\u001b[0m \u001b[33m│\u001b[0m                            \u001b[2m│   │   \u001b[0m\u001b[33m'urls'\u001b[0m: \u001b[1m[\u001b[0m                             \u001b[33m│\u001b[0m \u001b[31m│\u001b[0m\n",
      "\u001b[31m│\u001b[0m \u001b[33m│\u001b[0m                            \u001b[2m│   │   │   \u001b[0m                                  \u001b[33m│\u001b[0m \u001b[31m│\u001b[0m\n",
      "\u001b[31m│\u001b[0m \u001b[33m│\u001b[0m                            \u001b[33m'https://s3.amazonaws.com/openneuro.org/ds00…\u001b[0m \u001b[33m│\u001b[0m \u001b[31m│\u001b[0m\n",
      "\u001b[31m│\u001b[0m \u001b[33m│\u001b[0m                            \u001b[2m│   ��   \u001b[0m\u001b[1m]\u001b[0m,                                    \u001b[33m│\u001b[0m \u001b[31m│\u001b[0m\n",
      "\u001b[31m│\u001b[0m \u001b[33m│\u001b[0m                            \u001b[2m│   │   \u001b[0m\u001b[33m'size'\u001b[0m: \u001b[94m2856\u001b[0m,                         \u001b[33m│\u001b[0m \u001b[31m│\u001b[0m\n",
      "\u001b[31m│\u001b[0m \u001b[33m│\u001b[0m                            \u001b[2m│   │   \u001b[0m\u001b[33m'directory'\u001b[0m: \u001b[94mFalse\u001b[0m,                   \u001b[33m│\u001b[0m \u001b[31m│\u001b[0m\n",
      "\u001b[31m│\u001b[0m \u001b[33m│\u001b[0m                            \u001b[2m│   │   \u001b[0m\u001b[33m'id'\u001b[0m:                                 \u001b[33m│\u001b[0m \u001b[31m│\u001b[0m\n",
      "\u001b[31m│\u001b[0m \u001b[33m│\u001b[0m                            \u001b[33m'34c228102bf1c19cd9cff5df66c4630904a93ce2'\u001b[0m    \u001b[33m│\u001b[0m \u001b[31m│\u001b[0m\n",
      "\u001b[31m│\u001b[0m \u001b[33m│\u001b[0m                            \u001b[2m│   \u001b[0m\u001b[1m}\u001b[0m,                                        \u001b[33m│\u001b[0m \u001b[31m│\u001b[0m\n",
      "\u001b[31m│\u001b[0m \u001b[33m│\u001b[0m                            \u001b[2m│   \u001b[0m\u001b[1m{\u001b[0m                                         \u001b[33m│\u001b[0m \u001b[31m│\u001b[0m\n",
      "\u001b[31m│\u001b[0m \u001b[33m│\u001b[0m                            \u001b[2m│   │   \u001b[0m\u001b[33m'filename'\u001b[0m: \u001b[33m'participants.tsv'\u001b[0m,       \u001b[33m│\u001b[0m \u001b[31m│\u001b[0m\n",
      "\u001b[31m│\u001b[0m \u001b[33m│\u001b[0m                            \u001b[2m│   │   \u001b[0m\u001b[33m'urls'\u001b[0m: \u001b[1m[\u001b[0m                             \u001b[33m│\u001b[0m \u001b[31m│\u001b[0m\n",
      "\u001b[31m│\u001b[0m \u001b[33m│\u001b[0m                            \u001b[2m│   │   │   \u001b[0m                                  \u001b[33m│\u001b[0m \u001b[31m│\u001b[0m\n",
      "\u001b[31m│\u001b[0m \u001b[33m│\u001b[0m                            \u001b[33m'https://s3.amazonaws.com/openneuro.org/ds00…\u001b[0m \u001b[33m│\u001b[0m \u001b[31m│\u001b[0m\n",
      "\u001b[31m│\u001b[0m \u001b[33m│\u001b[0m                            \u001b[2m│   │   \u001b[0m\u001b[1m]\u001b[0m,                                    \u001b[33m│\u001b[0m \u001b[31m│\u001b[0m\n",
      "\u001b[31m│\u001b[0m \u001b[33m│\u001b[0m                            \u001b[2m│   │   \u001b[0m\u001b[33m'size'\u001b[0m: \u001b[94m1668\u001b[0m,                         \u001b[33m│\u001b[0m \u001b[31m│\u001b[0m\n",
      "\u001b[31m│\u001b[0m \u001b[33m│\u001b[0m                            \u001b[2m│   │   \u001b[0m\u001b[33m'directory'\u001b[0m: \u001b[94mFalse\u001b[0m,                   \u001b[33m│\u001b[0m \u001b[31m│\u001b[0m\n",
      "\u001b[31m│\u001b[0m \u001b[33m│\u001b[0m                            \u001b[2m│   │   \u001b[0m\u001b[33m'id'\u001b[0m:                                 \u001b[33m│\u001b[0m \u001b[31m│\u001b[0m\n",
      "\u001b[31m│\u001b[0m \u001b[33m│\u001b[0m                            \u001b[33m'8bbb678aec82adb20fe97cf80b72b9ee1cfee972'\u001b[0m    \u001b[33m│\u001b[0m \u001b[31m│\u001b[0m\n",
      "\u001b[31m│\u001b[0m \u001b[33m│\u001b[0m                            \u001b[2m│   \u001b[0m\u001b[1m}\u001b[0m                                         \u001b[33m│\u001b[0m \u001b[31m│\u001b[0m\n",
      "\u001b[31m│\u001b[0m \u001b[33m│\u001b[0m                            \u001b[1m]\u001b[0m                                             \u001b[33m│\u001b[0m \u001b[31m│\u001b[0m\n",
      "\u001b[31m│\u001b[0m \u001b[33m│\u001b[0m                      idx = \u001b[94m0\u001b[0m                                             \u001b[33m│\u001b[0m \u001b[31m│\u001b[0m\n",
      "\u001b[31m│\u001b[0m \u001b[33m│\u001b[0m                  include = \u001b[1m[\u001b[0m\u001b[33m'sub-001'\u001b[0m\u001b[1m]\u001b[0m                                   \u001b[33m│\u001b[0m \u001b[31m│\u001b[0m\n",
      "\u001b[31m│\u001b[0m \u001b[33m│\u001b[0m           include_counts = \u001b[1m[\u001b[0m\u001b[94m0\u001b[0m\u001b[1m]\u001b[0m                                           \u001b[33m│\u001b[0m \u001b[31m│\u001b[0m\n",
      "\u001b[31m│\u001b[0m \u001b[33m│\u001b[0m                local_tag = \u001b[94mNone\u001b[0m                                          \u001b[33m│\u001b[0m \u001b[31m│\u001b[0m\n",
      "\u001b[31m│\u001b[0m \u001b[33m│\u001b[0m          matches_exclude = \u001b[1m[\u001b[0m\u001b[1m]\u001b[0m                                            \u001b[33m│\u001b[0m \u001b[31m│\u001b[0m\n",
      "\u001b[31m│\u001b[0m \u001b[33m│\u001b[0m             matches_keep = \u001b[1m[\u001b[0m\u001b[94mFalse\u001b[0m\u001b[1m]\u001b[0m                                       \u001b[33m│\u001b[0m \u001b[31m│\u001b[0m\n",
      "\u001b[31m│\u001b[0m \u001b[33m│\u001b[0m max_concurrent_downloads = \u001b[94m5\u001b[0m                                             \u001b[33m│\u001b[0m \u001b[31m│\u001b[0m\n",
      "\u001b[31m│\u001b[0m \u001b[33m│\u001b[0m              max_retries = \u001b[94m5\u001b[0m                                             \u001b[33m│\u001b[0m \u001b[31m│\u001b[0m\n",
      "\u001b[31m│\u001b[0m \u001b[33m│\u001b[0m                    maybe = \u001b[1m[\u001b[0m\u001b[1m]\u001b[0m                                            \u001b[33m│\u001b[0m \u001b[31m│\u001b[0m\n",
      "\u001b[31m│\u001b[0m \u001b[33m│\u001b[0m                      msg = \u001b[33m'\\n👋 Hello! This is openneuro-py 2024.2.0. \u001b[0m  \u001b[33m│\u001b[0m \u001b[31m│\u001b[0m\n",
      "\u001b[31m│\u001b[0m \u001b[33m│\u001b[0m                            \u001b[33mGreat to see you! 🤗\\n\\n   👉 Please \u001b[0m         \u001b[33m│\u001b[0m \u001b[31m│\u001b[0m\n",
      "\u001b[31m│\u001b[0m \u001b[33m│\u001b[0m                            \u001b[33mreport'\u001b[0m+\u001b[94m85\u001b[0m                                    \u001b[33m│\u001b[0m \u001b[31m│\u001b[0m\n",
      "\u001b[31m│\u001b[0m \u001b[33m│\u001b[0m                 msg_bugs = \u001b[33m'bugs 🪲'\u001b[0m                                     \u001b[33m│\u001b[0m \u001b[31m│\u001b[0m\n",
      "\u001b[31m│\u001b[0m \u001b[33m│\u001b[0m     msg_great_to_see_you = \u001b[33m'Great to see you! 🤗'\u001b[0m                        \u001b[33m│\u001b[0m \u001b[31m│\u001b[0m\n",
      "\u001b[31m│\u001b[0m \u001b[33m│\u001b[0m                msg_hello = \u001b[33m'👋 Hello!'\u001b[0m                                   \u001b[33m│\u001b[0m \u001b[31m│\u001b[0m\n",
      "\u001b[31m│\u001b[0m \u001b[33m│\u001b[0m               msg_please = \u001b[33m'👉 Please'\u001b[0m                                   \u001b[33m│\u001b[0m \u001b[31m│\u001b[0m\n",
      "\u001b[31m│\u001b[0m \u001b[33m│\u001b[0m             msg_problems = \u001b[33m'problems 🤯'\u001b[0m                                 \u001b[33m│\u001b[0m \u001b[31m│\u001b[0m\n",
      "\u001b[31m│\u001b[0m \u001b[33m│\u001b[0m            retry_backoff = \u001b[94m0.5\u001b[0m                                           \u001b[33m│\u001b[0m \u001b[31m│\u001b[0m\n",
      "\u001b[31m│\u001b[0m \u001b[33m│\u001b[0m                      tag = \u001b[33m'00001'\u001b[0m                                       \u001b[33m│\u001b[0m \u001b[31m│\u001b[0m\n",
      "\u001b[31m│\u001b[0m \u001b[33m│\u001b[0m               target_dir = \u001b[1;35mPosixPath\u001b[0m\u001b[1m(\u001b[0m\u001b[33m'/home/jovyan/Data/dataset/ds00017…\u001b[0m \u001b[33m│\u001b[0m \u001b[31m│\u001b[0m\n",
      "\u001b[31m│\u001b[0m \u001b[33m│\u001b[0m         target_dir_empty = \u001b[94mFalse\u001b[0m                                         \u001b[33m│\u001b[0m \u001b[31m│\u001b[0m\n",
      "\u001b[31m│\u001b[0m \u001b[33m│\u001b[0m              these_files = \u001b[1m[\u001b[0m                                             \u001b[33m│\u001b[0m \u001b[31m│\u001b[0m\n",
      "\u001b[31m│\u001b[0m \u001b[33m│\u001b[0m                            \u001b[2m│   \u001b[0m\u001b[1m{\u001b[0m                                         \u001b[33m│\u001b[0m \u001b[31m│\u001b[0m\n",
      "\u001b[31m│\u001b[0m \u001b[33m│\u001b[0m                            \u001b[2m│   │   \u001b[0m\u001b[33m'filename'\u001b[0m: \u001b[33m'CHANGES'\u001b[0m,                \u001b[33m│\u001b[0m \u001b[31m│\u001b[0m\n",
      "\u001b[31m│\u001b[0m \u001b[33m│\u001b[0m                            \u001b[2m│   │   \u001b[0m\u001b[33m'urls'\u001b[0m: \u001b[1m[\u001b[0m                             \u001b[33m│\u001b[0m \u001b[31m│\u001b[0m\n",
      "\u001b[31m│\u001b[0m \u001b[33m│\u001b[0m                            \u001b[2m│   │   │   \u001b[0m                                  \u001b[33m│\u001b[0m \u001b[31m│\u001b[0m\n",
      "\u001b[31m│\u001b[0m \u001b[33m│\u001b[0m                            \u001b[33m'https://s3.amazonaws.com/openneuro.org/ds00…\u001b[0m \u001b[33m│\u001b[0m \u001b[31m│\u001b[0m\n",
      "\u001b[31m│\u001b[0m \u001b[33m│\u001b[0m                            \u001b[2m│   │   \u001b[0m\u001b[1m]\u001b[0m,                                    \u001b[33m│\u001b[0m \u001b[31m│\u001b[0m\n",
      "\u001b[31m│\u001b[0m \u001b[33m│\u001b[0m                            \u001b[2m│   │   \u001b[0m\u001b[33m'size'\u001b[0m: \u001b[94m45\u001b[0m,                           \u001b[33m│\u001b[0m \u001b[31m│\u001b[0m\n",
      "\u001b[31m│\u001b[0m \u001b[33m│\u001b[0m                            \u001b[2m│   │   \u001b[0m\u001b[33m'directory'\u001b[0m: \u001b[94mFalse\u001b[0m,                   \u001b[33m│\u001b[0m \u001b[31m│\u001b[0m\n",
      "\u001b[31m│\u001b[0m \u001b[33m│\u001b[0m                            \u001b[2m│   │   \u001b[0m\u001b[33m'id'\u001b[0m:                                 \u001b[33m│\u001b[0m \u001b[31m│\u001b[0m\n",
      "\u001b[31m│\u001b[0m \u001b[33m│\u001b[0m                            \u001b[33m'054658647c607c9d92a7e3f3b21e8e263685bfe3'\u001b[0m    \u001b[33m│\u001b[0m \u001b[31m│\u001b[0m\n",
      "\u001b[31m│\u001b[0m \u001b[33m│\u001b[0m                            \u001b[2m│   \u001b[0m\u001b[1m}\u001b[0m,                                        \u001b[33m│\u001b[0m \u001b[31m│\u001b[0m\n",
      "\u001b[31m│\u001b[0m \u001b[33m│\u001b[0m                            \u001b[2m│   \u001b[0m\u001b[1m{\u001b[0m                                         \u001b[33m│\u001b[0m \u001b[31m│\u001b[0m\n",
      "\u001b[31m│\u001b[0m \u001b[33m│\u001b[0m                            \u001b[2m│   │   \u001b[0m\u001b[33m'filename'\u001b[0m: \u001b[33m'README'\u001b[0m,                 \u001b[33m│\u001b[0m \u001b[31m│\u001b[0m\n",
      "\u001b[31m│\u001b[0m \u001b[33m│\u001b[0m                            \u001b[2m│   │   \u001b[0m\u001b[33m'urls'\u001b[0m: \u001b[1m[\u001b[0m                             \u001b[33m│\u001b[0m \u001b[31m│\u001b[0m\n",
      "\u001b[31m│\u001b[0m \u001b[33m│\u001b[0m                            \u001b[2m│   │   │   \u001b[0m                                  \u001b[33m│\u001b[0m \u001b[31m│\u001b[0m\n",
      "\u001b[31m│\u001b[0m \u001b[33m│\u001b[0m                            \u001b[33m'https://s3.amazonaws.com/openneuro.org/ds00…\u001b[0m \u001b[33m│\u001b[0m \u001b[31m│\u001b[0m\n",
      "\u001b[31m│\u001b[0m \u001b[33m│\u001b[0m                            \u001b[2m│   │   \u001b[0m\u001b[1m]\u001b[0m,                                    \u001b[33m│\u001b[0m \u001b[31m│\u001b[0m\n",
      "\u001b[31m│\u001b[0m \u001b[33m│\u001b[0m                            \u001b[2m│   │   \u001b[0m\u001b[33m'size'\u001b[0m: \u001b[94m1006\u001b[0m,                         \u001b[33m│\u001b[0m \u001b[31m│\u001b[0m\n",
      "\u001b[31m│\u001b[0m \u001b[33m│\u001b[0m                            \u001b[2m│   │   \u001b[0m\u001b[33m'directory'\u001b[0m: \u001b[94mFalse\u001b[0m,                   \u001b[33m│\u001b[0m \u001b[31m│\u001b[0m\n",
      "\u001b[31m│\u001b[0m \u001b[33m│\u001b[0m                            \u001b[2m│   │   \u001b[0m\u001b[33m'id'\u001b[0m:                                 \u001b[33m│\u001b[0m \u001b[31m│\u001b[0m\n",
      "\u001b[31m│\u001b[0m \u001b[33m│\u001b[0m                            \u001b[33m'03da42fd500b57034407f835d5396a61edbd49f5'\u001b[0m    \u001b[33m│\u001b[0m \u001b[31m│\u001b[0m\n",
      "\u001b[31m│\u001b[0m \u001b[33m│\u001b[0m                            \u001b[2m│   \u001b[0m\u001b[1m}\u001b[0m,                                        \u001b[33m│\u001b[0m \u001b[31m│\u001b[0m\n",
      "\u001b[31m│\u001b[0m \u001b[33m│\u001b[0m                            \u001b[2m│   \u001b[0m\u001b[1m{\u001b[0m                                         \u001b[33m│\u001b[0m \u001b[31m│\u001b[0m\n",
      "\u001b[31m│\u001b[0m \u001b[33m│\u001b[0m                            \u001b[2m│   │   \u001b[0m\u001b[33m'filename'\u001b[0m:                           \u001b[33m│\u001b[0m \u001b[31m│\u001b[0m\n",
      "\u001b[31m│\u001b[0m \u001b[33m│\u001b[0m                            \u001b[33m'dataset_description.json'\u001b[0m,                   \u001b[33m│\u001b[0m \u001b[31m│\u001b[0m\n",
      "\u001b[31m│\u001b[0m \u001b[33m│\u001b[0m                            \u001b[2m│   │   \u001b[0m\u001b[33m'urls'\u001b[0m: \u001b[1m[\u001b[0m                             \u001b[33m│\u001b[0m \u001b[31m│\u001b[0m\n",
      "\u001b[31m│\u001b[0m \u001b[33m│\u001b[0m                            \u001b[2m│   │   │   \u001b[0m                                  \u001b[33m│\u001b[0m \u001b[31m│\u001b[0m\n",
      "\u001b[31m│\u001b[0m \u001b[33m│\u001b[0m                            \u001b[33m'https://s3.amazonaws.com/openneuro.org/ds00…\u001b[0m \u001b[33m│\u001b[0m \u001b[31m│\u001b[0m\n",
      "\u001b[31m│\u001b[0m \u001b[33m│\u001b[0m                            \u001b[2m│   │   \u001b[0m\u001b[1m]\u001b[0m,                                    \u001b[33m│\u001b[0m \u001b[31m│\u001b[0m\n",
      "\u001b[31m│\u001b[0m \u001b[33m│\u001b[0m                            \u001b[2m│   │   \u001b[0m\u001b[33m'size'\u001b[0m: \u001b[94m2856\u001b[0m,                         \u001b[33m│\u001b[0m \u001b[31m│\u001b[0m\n",
      "\u001b[31m│\u001b[0m \u001b[33m│\u001b[0m                            \u001b[2m│   │   \u001b[0m\u001b[33m'directory'\u001b[0m: \u001b[94mFalse\u001b[0m,                   \u001b[33m│\u001b[0m \u001b[31m│\u001b[0m\n",
      "\u001b[31m│\u001b[0m \u001b[33m│\u001b[0m                            \u001b[2m│   │   \u001b[0m\u001b[33m'id'\u001b[0m:                                 \u001b[33m│\u001b[0m \u001b[31m│\u001b[0m\n",
      "\u001b[31m│\u001b[0m \u001b[33m│\u001b[0m                            \u001b[33m'34c228102bf1c19cd9cff5df66c4630904a93ce2'\u001b[0m    \u001b[33m│\u001b[0m \u001b[31m│\u001b[0m\n",
      "\u001b[31m│\u001b[0m \u001b[33m│\u001b[0m                            \u001b[2m│   \u001b[0m\u001b[1m}\u001b[0m,                                        \u001b[33m│\u001b[0m \u001b[31m│\u001b[0m\n",
      "\u001b[31m│\u001b[0m \u001b[33m│\u001b[0m                            \u001b[2m│   \u001b[0m\u001b[1m{\u001b[0m                                         \u001b[33m│\u001b[0m \u001b[31m│\u001b[0m\n",
      "\u001b[31m│\u001b[0m \u001b[33m│\u001b[0m                            \u001b[2m│   │   \u001b[0m\u001b[33m'filename'\u001b[0m: \u001b[33m'T1w.json'\u001b[0m,               \u001b[33m│\u001b[0m \u001b[31m│\u001b[0m\n",
      "\u001b[31m│\u001b[0m \u001b[33m│\u001b[0m                            \u001b[2m│   │   \u001b[0m\u001b[33m'urls'\u001b[0m: \u001b[1m[\u001b[0m                             \u001b[33m│\u001b[0m \u001b[31m│\u001b[0m\n",
      "\u001b[31m│\u001b[0m \u001b[33m│\u001b[0m                            \u001b[2m│   │   │   \u001b[0m                                  \u001b[33m│\u001b[0m \u001b[31m│\u001b[0m\n",
      "\u001b[31m│\u001b[0m \u001b[33m│\u001b[0m                            \u001b[33m'https://s3.amazonaws.com/openneuro.org/ds00…\u001b[0m \u001b[33m│\u001b[0m \u001b[31m│\u001b[0m\n",
      "\u001b[31m│\u001b[0m \u001b[33m│\u001b[0m                            \u001b[2m│   │   \u001b[0m\u001b[1m]\u001b[0m,                                    \u001b[33m│\u001b[0m \u001b[31m│\u001b[0m\n",
      "\u001b[31m│\u001b[0m \u001b[33m│\u001b[0m                            \u001b[2m│   │   \u001b[0m\u001b[33m'size'\u001b[0m: \u001b[94m215\u001b[0m,                          \u001b[33m│\u001b[0m \u001b[31m│\u001b[0m\n",
      "\u001b[31m│\u001b[0m \u001b[33m│\u001b[0m                            \u001b[2m│   │   \u001b[0m\u001b[33m'directory'\u001b[0m: \u001b[94mFalse\u001b[0m,                   \u001b[33m│\u001b[0m \u001b[31m│\u001b[0m\n",
      "\u001b[31m│\u001b[0m \u001b[33m│\u001b[0m                            \u001b[2m│   │   \u001b[0m\u001b[33m'id'\u001b[0m:                                 \u001b[33m│\u001b[0m \u001b[31m│\u001b[0m\n",
      "\u001b[31m│\u001b[0m \u001b[33m│\u001b[0m                            \u001b[33m'2e68953fcbe43a203e87b65898d2ed14f2bbab6e'\u001b[0m    \u001b[33m│\u001b[0m \u001b[31m│\u001b[0m\n",
      "\u001b[31m│\u001b[0m \u001b[33m│\u001b[0m                            \u001b[2m│   \u001b[0m\u001b[1m}\u001b[0m,                                        \u001b[33m│\u001b[0m \u001b[31m│\u001b[0m\n",
      "\u001b[31m│\u001b[0m \u001b[33m│\u001b[0m                            \u001b[2m│   \u001b[0m\u001b[1m{\u001b[0m                                         \u001b[33m│\u001b[0m \u001b[31m│\u001b[0m\n",
      "\u001b[31m│\u001b[0m \u001b[33m│\u001b[0m                            \u001b[2m│   │   \u001b[0m\u001b[33m'filename'\u001b[0m: \u001b[33m'participants.tsv'\u001b[0m,       \u001b[33m│\u001b[0m \u001b[31m│\u001b[0m\n",
      "\u001b[31m│\u001b[0m \u001b[33m│\u001b[0m                            \u001b[2m│   │   \u001b[0m\u001b[33m'urls'\u001b[0m: \u001b[1m[\u001b[0m                             \u001b[33m│\u001b[0m \u001b[31m│\u001b[0m\n",
      "\u001b[31m│\u001b[0m \u001b[33m│\u001b[0m                            \u001b[2m│   │   │   \u001b[0m                                  \u001b[33m│\u001b[0m \u001b[31m│\u001b[0m\n",
      "\u001b[31m│\u001b[0m \u001b[33m│\u001b[0m                            \u001b[33m'https://s3.amazonaws.com/openneuro.org/ds00…\u001b[0m \u001b[33m│\u001b[0m \u001b[31m│\u001b[0m\n",
      "\u001b[31m│\u001b[0m \u001b[33m│\u001b[0m                            \u001b[2m│   │   \u001b[0m\u001b[1m]\u001b[0m,                                    \u001b[33m│\u001b[0m \u001b[31m│\u001b[0m\n",
      "\u001b[31m│\u001b[0m \u001b[33m│\u001b[0m                            \u001b[2m│   │   \u001b[0m\u001b[33m'size'\u001b[0m: \u001b[94m1668\u001b[0m,                         \u001b[33m│\u001b[0m \u001b[31m│\u001b[0m\n",
      "\u001b[31m│\u001b[0m \u001b[33m│\u001b[0m                            \u001b[2m│   │   \u001b[0m\u001b[33m'directory'\u001b[0m: \u001b[94mFalse\u001b[0m,                   \u001b[33m│\u001b[0m \u001b[31m│\u001b[0m\n",
      "\u001b[31m│\u001b[0m \u001b[33m│\u001b[0m                            \u001b[2m│   │   \u001b[0m\u001b[33m'id'\u001b[0m:                                 \u001b[33m│\u001b[0m \u001b[31m│\u001b[0m\n",
      "\u001b[31m│\u001b[0m \u001b[33m│\u001b[0m                            \u001b[33m'8bbb678aec82adb20fe97cf80b72b9ee1cfee972'\u001b[0m    \u001b[33m│\u001b[0m \u001b[31m│\u001b[0m\n",
      "\u001b[31m│\u001b[0m \u001b[33m│\u001b[0m                            \u001b[2m│   \u001b[0m\u001b[1m}\u001b[0m,                                        \u001b[33m│\u001b[0m \u001b[31m│\u001b[0m\n",
      "\u001b[31m│\u001b[0m \u001b[33m│\u001b[0m                            \u001b[2m│   \u001b[0m\u001b[1m{\u001b[0m                                         \u001b[33m│\u001b[0m \u001b[31m│\u001b[0m\n",
      "\u001b[31m│\u001b[0m \u001b[33m│\u001b[0m                            \u001b[2m│   │   \u001b[0m\u001b[33m'filename'\u001b[0m: \u001b[33m'task-music_bold.json'\u001b[0m,   \u001b[33m│\u001b[0m \u001b[31m│\u001b[0m\n",
      "\u001b[31m│\u001b[0m \u001b[33m│\u001b[0m                            \u001b[2m│   │   \u001b[0m\u001b[33m'urls'\u001b[0m: \u001b[1m[\u001b[0m                             \u001b[33m│\u001b[0m \u001b[31m│\u001b[0m\n",
      "\u001b[31m│\u001b[0m \u001b[33m│\u001b[0m                            \u001b[2m│   │   │   \u001b[0m                                  \u001b[33m│\u001b[0m \u001b[31m│\u001b[0m\n",
      "\u001b[31m│\u001b[0m \u001b[33m│\u001b[0m                            \u001b[33m'https://s3.amazonaws.com/openneuro.org/ds00…\u001b[0m \u001b[33m│\u001b[0m \u001b[31m│\u001b[0m\n",
      "\u001b[31m│\u001b[0m \u001b[33m│\u001b[0m                            \u001b[2m│   │   \u001b[0m\u001b[1m]\u001b[0m,                                    \u001b[33m│\u001b[0m \u001b[31m│\u001b[0m\n",
      "\u001b[31m│\u001b[0m \u001b[33m│\u001b[0m                            \u001b[2m│   │   \u001b[0m\u001b[33m'size'\u001b[0m: \u001b[94m720\u001b[0m,                          \u001b[33m│\u001b[0m \u001b[31m│\u001b[0m\n",
      "\u001b[31m│\u001b[0m \u001b[33m│\u001b[0m                            \u001b[2m│   │   \u001b[0m\u001b[33m'directory'\u001b[0m: \u001b[94mFalse\u001b[0m,                   \u001b[33m│\u001b[0m \u001b[31m│\u001b[0m\n",
      "\u001b[31m│\u001b[0m \u001b[33m│\u001b[0m                            \u001b[2m│   │   \u001b[0m\u001b[33m'id'\u001b[0m:                                 \u001b[33m│\u001b[0m \u001b[31m│\u001b[0m\n",
      "\u001b[31m│\u001b[0m \u001b[33m│\u001b[0m                            \u001b[33m'a42272920a5ba36c12fbd70657c9098ebad18bd1'\u001b[0m    \u001b[33m│\u001b[0m \u001b[31m│\u001b[0m\n",
      "\u001b[31m│\u001b[0m \u001b[33m│\u001b[0m                            \u001b[2m│   \u001b[0m\u001b[1m}\u001b[0m,                                        \u001b[33m│\u001b[0m \u001b[31m│\u001b[0m\n",
      "\u001b[31m│\u001b[0m \u001b[33m│\u001b[0m                            \u001b[2m│   \u001b[0m\u001b[1m{\u001b[0m                                         \u001b[33m│\u001b[0m \u001b[31m│\u001b[0m\n",
      "\u001b[31m│\u001b[0m \u001b[33m│\u001b[0m                            \u001b[2m│   │   \u001b[0m\u001b[33m'filename'\u001b[0m:                           \u001b[33m│\u001b[0m \u001b[31m│\u001b[0m\n",
      "\u001b[31m│\u001b[0m \u001b[33m│\u001b[0m                            \u001b[33m'task-nonmusic_bold.json'\u001b[0m,                    \u001b[33m│\u001b[0m \u001b[31m│\u001b[0m\n",
      "\u001b[31m│\u001b[0m \u001b[33m│\u001b[0m                            \u001b[2m│   │   \u001b[0m\u001b[33m'urls'\u001b[0m: \u001b[1m[\u001b[0m                             \u001b[33m│\u001b[0m \u001b[31m│\u001b[0m\n",
      "\u001b[31m│\u001b[0m \u001b[33m│\u001b[0m                            \u001b[2m│   │   │   \u001b[0m                                  \u001b[33m│\u001b[0m \u001b[31m│\u001b[0m\n",
      "\u001b[31m│\u001b[0m \u001b[33m│\u001b[0m                            \u001b[33m'https://s3.amazonaws.com/openneuro.org/ds00…\u001b[0m \u001b[33m│\u001b[0m \u001b[31m│\u001b[0m\n",
      "\u001b[31m│\u001b[0m \u001b[33m│\u001b[0m                            \u001b[2m│   │   \u001b[0m\u001b[1m]\u001b[0m,                                    \u001b[33m│\u001b[0m \u001b[31m│\u001b[0m\n",
      "\u001b[31m│\u001b[0m \u001b[33m│\u001b[0m                            \u001b[2m│   │   \u001b[0m\u001b[33m'size'\u001b[0m: \u001b[94m723\u001b[0m,                          \u001b[33m│\u001b[0m \u001b[31m│\u001b[0m\n",
      "\u001b[31m│\u001b[0m \u001b[33m│\u001b[0m                            \u001b[2m│   │   \u001b[0m\u001b[33m'directory'\u001b[0m: \u001b[94mFalse\u001b[0m,                   \u001b[33m│\u001b[0m \u001b[31m│\u001b[0m\n",
      "\u001b[31m│\u001b[0m \u001b[33m│\u001b[0m                            \u001b[2m│   │   \u001b[0m\u001b[33m'id'\u001b[0m:                                 \u001b[33m│\u001b[0m \u001b[31m│\u001b[0m\n",
      "\u001b[31m│\u001b[0m \u001b[33m│\u001b[0m                            \u001b[33m'231c9df0c7508b5b1f6731388045a4acf49137b2'\u001b[0m    \u001b[33m│\u001b[0m \u001b[31m│\u001b[0m\n",
      "\u001b[31m│\u001b[0m \u001b[33m│\u001b[0m                            \u001b[2m│   \u001b[0m\u001b[1m}\u001b[0m,                                        \u001b[33m│\u001b[0m \u001b[31m│\u001b[0m\n",
      "\u001b[31m│\u001b[0m \u001b[33m│\u001b[0m                            \u001b[2m│   \u001b[0m\u001b[1m{\u001b[0m                                         \u001b[33m│\u001b[0m \u001b[31m│\u001b[0m\n",
      "\u001b[31m│\u001b[0m \u001b[33m│\u001b[0m                            \u001b[2m│   │   \u001b[0m\u001b[33m'filename'\u001b[0m: \u001b[33m'sub-control01'\u001b[0m,          \u001b[33m│\u001b[0m \u001b[31m│\u001b[0m\n",
      "\u001b[31m│\u001b[0m \u001b[33m│\u001b[0m                            \u001b[2m│   │   \u001b[0m\u001b[33m'urls'\u001b[0m: \u001b[1m[\u001b[0m\u001b[1m]\u001b[0m,                           \u001b[33m│\u001b[0m \u001b[31m│\u001b[0m\n",
      "\u001b[31m│\u001b[0m \u001b[33m│\u001b[0m                            \u001b[2m│   │   \u001b[0m\u001b[33m'size'\u001b[0m: \u001b[94m0\u001b[0m,                            \u001b[33m│\u001b[0m \u001b[31m│\u001b[0m\n",
      "\u001b[31m│\u001b[0m \u001b[33m│\u001b[0m                            \u001b[2m│   │   \u001b[0m\u001b[33m'directory'\u001b[0m: \u001b[94mTrue\u001b[0m,                    \u001b[33m│\u001b[0m \u001b[31m│\u001b[0m\n",
      "\u001b[31m│\u001b[0m \u001b[33m│\u001b[0m                            \u001b[2m│   │   \u001b[0m\u001b[33m'id'\u001b[0m:                                 \u001b[33m│\u001b[0m \u001b[31m���\u001b[0m\n",
      "\u001b[31m│\u001b[0m \u001b[33m│\u001b[0m                            \u001b[33m'76c47218cf01324ff5f2cc0c4dc57a3f5349f4a1'\u001b[0m    \u001b[33m│\u001b[0m \u001b[31m│\u001b[0m\n",
      "\u001b[31m│\u001b[0m \u001b[33m│\u001b[0m                            \u001b[2m│   \u001b[0m\u001b[1m}\u001b[0m,                                        \u001b[33m│\u001b[0m \u001b[31m│\u001b[0m\n",
      "\u001b[31m│\u001b[0m \u001b[33m│\u001b[0m                            \u001b[2m│   \u001b[0m\u001b[1m{\u001b[0m                                         \u001b[33m│\u001b[0m \u001b[31m│\u001b[0m\n",
      "\u001b[31m│\u001b[0m \u001b[33m│\u001b[0m                            \u001b[2m│   │   \u001b[0m\u001b[33m'filename'\u001b[0m: \u001b[33m'sub-control02'\u001b[0m,          \u001b[33m│\u001b[0m \u001b[31m│\u001b[0m\n",
      "\u001b[31m│\u001b[0m \u001b[33m│\u001b[0m                            \u001b[2m│   │   \u001b[0m\u001b[33m'urls'\u001b[0m: \u001b[1m[\u001b[0m\u001b[1m]\u001b[0m,                           \u001b[33m│\u001b[0m \u001b[31m│\u001b[0m\n",
      "\u001b[31m│\u001b[0m \u001b[33m│\u001b[0m                            \u001b[2m│   │   \u001b[0m\u001b[33m'size'\u001b[0m: \u001b[94m0\u001b[0m,                            \u001b[33m│\u001b[0m \u001b[31m│\u001b[0m\n",
      "\u001b[31m│\u001b[0m \u001b[33m│\u001b[0m                            \u001b[2m│   │   \u001b[0m\u001b[33m'directory'\u001b[0m: \u001b[94mTrue\u001b[0m,                    \u001b[33m│\u001b[0m \u001b[31m│\u001b[0m\n",
      "\u001b[31m│\u001b[0m \u001b[33m│\u001b[0m                            \u001b[2m│   │   \u001b[0m\u001b[33m'id'\u001b[0m:                                 \u001b[33m│\u001b[0m \u001b[31m│\u001b[0m\n",
      "\u001b[31m│\u001b[0m \u001b[33m│\u001b[0m                            \u001b[33m'a28f358a61363d28d2298b71ae1cdaec030801eb'\u001b[0m    \u001b[33m│\u001b[0m \u001b[31m│\u001b[0m\n",
      "\u001b[31m│\u001b[0m \u001b[33m│\u001b[0m                            \u001b[2m│   \u001b[0m\u001b[1m}\u001b[0m,                                        \u001b[33m│\u001b[0m \u001b[31m│\u001b[0m\n",
      "\u001b[31m│\u001b[0m \u001b[33m│\u001b[0m                            \u001b[2m│   \u001b[0m\u001b[1m{\u001b[0m                                         \u001b[33m│\u001b[0m \u001b[31m│\u001b[0m\n",
      "\u001b[31m│\u001b[0m \u001b[33m│\u001b[0m                            \u001b[2m│   │   \u001b[0m\u001b[33m'filename'\u001b[0m: \u001b[33m'sub-control03'\u001b[0m,          \u001b[33m│\u001b[0m \u001b[31m│\u001b[0m\n",
      "\u001b[31m│\u001b[0m \u001b[33m│\u001b[0m                            \u001b[2m│   │   \u001b[0m\u001b[33m'urls'\u001b[0m: \u001b[1m[\u001b[0m\u001b[1m]\u001b[0m,                           \u001b[33m│\u001b[0m \u001b[31m│\u001b[0m\n",
      "\u001b[31m│\u001b[0m \u001b[33m│\u001b[0m                            \u001b[2m│   │   \u001b[0m\u001b[33m'size'\u001b[0m: \u001b[94m0\u001b[0m,                            \u001b[33m│\u001b[0m \u001b[31m│\u001b[0m\n",
      "\u001b[31m│\u001b[0m \u001b[33m│\u001b[0m                            \u001b[2m│   │   \u001b[0m\u001b[33m'directory'\u001b[0m: \u001b[94mTrue\u001b[0m,                    \u001b[33m│\u001b[0m \u001b[31m│\u001b[0m\n",
      "\u001b[31m│\u001b[0m \u001b[33m│\u001b[0m                            \u001b[2m│   │   \u001b[0m\u001b[33m'id'\u001b[0m:                                 \u001b[33m│\u001b[0m \u001b[31m│\u001b[0m\n",
      "\u001b[31m│\u001b[0m \u001b[33m│\u001b[0m                            \u001b[33m'72a10b497485c743855314e0a44e563e00cfdc06'\u001b[0m    \u001b[33m│\u001b[0m \u001b[31m│\u001b[0m\n",
      "\u001b[31m│\u001b[0m \u001b[33m│\u001b[0m                            \u001b[2m│   \u001b[0m\u001b[1m}\u001b[0m,                                        \u001b[33m│\u001b[0m \u001b[31m│\u001b[0m\n",
      "\u001b[31m│\u001b[0m \u001b[33m│\u001b[0m                            \u001b[2m│   \u001b[0m\u001b[33m...\u001b[0m +\u001b[94m36\u001b[0m                                   \u001b[33m│\u001b[0m \u001b[31m│\u001b[0m\n",
      "\u001b[31m│\u001b[0m \u001b[33m│\u001b[0m                            \u001b[1m]\u001b[0m                                             \u001b[33m│\u001b[0m \u001b[31m│\u001b[0m\n",
      "\u001b[31m│\u001b[0m \u001b[33m│\u001b[0m                     this = \u001b[33m'sub-001'\u001b[0m                                     \u001b[33m│\u001b[0m \u001b[31m│\u001b[0m\n",
      "\u001b[31m│\u001b[0m \u001b[33m│\u001b[0m              verify_hash = \u001b[94mTrue\u001b[0m                                          \u001b[33m│\u001b[0m \u001b[31m│\u001b[0m\n",
      "\u001b[31m│\u001b[0m \u001b[33m│\u001b[0m              verify_size = \u001b[94mTrue\u001b[0m                                          \u001b[33m│\u001b[0m \u001b[31m│\u001b[0m\n",
      "\u001b[31m│\u001b[0m \u001b[33m╰──────────────────────────────────────────────────────────────────────────╯\u001b[0m \u001b[31m│\u001b[0m\n",
      "\u001b[31m╰──────────────────────────────────────────────────────────────────────────────╯\u001b[0m\n",
      "\u001b[1;91mRuntimeError: \u001b[0mCould not find path in the dataset:\n",
      "- sub-\u001b[1;36m001\u001b[0m\n",
      "There were no similar filenames found in the metadata. Please check your \n",
      "includes.\n"
     ]
    },
    {
     "ename": "CalledProcessError",
     "evalue": "Command '['openneuro-py', 'download', '--dataset', 'ds000171', '--target-dir', '/home/jovyan/Data/dataset/ds000171', '--include', 'sub-001']' returned non-zero exit status 1.",
     "output_type": "error",
     "traceback": [
      "\u001b[0;31m---------------------------------------------------------------------------\u001b[0m",
      "\u001b[0;31mCalledProcessError\u001b[0m                        Traceback (most recent call last)",
      "Cell \u001b[0;32mIn[27], line 18\u001b[0m\n\u001b[1;32m     15\u001b[0m mkdir_no_exist(preproc_root_demo)\n\u001b[1;32m     17\u001b[0m \u001b[38;5;66;03m# Download the dataset\u001b[39;00m\n\u001b[0;32m---> 18\u001b[0m \u001b[43msubprocess\u001b[49m\u001b[38;5;241;43m.\u001b[39;49m\u001b[43mrun\u001b[49m\u001b[43m(\u001b[49m\u001b[43m[\u001b[49m\n\u001b[1;32m     19\u001b[0m \u001b[43m    \u001b[49m\u001b[38;5;124;43m\"\u001b[39;49m\u001b[38;5;124;43mopenneuro-py\u001b[39;49m\u001b[38;5;124;43m\"\u001b[39;49m\u001b[43m,\u001b[49m\n\u001b[1;32m     20\u001b[0m \u001b[43m    \u001b[49m\u001b[38;5;124;43m\"\u001b[39;49m\u001b[38;5;124;43mdownload\u001b[39;49m\u001b[38;5;124;43m\"\u001b[39;49m\u001b[43m,\u001b[49m\n\u001b[1;32m     21\u001b[0m \u001b[43m    \u001b[49m\u001b[38;5;124;43m\"\u001b[39;49m\u001b[38;5;124;43m--dataset\u001b[39;49m\u001b[38;5;124;43m\"\u001b[39;49m\u001b[43m,\u001b[49m\u001b[43m \u001b[49m\u001b[43mdataset_demo\u001b[49m\u001b[43m,\u001b[49m\n\u001b[1;32m     22\u001b[0m \u001b[43m    \u001b[49m\u001b[38;5;124;43m\"\u001b[39;49m\u001b[38;5;124;43m--target-dir\u001b[39;49m\u001b[38;5;124;43m\"\u001b[39;49m\u001b[43m,\u001b[49m\u001b[43m \u001b[49m\u001b[43mbids_root_demo\u001b[49m\u001b[43m,\u001b[49m\n\u001b[1;32m     23\u001b[0m \u001b[43m    \u001b[49m\u001b[38;5;124;43m\"\u001b[39;49m\u001b[38;5;124;43m--include\u001b[39;49m\u001b[38;5;124;43m\"\u001b[39;49m\u001b[43m,\u001b[49m\u001b[43m \u001b[49m\u001b[38;5;124;43mf\u001b[39;49m\u001b[38;5;124;43m'\u001b[39;49m\u001b[38;5;124;43msub-\u001b[39;49m\u001b[38;5;132;43;01m{\u001b[39;49;00m\u001b[43msubject_demo\u001b[49m\u001b[38;5;132;43;01m}\u001b[39;49;00m\u001b[38;5;124;43m'\u001b[39;49m\n\u001b[1;32m     24\u001b[0m \u001b[43m]\u001b[49m\u001b[43m,\u001b[49m\u001b[43m \u001b[49m\u001b[43mcheck\u001b[49m\u001b[38;5;241;43m=\u001b[39;49m\u001b[38;5;28;43;01mTrue\u001b[39;49;00m\u001b[43m)\u001b[49m\n",
      "File \u001b[0;32m/opt/conda/lib/python3.11/subprocess.py:571\u001b[0m, in \u001b[0;36mrun\u001b[0;34m(input, capture_output, timeout, check, *popenargs, **kwargs)\u001b[0m\n\u001b[1;32m    569\u001b[0m     retcode \u001b[38;5;241m=\u001b[39m process\u001b[38;5;241m.\u001b[39mpoll()\n\u001b[1;32m    570\u001b[0m     \u001b[38;5;28;01mif\u001b[39;00m check \u001b[38;5;129;01mand\u001b[39;00m retcode:\n\u001b[0;32m--> 571\u001b[0m         \u001b[38;5;28;01mraise\u001b[39;00m CalledProcessError(retcode, process\u001b[38;5;241m.\u001b[39margs,\n\u001b[1;32m    572\u001b[0m                                  output\u001b[38;5;241m=\u001b[39mstdout, stderr\u001b[38;5;241m=\u001b[39mstderr)\n\u001b[1;32m    573\u001b[0m \u001b[38;5;28;01mreturn\u001b[39;00m CompletedProcess(process\u001b[38;5;241m.\u001b[39margs, retcode, stdout, stderr)\n",
      "\u001b[0;31mCalledProcessError\u001b[0m: Command '['openneuro-py', 'download', '--dataset', 'ds000171', '--target-dir', '/home/jovyan/Data/dataset/ds000171', '--include', 'sub-001']' returned non-zero exit status 1."
     ]
    }
   ],
   "source": [
    "import subprocess\n",
    "dataset_demo = 'ds000171'\n",
    "subject_demo = '001'\n",
    "\n",
    "# Define paths\n",
    "sample_path = \"/home/jovyan/Data/dataset\"\n",
    "mkdir_no_exist(sample_path)\n",
    "\n",
    "# Set BIDS and preprocessed root directories\n",
    "bids_root_demo = op.join(os.path.abspath(\"\"), sample_path, dataset_demo)\n",
    "preproc_root_demo = op.join(bids_root_demo, 'derivatives')\n",
    "\n",
    "# Create the necessary directories\n",
    "mkdir_no_exist(bids_root_demo)\n",
    "mkdir_no_exist(preproc_root_demo)\n",
    "\n",
    "# Download the dataset\n",
    "subprocess.run([\n",
    "    \"openneuro-py\",\n",
    "    \"download\",\n",
    "    \"--dataset\", dataset_demo,\n",
    "    \"--target-dir\", bids_root_demo,\n",
    "    \"--include\", f'sub-{subject_demo}'\n",
    "], check=True)"
   ]
  },
  {
   "cell_type": "code",
   "execution_count": null,
   "id": "3021ca63-267f-45c3-9233-9388d6e7aac7",
   "metadata": {},
   "outputs": [],
   "source": [
    "import subprocess\n",
    "dataset_demo = 'ds000114'\n",
    "subject_demo = '01'\n",
    "\n",
    "sample_path = \"/home/jovyan/Data/dataset\"\n",
    "mkdir_no_exist(sample_path)\n",
    "\n",
    "# Download one subject's data from each dataset\n",
    "bids_root_demo = op.join(os.path.abspath(\"\"),sample_path, dataset_demo)\n",
    "preproc_root_demo = op.join(bids_root_demo, 'derivatives')\n",
    "\n",
    "subprocess.run([\"openneuro-py\", \"download\", \"--dataset\", dataset_demo, \"--target-dir\", bids_root_demo, \"--include\", 'sub-{}'.format(subject_demo)], check=True)"
   ]
  },
  {
   "cell_type": "code",
   "execution_count": null,
   "id": "f5e5220a-3c42-43bb-8b80-3f254ccffdd0",
   "metadata": {},
   "outputs": [],
   "source": [
    "file_to_trim = glob.glob(op.join(bids_root_demo, 'sub-01', 'ses-test', 'func', 'sub-01_ses-test_task-fingerfootlips_bold.nii.gz'))[0]\n",
    "mkdir_no_exist(preproc_root_demo)\n",
    "mkdir_no_exist(op.join(preproc_root_demo, 'sub-01'))\n",
    "mkdir_no_exist(op.join(preproc_root_demo, 'sub-01', 'ses-test'))\n",
    "mkdir_no_exist(op.join(preproc_root_demo, 'sub-01', 'ses-test','func'))\n",
    "output_target = op.join(preproc_root_demo, 'sub-01', 'ses-test', 'func', 'sub-01_ses-test_task-fingerfootlips_bold_settled.nii.gz')\n",
    "\n",
    "############################\n",
    "# Solution\n",
    "# We will start from the 10th volume.\n",
    "# Because we start at 0, we begin at the 11th volume, excluding 10 volumes: we should start at number 10.\n",
    "# There are 184 volumes. We remove 11 volumes, so we're left with 174 volumes.\n",
    "###########################\n",
    "\n",
    "# For this, knowing that there are originally 184 volumes and that you want to throw away the first 10, please fill in\n",
    "# the following variables\n",
    "start_vol = 10 # Where should we start? (First volume is 0, not 1 !)\n",
    "number_of_volumes = 174 # How many volumes should we keep?\n",
    "\n",
    "fslroi(file_to_trim, output_target, str(start_vol), str(number_of_volumes))"
   ]
  },
  {
   "cell_type": "code",
   "execution_count": null,
   "id": "06d7b403-505f-4215-81bc-9d32fa77dfe1",
   "metadata": {},
   "outputs": [],
   "source": [
    "import os\n",
    "import os.path as op\n",
    "import glob\n",
    "from nipype.interfaces.fsl import FAST\n",
    "\n",
    "def run_fast_on_brain_extracted_image(bids_root, preproc_root, subject_id):\n",
    "    \n",
    "    # Define paths based on your dataset structure\n",
    "    subject = f'sub-{subject_id}'  # For example: sub-001\n",
    "    anatomical_path = op.join(bids_root, subject, 'anat', f'{subject}_T1w.nii.gz')  # Original T1-weighted image\n",
    "    bet_path = op.join(preproc_root, subject, 'anat', f'{subject}_T1w')  # Skull-stripped brain\n",
    "\n",
    "    # Define the output path for FAST segmentation\n",
    "    segmentation_path = op.join(preproc_root, subject, 'anat', f'{subject}_T1w_fast')\n",
    "\n",
    "    # Clean up any previous FAST output files in the directory\n",
    "    [os.remove(f) for f in glob.glob(op.join(preproc_root, subject, 'anat', '*fast*'))]\n",
    "\n",
    "    # Run FAST on the brain-extracted image\n",
    "    fast = FAST()\n",
    "    fast.inputs.in_files = bet_path  # Use the BET output as input\n",
    "    fast.inputs.out_basename = segmentation_path  # Output basename for FAST\n",
    "    fast.inputs.n_classes = 3  # Number of tissue classes to segment\n",
    "    fast.run()  # Execute the segmentation\n",
    "\n",
    "    print(\"FAST segmentation complete.\")\n",
    "\n",
    "# Example call\n",
    "run_fast_on_brain_extracted_image(bids_root, preproc_root, \"001\")  # Replace \"001\" with the correct subject ID\n"
   ]
  }
 ],
 "metadata": {
  "kernelspec": {
   "display_name": "Python 3 (ipykernel)",
   "language": "python",
   "name": "python3"
  },
  "language_info": {
   "codemirror_mode": {
    "name": "ipython",
    "version": 3
   },
   "file_extension": ".py",
   "mimetype": "text/x-python",
   "name": "python",
   "nbconvert_exporter": "python",
   "pygments_lexer": "ipython3",
   "version": "3.11.6"
  }
 },
 "nbformat": 4,
 "nbformat_minor": 5
}
